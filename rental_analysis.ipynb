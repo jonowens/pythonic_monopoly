{
 "cells": [
  {
   "cell_type": "markdown",
   "metadata": {},
   "source": [
    "# San Francisco Housing Rental Analysis\n",
    "\n",
    "In this assignment, you will perform basic analysis for the San Francisco Housing Market to allow potential real estate investors to choose rental investment properties. "
   ]
  },
  {
   "cell_type": "code",
   "execution_count": 39,
   "metadata": {},
   "outputs": [],
   "source": [
    "# initial imports\n",
    "import os\n",
    "import pandas as pd\n",
    "import matplotlib.pyplot as plt\n",
    "import plotly.express as px\n",
    "import hvplot.pandas\n",
    "from pathlib import Path\n",
    "from dotenv import load_dotenv\n"
   ]
  },
  {
   "cell_type": "code",
   "execution_count": 40,
   "metadata": {},
   "outputs": [],
   "source": [
    "# Read the Mapbox API key\n",
    "load_dotenv()\n",
    "mapbox_token = os.getenv(\"MAPBOX_API_KEY\")\n",
    "\n",
    "# Set the Mapbox API\n",
    "px.set_mapbox_access_token(mapbox_token)\n"
   ]
  },
  {
   "cell_type": "markdown",
   "metadata": {},
   "source": [
    "## Load Data"
   ]
  },
  {
   "cell_type": "code",
   "execution_count": 41,
   "metadata": {},
   "outputs": [
    {
     "output_type": "execute_result",
     "data": {
      "text/plain": [
       "          neighborhood  sale_price_sqr_foot  housing_units  gross_rent\n",
       "year                                                                  \n",
       "2010      Alamo Square           291.182945         372560        1239\n",
       "2010        Anza Vista           267.932583         372560        1239\n",
       "2010           Bayview           170.098665         372560        1239\n",
       "2010  Buena Vista Park           347.394919         372560        1239\n",
       "2010  Central Richmond           319.027623         372560        1239"
      ],
      "text/html": "<div>\n<style scoped>\n    .dataframe tbody tr th:only-of-type {\n        vertical-align: middle;\n    }\n\n    .dataframe tbody tr th {\n        vertical-align: top;\n    }\n\n    .dataframe thead th {\n        text-align: right;\n    }\n</style>\n<table border=\"1\" class=\"dataframe\">\n  <thead>\n    <tr style=\"text-align: right;\">\n      <th></th>\n      <th>neighborhood</th>\n      <th>sale_price_sqr_foot</th>\n      <th>housing_units</th>\n      <th>gross_rent</th>\n    </tr>\n    <tr>\n      <th>year</th>\n      <th></th>\n      <th></th>\n      <th></th>\n      <th></th>\n    </tr>\n  </thead>\n  <tbody>\n    <tr>\n      <th>2010</th>\n      <td>Alamo Square</td>\n      <td>291.182945</td>\n      <td>372560</td>\n      <td>1239</td>\n    </tr>\n    <tr>\n      <th>2010</th>\n      <td>Anza Vista</td>\n      <td>267.932583</td>\n      <td>372560</td>\n      <td>1239</td>\n    </tr>\n    <tr>\n      <th>2010</th>\n      <td>Bayview</td>\n      <td>170.098665</td>\n      <td>372560</td>\n      <td>1239</td>\n    </tr>\n    <tr>\n      <th>2010</th>\n      <td>Buena Vista Park</td>\n      <td>347.394919</td>\n      <td>372560</td>\n      <td>1239</td>\n    </tr>\n    <tr>\n      <th>2010</th>\n      <td>Central Richmond</td>\n      <td>319.027623</td>\n      <td>372560</td>\n      <td>1239</td>\n    </tr>\n  </tbody>\n</table>\n</div>"
     },
     "metadata": {},
     "execution_count": 41
    }
   ],
   "source": [
    "# Read the census data into a Pandas DataFrame\n",
    "file_path = Path(\"Data/sfo_neighborhoods_census_data.csv\")\n",
    "sfo_data = pd.read_csv(file_path, index_col=\"year\")\n",
    "sfo_data.head()"
   ]
  },
  {
   "cell_type": "markdown",
   "metadata": {},
   "source": [
    "- - - "
   ]
  },
  {
   "cell_type": "markdown",
   "metadata": {},
   "source": [
    "## Housing Units Per Year\n",
    "\n",
    "In this section, you will calculate the number of housing units per year and visualize the results as a bar chart using the Pandas plot function. \n",
    "\n",
    "Hint: Use the Pandas groupby function\n",
    "\n",
    "Optional challenge: Use the min, max, and std to scale the y limits of the chart."
   ]
  },
  {
   "cell_type": "code",
   "execution_count": 42,
   "metadata": {},
   "outputs": [
    {
     "output_type": "execute_result",
     "data": {
      "text/plain": [
       "year\n",
       "2010    372560\n",
       "2011    374507\n",
       "2012    376454\n",
       "2013    378401\n",
       "2014    380348\n",
       "2015    382295\n",
       "2016    384242\n",
       "Name: housing_units, dtype: int64"
      ]
     },
     "metadata": {},
     "execution_count": 42
    }
   ],
   "source": [
    "# Calculate the mean number of housing units per year (hint: use groupby) \n",
    "sfo_data_group = sfo_data.groupby(['year']).mean()\n",
    "sfo_data_housing_units = sfo_data_group['housing_units']\n",
    "sfo_data_housing_units\n"
   ]
  },
  {
   "cell_type": "code",
   "execution_count": 45,
   "metadata": {},
   "outputs": [
    {
     "output_type": "error",
     "ename": "TypeError",
     "evalue": "int() argument must be a string, a bytes-like object or a number, not 'Int64Index'",
     "traceback": [
      "\u001b[1;31m---------------------------------------------------------------------------\u001b[0m",
      "\u001b[1;31mTypeError\u001b[0m                                 Traceback (most recent call last)",
      "\u001b[1;32m<ipython-input-45-80862256ccb6>\u001b[0m in \u001b[0;36m<module>\u001b[1;34m\u001b[0m\n\u001b[0;32m     16\u001b[0m     \u001b[0mtitle\u001b[0m\u001b[1;33m=\u001b[0m\u001b[1;34m'Housing Units in San Francisco from 2010 to 2016'\u001b[0m\u001b[1;33m,\u001b[0m\u001b[1;33m\u001b[0m\u001b[1;33m\u001b[0m\u001b[0m\n\u001b[0;32m     17\u001b[0m     \u001b[0mxlabel\u001b[0m\u001b[1;33m=\u001b[0m\u001b[1;34m'Year'\u001b[0m\u001b[1;33m,\u001b[0m\u001b[1;33m\u001b[0m\u001b[1;33m\u001b[0m\u001b[0m\n\u001b[1;32m---> 18\u001b[1;33m     \u001b[0mylabel\u001b[0m\u001b[1;33m=\u001b[0m\u001b[1;34m'Housing Units'\u001b[0m\u001b[1;33m\u001b[0m\u001b[1;33m\u001b[0m\u001b[0m\n\u001b[0m\u001b[0;32m     19\u001b[0m     ).figure(figsize=(8, 5))\n\u001b[0;32m     20\u001b[0m \u001b[1;33m\u001b[0m\u001b[0m\n",
      "\u001b[1;32m~\\anaconda3\\envs\\pyvizenv\\lib\\site-packages\\matplotlib\\pyplot.py\u001b[0m in \u001b[0;36msubplot\u001b[1;34m(*args, **kwargs)\u001b[0m\n\u001b[0;32m   1124\u001b[0m \u001b[1;33m\u001b[0m\u001b[0m\n\u001b[0;32m   1125\u001b[0m     \u001b[0mfig\u001b[0m \u001b[1;33m=\u001b[0m \u001b[0mgcf\u001b[0m\u001b[1;33m(\u001b[0m\u001b[1;33m)\u001b[0m\u001b[1;33m\u001b[0m\u001b[1;33m\u001b[0m\u001b[0m\n\u001b[1;32m-> 1126\u001b[1;33m     \u001b[0max\u001b[0m \u001b[1;33m=\u001b[0m \u001b[0mfig\u001b[0m\u001b[1;33m.\u001b[0m\u001b[0madd_subplot\u001b[0m\u001b[1;33m(\u001b[0m\u001b[1;33m*\u001b[0m\u001b[0margs\u001b[0m\u001b[1;33m,\u001b[0m \u001b[1;33m**\u001b[0m\u001b[0mkwargs\u001b[0m\u001b[1;33m)\u001b[0m\u001b[1;33m\u001b[0m\u001b[1;33m\u001b[0m\u001b[0m\n\u001b[0m\u001b[0;32m   1127\u001b[0m     \u001b[0mbbox\u001b[0m \u001b[1;33m=\u001b[0m \u001b[0max\u001b[0m\u001b[1;33m.\u001b[0m\u001b[0mbbox\u001b[0m\u001b[1;33m\u001b[0m\u001b[1;33m\u001b[0m\u001b[0m\n\u001b[0;32m   1128\u001b[0m     \u001b[0maxes_to_delete\u001b[0m \u001b[1;33m=\u001b[0m \u001b[1;33m[\u001b[0m\u001b[1;33m]\u001b[0m\u001b[1;33m\u001b[0m\u001b[1;33m\u001b[0m\u001b[0m\n",
      "\u001b[1;32m~\\anaconda3\\envs\\pyvizenv\\lib\\site-packages\\matplotlib\\figure.py\u001b[0m in \u001b[0;36madd_subplot\u001b[1;34m(self, *args, **kwargs)\u001b[0m\n\u001b[0;32m   1400\u001b[0m                     \u001b[1;31m# more similar to add_axes.\u001b[0m\u001b[1;33m\u001b[0m\u001b[1;33m\u001b[0m\u001b[1;33m\u001b[0m\u001b[0m\n\u001b[0;32m   1401\u001b[0m                     \u001b[0mself\u001b[0m\u001b[1;33m.\u001b[0m\u001b[0m_axstack\u001b[0m\u001b[1;33m.\u001b[0m\u001b[0mremove\u001b[0m\u001b[1;33m(\u001b[0m\u001b[0max\u001b[0m\u001b[1;33m)\u001b[0m\u001b[1;33m\u001b[0m\u001b[1;33m\u001b[0m\u001b[0m\n\u001b[1;32m-> 1402\u001b[1;33m             \u001b[0max\u001b[0m \u001b[1;33m=\u001b[0m \u001b[0msubplot_class_factory\u001b[0m\u001b[1;33m(\u001b[0m\u001b[0mprojection_class\u001b[0m\u001b[1;33m)\u001b[0m\u001b[1;33m(\u001b[0m\u001b[0mself\u001b[0m\u001b[1;33m,\u001b[0m \u001b[1;33m*\u001b[0m\u001b[0margs\u001b[0m\u001b[1;33m,\u001b[0m \u001b[1;33m**\u001b[0m\u001b[0mkwargs\u001b[0m\u001b[1;33m)\u001b[0m\u001b[1;33m\u001b[0m\u001b[1;33m\u001b[0m\u001b[0m\n\u001b[0m\u001b[0;32m   1403\u001b[0m \u001b[1;33m\u001b[0m\u001b[0m\n\u001b[0;32m   1404\u001b[0m         \u001b[1;32mreturn\u001b[0m \u001b[0mself\u001b[0m\u001b[1;33m.\u001b[0m\u001b[0m_add_axes_internal\u001b[0m\u001b[1;33m(\u001b[0m\u001b[0mkey\u001b[0m\u001b[1;33m,\u001b[0m \u001b[0max\u001b[0m\u001b[1;33m)\u001b[0m\u001b[1;33m\u001b[0m\u001b[1;33m\u001b[0m\u001b[0m\n",
      "\u001b[1;32m~\\anaconda3\\envs\\pyvizenv\\lib\\site-packages\\matplotlib\\axes\\_subplots.py\u001b[0m in \u001b[0;36m__init__\u001b[1;34m(self, fig, *args, **kwargs)\u001b[0m\n\u001b[0;32m     37\u001b[0m \u001b[1;33m\u001b[0m\u001b[0m\n\u001b[0;32m     38\u001b[0m         \u001b[0mself\u001b[0m\u001b[1;33m.\u001b[0m\u001b[0mfigure\u001b[0m \u001b[1;33m=\u001b[0m \u001b[0mfig\u001b[0m\u001b[1;33m\u001b[0m\u001b[1;33m\u001b[0m\u001b[0m\n\u001b[1;32m---> 39\u001b[1;33m         \u001b[0mself\u001b[0m\u001b[1;33m.\u001b[0m\u001b[0m_subplotspec\u001b[0m \u001b[1;33m=\u001b[0m \u001b[0mSubplotSpec\u001b[0m\u001b[1;33m.\u001b[0m\u001b[0m_from_subplot_args\u001b[0m\u001b[1;33m(\u001b[0m\u001b[0mfig\u001b[0m\u001b[1;33m,\u001b[0m \u001b[0margs\u001b[0m\u001b[1;33m)\u001b[0m\u001b[1;33m\u001b[0m\u001b[1;33m\u001b[0m\u001b[0m\n\u001b[0m\u001b[0;32m     40\u001b[0m         \u001b[0mself\u001b[0m\u001b[1;33m.\u001b[0m\u001b[0mupdate_params\u001b[0m\u001b[1;33m(\u001b[0m\u001b[1;33m)\u001b[0m\u001b[1;33m\u001b[0m\u001b[1;33m\u001b[0m\u001b[0m\n\u001b[0;32m     41\u001b[0m         \u001b[1;31m# _axes_class is set in the subplot_class_factory\u001b[0m\u001b[1;33m\u001b[0m\u001b[1;33m\u001b[0m\u001b[1;33m\u001b[0m\u001b[0m\n",
      "\u001b[1;32m~\\anaconda3\\envs\\pyvizenv\\lib\\site-packages\\matplotlib\\gridspec.py\u001b[0m in \u001b[0;36m_from_subplot_args\u001b[1;34m(figure, args)\u001b[0m\n\u001b[0;32m    673\u001b[0m             \u001b[1;32mif\u001b[0m \u001b[1;32mnot\u001b[0m \u001b[1;33m(\u001b[0m\u001b[0misinstance\u001b[0m\u001b[1;33m(\u001b[0m\u001b[0mrows\u001b[0m\u001b[1;33m,\u001b[0m \u001b[0mIntegral\u001b[0m\u001b[1;33m)\u001b[0m \u001b[1;32mand\u001b[0m \u001b[0misinstance\u001b[0m\u001b[1;33m(\u001b[0m\u001b[0mcols\u001b[0m\u001b[1;33m,\u001b[0m \u001b[0mIntegral\u001b[0m\u001b[1;33m)\u001b[0m\u001b[1;33m)\u001b[0m\u001b[1;33m:\u001b[0m\u001b[1;33m\u001b[0m\u001b[1;33m\u001b[0m\u001b[0m\n\u001b[0;32m    674\u001b[0m                 \u001b[0mcbook\u001b[0m\u001b[1;33m.\u001b[0m\u001b[0mwarn_deprecated\u001b[0m\u001b[1;33m(\u001b[0m\u001b[1;34m\"3.3\"\u001b[0m\u001b[1;33m,\u001b[0m \u001b[0mmessage\u001b[0m\u001b[1;33m=\u001b[0m\u001b[0mmessage\u001b[0m\u001b[1;33m)\u001b[0m\u001b[1;33m\u001b[0m\u001b[1;33m\u001b[0m\u001b[0m\n\u001b[1;32m--> 675\u001b[1;33m                 \u001b[0mrows\u001b[0m\u001b[1;33m,\u001b[0m \u001b[0mcols\u001b[0m \u001b[1;33m=\u001b[0m \u001b[0mmap\u001b[0m\u001b[1;33m(\u001b[0m\u001b[0mint\u001b[0m\u001b[1;33m,\u001b[0m \u001b[1;33m[\u001b[0m\u001b[0mrows\u001b[0m\u001b[1;33m,\u001b[0m \u001b[0mcols\u001b[0m\u001b[1;33m]\u001b[0m\u001b[1;33m)\u001b[0m\u001b[1;33m\u001b[0m\u001b[1;33m\u001b[0m\u001b[0m\n\u001b[0m\u001b[0;32m    676\u001b[0m             \u001b[0mgs\u001b[0m \u001b[1;33m=\u001b[0m \u001b[0mGridSpec\u001b[0m\u001b[1;33m(\u001b[0m\u001b[0mrows\u001b[0m\u001b[1;33m,\u001b[0m \u001b[0mcols\u001b[0m\u001b[1;33m,\u001b[0m \u001b[0mfigure\u001b[0m\u001b[1;33m=\u001b[0m\u001b[0mfigure\u001b[0m\u001b[1;33m)\u001b[0m\u001b[1;33m\u001b[0m\u001b[1;33m\u001b[0m\u001b[0m\n\u001b[0;32m    677\u001b[0m             \u001b[1;32mif\u001b[0m \u001b[0misinstance\u001b[0m\u001b[1;33m(\u001b[0m\u001b[0mnum\u001b[0m\u001b[1;33m,\u001b[0m \u001b[0mtuple\u001b[0m\u001b[1;33m)\u001b[0m \u001b[1;32mand\u001b[0m \u001b[0mlen\u001b[0m\u001b[1;33m(\u001b[0m\u001b[0mnum\u001b[0m\u001b[1;33m)\u001b[0m \u001b[1;33m==\u001b[0m \u001b[1;36m2\u001b[0m\u001b[1;33m:\u001b[0m\u001b[1;33m\u001b[0m\u001b[1;33m\u001b[0m\u001b[0m\n",
      "\u001b[1;31mTypeError\u001b[0m: int() argument must be a string, a bytes-like object or a number, not 'Int64Index'"
     ]
    }
   ],
   "source": [
    "# Use the Pandas plot function to plot the average housing units per year.\n",
    "# Note: You will need to manually adjust the y limit of the chart using the min and max values from above.\n",
    "fig_housing_units = plt.figure(figsize=(8, 5))\n",
    "plt.subplot()\n",
    "plt.bar(sfo_data_housing_units.index, sfo_data_housing_units)\n",
    "plt.title('Housing Units in San Francisco from 2010 to 2016', fontweight='bold')\n",
    "plt.xlabel('Year', fontweight='bold')\n",
    "plt.ylabel('Housing Units', fontweight='bold')\n",
    "plt.ylim(370000, 385000)\n",
    "\n",
    "\n",
    "# Show the plot and then clear the data from cache\n",
    "plt.show()\n",
    "plt.close(fig_housing_units)\n"
   ]
  },
  {
   "cell_type": "code",
   "execution_count": 6,
   "metadata": {},
   "outputs": [
    {
     "output_type": "display_data",
     "data": {
      "text/plain": "<Figure size 576x360 with 1 Axes>",
      "image/svg+xml": "<?xml version=\"1.0\" encoding=\"utf-8\" standalone=\"no\"?>\r\n<!DOCTYPE svg PUBLIC \"-//W3C//DTD SVG 1.1//EN\"\r\n  \"http://www.w3.org/Graphics/SVG/1.1/DTD/svg11.dtd\">\r\n<!-- Created with matplotlib (https://matplotlib.org/) -->\r\n<svg height=\"331.674375pt\" version=\"1.1\" viewBox=\"0 0 519.73125 331.674375\" width=\"519.73125pt\" xmlns=\"http://www.w3.org/2000/svg\" xmlns:xlink=\"http://www.w3.org/1999/xlink\">\r\n <metadata>\r\n  <rdf:RDF xmlns:cc=\"http://creativecommons.org/ns#\" xmlns:dc=\"http://purl.org/dc/elements/1.1/\" xmlns:rdf=\"http://www.w3.org/1999/02/22-rdf-syntax-ns#\">\r\n   <cc:Work>\r\n    <dc:type rdf:resource=\"http://purl.org/dc/dcmitype/StillImage\"/>\r\n    <dc:date>2020-10-18T22:06:34.190289</dc:date>\r\n    <dc:format>image/svg+xml</dc:format>\r\n    <dc:creator>\r\n     <cc:Agent>\r\n      <dc:title>Matplotlib v3.3.1, https://matplotlib.org/</dc:title>\r\n     </cc:Agent>\r\n    </dc:creator>\r\n   </cc:Work>\r\n  </rdf:RDF>\r\n </metadata>\r\n <defs>\r\n  <style type=\"text/css\">*{stroke-linecap:butt;stroke-linejoin:round;}</style>\r\n </defs>\r\n <g id=\"figure_1\">\r\n  <g id=\"patch_1\">\r\n   <path d=\"M 0 331.674375 \r\nL 519.73125 331.674375 \r\nL 519.73125 0 \r\nL 0 0 \r\nz\r\n\" style=\"fill:none;\"/>\r\n  </g>\r\n  <g id=\"axes_1\">\r\n   <g id=\"patch_2\">\r\n    <path d=\"M 66.13125 294.118125 \r\nL 512.53125 294.118125 \r\nL 512.53125 22.318125 \r\nL 66.13125 22.318125 \r\nz\r\n\" style=\"fill:#ffffff;\"/>\r\n   </g>\r\n   <g id=\"patch_3\">\r\n    <path clip-path=\"url(#pe662e65f38)\" d=\"M 86.422159 5276.63081 \r\nL 134.165475 5276.63081 \r\nL 134.165475 237.225972 \r\nL 86.422159 237.225972 \r\nz\r\n\" style=\"fill:#1f77b4;\"/>\r\n   </g>\r\n   <g id=\"patch_4\">\r\n    <path clip-path=\"url(#pe662e65f38)\" d=\"M 146.101303 5276.63081 \r\nL 193.844619 5276.63081 \r\nL 193.844619 210.890023 \r\nL 146.101303 210.890023 \r\nz\r\n\" style=\"fill:#1f77b4;\"/>\r\n   </g>\r\n   <g id=\"patch_5\">\r\n    <path clip-path=\"url(#pe662e65f38)\" d=\"M 205.780448 5276.63081 \r\nL 253.523763 5276.63081 \r\nL 253.523763 184.554074 \r\nL 205.780448 184.554074 \r\nz\r\n\" style=\"fill:#1f77b4;\"/>\r\n   </g>\r\n   <g id=\"patch_6\">\r\n    <path clip-path=\"url(#pe662e65f38)\" d=\"M 265.459592 5276.63081 \r\nL 313.202908 5276.63081 \r\nL 313.202908 158.218125 \r\nL 265.459592 158.218125 \r\nz\r\n\" style=\"fill:#1f77b4;\"/>\r\n   </g>\r\n   <g id=\"patch_7\">\r\n    <path clip-path=\"url(#pe662e65f38)\" d=\"M 325.138737 5276.63081 \r\nL 372.882052 5276.63081 \r\nL 372.882052 131.882176 \r\nL 325.138737 131.882176 \r\nz\r\n\" style=\"fill:#1f77b4;\"/>\r\n   </g>\r\n   <g id=\"patch_8\">\r\n    <path clip-path=\"url(#pe662e65f38)\" d=\"M 384.817881 5276.63081 \r\nL 432.561197 5276.63081 \r\nL 432.561197 105.546227 \r\nL 384.817881 105.546227 \r\nz\r\n\" style=\"fill:#1f77b4;\"/>\r\n   </g>\r\n   <g id=\"patch_9\">\r\n    <path clip-path=\"url(#pe662e65f38)\" d=\"M 444.497025 5276.63081 \r\nL 492.240341 5276.63081 \r\nL 492.240341 79.210278 \r\nL 444.497025 79.210278 \r\nz\r\n\" style=\"fill:#1f77b4;\"/>\r\n   </g>\r\n   <g id=\"matplotlib.axis_1\">\r\n    <g id=\"xtick_1\">\r\n     <g id=\"line2d_1\">\r\n      <defs>\r\n       <path d=\"M 0 0 \r\nL 0 3.5 \r\n\" id=\"m7d2b7357e5\" style=\"stroke:#000000;stroke-width:0.8;\"/>\r\n      </defs>\r\n      <g>\r\n       <use style=\"stroke:#000000;stroke-width:0.8;\" x=\"110.293817\" xlink:href=\"#m7d2b7357e5\" y=\"294.118125\"/>\r\n      </g>\r\n     </g>\r\n     <g id=\"text_1\">\r\n      <!-- 2010 -->\r\n      <g transform=\"translate(97.568817 308.716563)scale(0.1 -0.1)\">\r\n       <defs>\r\n        <path d=\"M 19.1875 8.296875 \r\nL 53.609375 8.296875 \r\nL 53.609375 0 \r\nL 7.328125 0 \r\nL 7.328125 8.296875 \r\nQ 12.9375 14.109375 22.625 23.890625 \r\nQ 32.328125 33.6875 34.8125 36.53125 \r\nQ 39.546875 41.84375 41.421875 45.53125 \r\nQ 43.3125 49.21875 43.3125 52.78125 \r\nQ 43.3125 58.59375 39.234375 62.25 \r\nQ 35.15625 65.921875 28.609375 65.921875 \r\nQ 23.96875 65.921875 18.8125 64.3125 \r\nQ 13.671875 62.703125 7.8125 59.421875 \r\nL 7.8125 69.390625 \r\nQ 13.765625 71.78125 18.9375 73 \r\nQ 24.125 74.21875 28.421875 74.21875 \r\nQ 39.75 74.21875 46.484375 68.546875 \r\nQ 53.21875 62.890625 53.21875 53.421875 \r\nQ 53.21875 48.921875 51.53125 44.890625 \r\nQ 49.859375 40.875 45.40625 35.40625 \r\nQ 44.1875 33.984375 37.640625 27.21875 \r\nQ 31.109375 20.453125 19.1875 8.296875 \r\nz\r\n\" id=\"DejaVuSans-50\"/>\r\n        <path d=\"M 31.78125 66.40625 \r\nQ 24.171875 66.40625 20.328125 58.90625 \r\nQ 16.5 51.421875 16.5 36.375 \r\nQ 16.5 21.390625 20.328125 13.890625 \r\nQ 24.171875 6.390625 31.78125 6.390625 \r\nQ 39.453125 6.390625 43.28125 13.890625 \r\nQ 47.125 21.390625 47.125 36.375 \r\nQ 47.125 51.421875 43.28125 58.90625 \r\nQ 39.453125 66.40625 31.78125 66.40625 \r\nz\r\nM 31.78125 74.21875 \r\nQ 44.046875 74.21875 50.515625 64.515625 \r\nQ 56.984375 54.828125 56.984375 36.375 \r\nQ 56.984375 17.96875 50.515625 8.265625 \r\nQ 44.046875 -1.421875 31.78125 -1.421875 \r\nQ 19.53125 -1.421875 13.0625 8.265625 \r\nQ 6.59375 17.96875 6.59375 36.375 \r\nQ 6.59375 54.828125 13.0625 64.515625 \r\nQ 19.53125 74.21875 31.78125 74.21875 \r\nz\r\n\" id=\"DejaVuSans-48\"/>\r\n        <path d=\"M 12.40625 8.296875 \r\nL 28.515625 8.296875 \r\nL 28.515625 63.921875 \r\nL 10.984375 60.40625 \r\nL 10.984375 69.390625 \r\nL 28.421875 72.90625 \r\nL 38.28125 72.90625 \r\nL 38.28125 8.296875 \r\nL 54.390625 8.296875 \r\nL 54.390625 0 \r\nL 12.40625 0 \r\nz\r\n\" id=\"DejaVuSans-49\"/>\r\n       </defs>\r\n       <use xlink:href=\"#DejaVuSans-50\"/>\r\n       <use x=\"63.623047\" xlink:href=\"#DejaVuSans-48\"/>\r\n       <use x=\"127.246094\" xlink:href=\"#DejaVuSans-49\"/>\r\n       <use x=\"190.869141\" xlink:href=\"#DejaVuSans-48\"/>\r\n      </g>\r\n     </g>\r\n    </g>\r\n    <g id=\"xtick_2\">\r\n     <g id=\"line2d_2\">\r\n      <g>\r\n       <use style=\"stroke:#000000;stroke-width:0.8;\" x=\"169.972961\" xlink:href=\"#m7d2b7357e5\" y=\"294.118125\"/>\r\n      </g>\r\n     </g>\r\n     <g id=\"text_2\">\r\n      <!-- 2011 -->\r\n      <g transform=\"translate(157.247961 308.716563)scale(0.1 -0.1)\">\r\n       <use xlink:href=\"#DejaVuSans-50\"/>\r\n       <use x=\"63.623047\" xlink:href=\"#DejaVuSans-48\"/>\r\n       <use x=\"127.246094\" xlink:href=\"#DejaVuSans-49\"/>\r\n       <use x=\"190.869141\" xlink:href=\"#DejaVuSans-49\"/>\r\n      </g>\r\n     </g>\r\n    </g>\r\n    <g id=\"xtick_3\">\r\n     <g id=\"line2d_3\">\r\n      <g>\r\n       <use style=\"stroke:#000000;stroke-width:0.8;\" x=\"229.652106\" xlink:href=\"#m7d2b7357e5\" y=\"294.118125\"/>\r\n      </g>\r\n     </g>\r\n     <g id=\"text_3\">\r\n      <!-- 2012 -->\r\n      <g transform=\"translate(216.927106 308.716563)scale(0.1 -0.1)\">\r\n       <use xlink:href=\"#DejaVuSans-50\"/>\r\n       <use x=\"63.623047\" xlink:href=\"#DejaVuSans-48\"/>\r\n       <use x=\"127.246094\" xlink:href=\"#DejaVuSans-49\"/>\r\n       <use x=\"190.869141\" xlink:href=\"#DejaVuSans-50\"/>\r\n      </g>\r\n     </g>\r\n    </g>\r\n    <g id=\"xtick_4\">\r\n     <g id=\"line2d_4\">\r\n      <g>\r\n       <use style=\"stroke:#000000;stroke-width:0.8;\" x=\"289.33125\" xlink:href=\"#m7d2b7357e5\" y=\"294.118125\"/>\r\n      </g>\r\n     </g>\r\n     <g id=\"text_4\">\r\n      <!-- 2013 -->\r\n      <g transform=\"translate(276.60625 308.716563)scale(0.1 -0.1)\">\r\n       <defs>\r\n        <path d=\"M 40.578125 39.3125 \r\nQ 47.65625 37.796875 51.625 33 \r\nQ 55.609375 28.21875 55.609375 21.1875 \r\nQ 55.609375 10.40625 48.1875 4.484375 \r\nQ 40.765625 -1.421875 27.09375 -1.421875 \r\nQ 22.515625 -1.421875 17.65625 -0.515625 \r\nQ 12.796875 0.390625 7.625 2.203125 \r\nL 7.625 11.71875 \r\nQ 11.71875 9.328125 16.59375 8.109375 \r\nQ 21.484375 6.890625 26.8125 6.890625 \r\nQ 36.078125 6.890625 40.9375 10.546875 \r\nQ 45.796875 14.203125 45.796875 21.1875 \r\nQ 45.796875 27.640625 41.28125 31.265625 \r\nQ 36.765625 34.90625 28.71875 34.90625 \r\nL 20.21875 34.90625 \r\nL 20.21875 43.015625 \r\nL 29.109375 43.015625 \r\nQ 36.375 43.015625 40.234375 45.921875 \r\nQ 44.09375 48.828125 44.09375 54.296875 \r\nQ 44.09375 59.90625 40.109375 62.90625 \r\nQ 36.140625 65.921875 28.71875 65.921875 \r\nQ 24.65625 65.921875 20.015625 65.03125 \r\nQ 15.375 64.15625 9.8125 62.3125 \r\nL 9.8125 71.09375 \r\nQ 15.4375 72.65625 20.34375 73.4375 \r\nQ 25.25 74.21875 29.59375 74.21875 \r\nQ 40.828125 74.21875 47.359375 69.109375 \r\nQ 53.90625 64.015625 53.90625 55.328125 \r\nQ 53.90625 49.265625 50.4375 45.09375 \r\nQ 46.96875 40.921875 40.578125 39.3125 \r\nz\r\n\" id=\"DejaVuSans-51\"/>\r\n       </defs>\r\n       <use xlink:href=\"#DejaVuSans-50\"/>\r\n       <use x=\"63.623047\" xlink:href=\"#DejaVuSans-48\"/>\r\n       <use x=\"127.246094\" xlink:href=\"#DejaVuSans-49\"/>\r\n       <use x=\"190.869141\" xlink:href=\"#DejaVuSans-51\"/>\r\n      </g>\r\n     </g>\r\n    </g>\r\n    <g id=\"xtick_5\">\r\n     <g id=\"line2d_5\">\r\n      <g>\r\n       <use style=\"stroke:#000000;stroke-width:0.8;\" x=\"349.010394\" xlink:href=\"#m7d2b7357e5\" y=\"294.118125\"/>\r\n      </g>\r\n     </g>\r\n     <g id=\"text_5\">\r\n      <!-- 2014 -->\r\n      <g transform=\"translate(336.285394 308.716563)scale(0.1 -0.1)\">\r\n       <defs>\r\n        <path d=\"M 37.796875 64.3125 \r\nL 12.890625 25.390625 \r\nL 37.796875 25.390625 \r\nz\r\nM 35.203125 72.90625 \r\nL 47.609375 72.90625 \r\nL 47.609375 25.390625 \r\nL 58.015625 25.390625 \r\nL 58.015625 17.1875 \r\nL 47.609375 17.1875 \r\nL 47.609375 0 \r\nL 37.796875 0 \r\nL 37.796875 17.1875 \r\nL 4.890625 17.1875 \r\nL 4.890625 26.703125 \r\nz\r\n\" id=\"DejaVuSans-52\"/>\r\n       </defs>\r\n       <use xlink:href=\"#DejaVuSans-50\"/>\r\n       <use x=\"63.623047\" xlink:href=\"#DejaVuSans-48\"/>\r\n       <use x=\"127.246094\" xlink:href=\"#DejaVuSans-49\"/>\r\n       <use x=\"190.869141\" xlink:href=\"#DejaVuSans-52\"/>\r\n      </g>\r\n     </g>\r\n    </g>\r\n    <g id=\"xtick_6\">\r\n     <g id=\"line2d_6\">\r\n      <g>\r\n       <use style=\"stroke:#000000;stroke-width:0.8;\" x=\"408.689539\" xlink:href=\"#m7d2b7357e5\" y=\"294.118125\"/>\r\n      </g>\r\n     </g>\r\n     <g id=\"text_6\">\r\n      <!-- 2015 -->\r\n      <g transform=\"translate(395.964539 308.716563)scale(0.1 -0.1)\">\r\n       <defs>\r\n        <path d=\"M 10.796875 72.90625 \r\nL 49.515625 72.90625 \r\nL 49.515625 64.59375 \r\nL 19.828125 64.59375 \r\nL 19.828125 46.734375 \r\nQ 21.96875 47.46875 24.109375 47.828125 \r\nQ 26.265625 48.1875 28.421875 48.1875 \r\nQ 40.625 48.1875 47.75 41.5 \r\nQ 54.890625 34.8125 54.890625 23.390625 \r\nQ 54.890625 11.625 47.5625 5.09375 \r\nQ 40.234375 -1.421875 26.90625 -1.421875 \r\nQ 22.3125 -1.421875 17.546875 -0.640625 \r\nQ 12.796875 0.140625 7.71875 1.703125 \r\nL 7.71875 11.625 \r\nQ 12.109375 9.234375 16.796875 8.0625 \r\nQ 21.484375 6.890625 26.703125 6.890625 \r\nQ 35.15625 6.890625 40.078125 11.328125 \r\nQ 45.015625 15.765625 45.015625 23.390625 \r\nQ 45.015625 31 40.078125 35.4375 \r\nQ 35.15625 39.890625 26.703125 39.890625 \r\nQ 22.75 39.890625 18.8125 39.015625 \r\nQ 14.890625 38.140625 10.796875 36.28125 \r\nz\r\n\" id=\"DejaVuSans-53\"/>\r\n       </defs>\r\n       <use xlink:href=\"#DejaVuSans-50\"/>\r\n       <use x=\"63.623047\" xlink:href=\"#DejaVuSans-48\"/>\r\n       <use x=\"127.246094\" xlink:href=\"#DejaVuSans-49\"/>\r\n       <use x=\"190.869141\" xlink:href=\"#DejaVuSans-53\"/>\r\n      </g>\r\n     </g>\r\n    </g>\r\n    <g id=\"xtick_7\">\r\n     <g id=\"line2d_7\">\r\n      <g>\r\n       <use style=\"stroke:#000000;stroke-width:0.8;\" x=\"468.368683\" xlink:href=\"#m7d2b7357e5\" y=\"294.118125\"/>\r\n      </g>\r\n     </g>\r\n     <g id=\"text_7\">\r\n      <!-- 2016 -->\r\n      <g transform=\"translate(455.643683 308.716563)scale(0.1 -0.1)\">\r\n       <defs>\r\n        <path d=\"M 33.015625 40.375 \r\nQ 26.375 40.375 22.484375 35.828125 \r\nQ 18.609375 31.296875 18.609375 23.390625 \r\nQ 18.609375 15.53125 22.484375 10.953125 \r\nQ 26.375 6.390625 33.015625 6.390625 \r\nQ 39.65625 6.390625 43.53125 10.953125 \r\nQ 47.40625 15.53125 47.40625 23.390625 \r\nQ 47.40625 31.296875 43.53125 35.828125 \r\nQ 39.65625 40.375 33.015625 40.375 \r\nz\r\nM 52.59375 71.296875 \r\nL 52.59375 62.3125 \r\nQ 48.875 64.0625 45.09375 64.984375 \r\nQ 41.3125 65.921875 37.59375 65.921875 \r\nQ 27.828125 65.921875 22.671875 59.328125 \r\nQ 17.53125 52.734375 16.796875 39.40625 \r\nQ 19.671875 43.65625 24.015625 45.921875 \r\nQ 28.375 48.1875 33.59375 48.1875 \r\nQ 44.578125 48.1875 50.953125 41.515625 \r\nQ 57.328125 34.859375 57.328125 23.390625 \r\nQ 57.328125 12.15625 50.6875 5.359375 \r\nQ 44.046875 -1.421875 33.015625 -1.421875 \r\nQ 20.359375 -1.421875 13.671875 8.265625 \r\nQ 6.984375 17.96875 6.984375 36.375 \r\nQ 6.984375 53.65625 15.1875 63.9375 \r\nQ 23.390625 74.21875 37.203125 74.21875 \r\nQ 40.921875 74.21875 44.703125 73.484375 \r\nQ 48.484375 72.75 52.59375 71.296875 \r\nz\r\n\" id=\"DejaVuSans-54\"/>\r\n       </defs>\r\n       <use xlink:href=\"#DejaVuSans-50\"/>\r\n       <use x=\"63.623047\" xlink:href=\"#DejaVuSans-48\"/>\r\n       <use x=\"127.246094\" xlink:href=\"#DejaVuSans-49\"/>\r\n       <use x=\"190.869141\" xlink:href=\"#DejaVuSans-54\"/>\r\n      </g>\r\n     </g>\r\n    </g>\r\n    <g id=\"text_8\">\r\n     <!-- Year -->\r\n     <g transform=\"translate(276.935938 322.394687)scale(0.1 -0.1)\">\r\n      <defs>\r\n       <path d=\"M -0.984375 72.90625 \r\nL 19.578125 72.90625 \r\nL 36.1875 46.921875 \r\nL 52.78125 72.90625 \r\nL 73.390625 72.90625 \r\nL 45.609375 30.71875 \r\nL 45.609375 0 \r\nL 26.8125 0 \r\nL 26.8125 30.71875 \r\nz\r\n\" id=\"DejaVuSans-Bold-89\"/>\r\n       <path d=\"M 62.984375 27.484375 \r\nL 62.984375 22.515625 \r\nL 22.125 22.515625 \r\nQ 22.75 16.359375 26.5625 13.28125 \r\nQ 30.375 10.203125 37.203125 10.203125 \r\nQ 42.71875 10.203125 48.5 11.84375 \r\nQ 54.296875 13.484375 60.40625 16.796875 \r\nL 60.40625 3.328125 \r\nQ 54.203125 0.984375 48 -0.21875 \r\nQ 41.796875 -1.421875 35.59375 -1.421875 \r\nQ 20.75 -1.421875 12.515625 6.125 \r\nQ 4.296875 13.671875 4.296875 27.296875 \r\nQ 4.296875 40.671875 12.375 48.328125 \r\nQ 20.453125 56 34.625 56 \r\nQ 47.515625 56 55.25 48.234375 \r\nQ 62.984375 40.484375 62.984375 27.484375 \r\nz\r\nM 45.015625 33.296875 \r\nQ 45.015625 38.28125 42.109375 41.328125 \r\nQ 39.203125 44.390625 34.515625 44.390625 \r\nQ 29.4375 44.390625 26.265625 41.53125 \r\nQ 23.09375 38.671875 22.3125 33.296875 \r\nz\r\n\" id=\"DejaVuSans-Bold-101\"/>\r\n       <path d=\"M 32.90625 24.609375 \r\nQ 27.4375 24.609375 24.671875 22.75 \r\nQ 21.921875 20.90625 21.921875 17.28125 \r\nQ 21.921875 13.96875 24.140625 12.078125 \r\nQ 26.375 10.203125 30.328125 10.203125 \r\nQ 35.25 10.203125 38.625 13.734375 \r\nQ 42 17.28125 42 22.609375 \r\nL 42 24.609375 \r\nz\r\nM 59.625 31.203125 \r\nL 59.625 0 \r\nL 42 0 \r\nL 42 8.109375 \r\nQ 38.484375 3.125 34.078125 0.84375 \r\nQ 29.6875 -1.421875 23.390625 -1.421875 \r\nQ 14.890625 -1.421875 9.59375 3.53125 \r\nQ 4.296875 8.5 4.296875 16.40625 \r\nQ 4.296875 26.03125 10.90625 30.515625 \r\nQ 17.53125 35.015625 31.6875 35.015625 \r\nL 42 35.015625 \r\nL 42 36.375 \r\nQ 42 40.53125 38.71875 42.453125 \r\nQ 35.453125 44.390625 28.515625 44.390625 \r\nQ 22.90625 44.390625 18.0625 43.265625 \r\nQ 13.234375 42.140625 9.078125 39.890625 \r\nL 9.078125 53.21875 \r\nQ 14.703125 54.59375 20.359375 55.296875 \r\nQ 26.03125 56 31.6875 56 \r\nQ 46.484375 56 53.046875 50.171875 \r\nQ 59.625 44.34375 59.625 31.203125 \r\nz\r\n\" id=\"DejaVuSans-Bold-97\"/>\r\n       <path d=\"M 49.03125 39.796875 \r\nQ 46.734375 40.875 44.453125 41.375 \r\nQ 42.1875 41.890625 39.890625 41.890625 \r\nQ 33.15625 41.890625 29.515625 37.5625 \r\nQ 25.875 33.25 25.875 25.203125 \r\nL 25.875 0 \r\nL 8.40625 0 \r\nL 8.40625 54.6875 \r\nL 25.875 54.6875 \r\nL 25.875 45.703125 \r\nQ 29.25 51.078125 33.609375 53.53125 \r\nQ 37.984375 56 44.09375 56 \r\nQ 44.96875 56 45.984375 55.921875 \r\nQ 47.015625 55.859375 48.96875 55.609375 \r\nz\r\n\" id=\"DejaVuSans-Bold-114\"/>\r\n      </defs>\r\n      <use xlink:href=\"#DejaVuSans-Bold-89\"/>\r\n      <use x=\"63.287109\" xlink:href=\"#DejaVuSans-Bold-101\"/>\r\n      <use x=\"131.109375\" xlink:href=\"#DejaVuSans-Bold-97\"/>\r\n      <use x=\"198.589844\" xlink:href=\"#DejaVuSans-Bold-114\"/>\r\n     </g>\r\n    </g>\r\n   </g>\r\n   <g id=\"matplotlib.axis_2\">\r\n    <g id=\"ytick_1\">\r\n     <g id=\"line2d_8\">\r\n      <defs>\r\n       <path d=\"M 0 0 \r\nL -3.5 0 \r\n\" id=\"m6dd47a73eb\" style=\"stroke:#000000;stroke-width:0.8;\"/>\r\n      </defs>\r\n      <g>\r\n       <use style=\"stroke:#000000;stroke-width:0.8;\" x=\"66.13125\" xlink:href=\"#m6dd47a73eb\" y=\"271.85362\"/>\r\n      </g>\r\n     </g>\r\n     <g id=\"text_9\">\r\n      <!-- 370000 -->\r\n      <g transform=\"translate(20.95625 275.652839)scale(0.1 -0.1)\">\r\n       <defs>\r\n        <path d=\"M 8.203125 72.90625 \r\nL 55.078125 72.90625 \r\nL 55.078125 68.703125 \r\nL 28.609375 0 \r\nL 18.3125 0 \r\nL 43.21875 64.59375 \r\nL 8.203125 64.59375 \r\nz\r\n\" id=\"DejaVuSans-55\"/>\r\n       </defs>\r\n       <use xlink:href=\"#DejaVuSans-51\"/>\r\n       <use x=\"63.623047\" xlink:href=\"#DejaVuSans-55\"/>\r\n       <use x=\"127.246094\" xlink:href=\"#DejaVuSans-48\"/>\r\n       <use x=\"190.869141\" xlink:href=\"#DejaVuSans-48\"/>\r\n       <use x=\"254.492188\" xlink:href=\"#DejaVuSans-48\"/>\r\n       <use x=\"318.115234\" xlink:href=\"#DejaVuSans-48\"/>\r\n      </g>\r\n     </g>\r\n    </g>\r\n    <g id=\"ytick_2\">\r\n     <g id=\"line2d_9\">\r\n      <g>\r\n       <use style=\"stroke:#000000;stroke-width:0.8;\" x=\"66.13125\" xlink:href=\"#m6dd47a73eb\" y=\"238.037558\"/>\r\n      </g>\r\n     </g>\r\n     <g id=\"text_10\">\r\n      <!-- 372500 -->\r\n      <g transform=\"translate(20.95625 241.836777)scale(0.1 -0.1)\">\r\n       <use xlink:href=\"#DejaVuSans-51\"/>\r\n       <use x=\"63.623047\" xlink:href=\"#DejaVuSans-55\"/>\r\n       <use x=\"127.246094\" xlink:href=\"#DejaVuSans-50\"/>\r\n       <use x=\"190.869141\" xlink:href=\"#DejaVuSans-53\"/>\r\n       <use x=\"254.492188\" xlink:href=\"#DejaVuSans-48\"/>\r\n       <use x=\"318.115234\" xlink:href=\"#DejaVuSans-48\"/>\r\n      </g>\r\n     </g>\r\n    </g>\r\n    <g id=\"ytick_3\">\r\n     <g id=\"line2d_10\">\r\n      <g>\r\n       <use style=\"stroke:#000000;stroke-width:0.8;\" x=\"66.13125\" xlink:href=\"#m6dd47a73eb\" y=\"204.221496\"/>\r\n      </g>\r\n     </g>\r\n     <g id=\"text_11\">\r\n      <!-- 375000 -->\r\n      <g transform=\"translate(20.95625 208.020715)scale(0.1 -0.1)\">\r\n       <use xlink:href=\"#DejaVuSans-51\"/>\r\n       <use x=\"63.623047\" xlink:href=\"#DejaVuSans-55\"/>\r\n       <use x=\"127.246094\" xlink:href=\"#DejaVuSans-53\"/>\r\n       <use x=\"190.869141\" xlink:href=\"#DejaVuSans-48\"/>\r\n       <use x=\"254.492188\" xlink:href=\"#DejaVuSans-48\"/>\r\n       <use x=\"318.115234\" xlink:href=\"#DejaVuSans-48\"/>\r\n      </g>\r\n     </g>\r\n    </g>\r\n    <g id=\"ytick_4\">\r\n     <g id=\"line2d_11\">\r\n      <g>\r\n       <use style=\"stroke:#000000;stroke-width:0.8;\" x=\"66.13125\" xlink:href=\"#m6dd47a73eb\" y=\"170.405434\"/>\r\n      </g>\r\n     </g>\r\n     <g id=\"text_12\">\r\n      <!-- 377500 -->\r\n      <g transform=\"translate(20.95625 174.204653)scale(0.1 -0.1)\">\r\n       <use xlink:href=\"#DejaVuSans-51\"/>\r\n       <use x=\"63.623047\" xlink:href=\"#DejaVuSans-55\"/>\r\n       <use x=\"127.246094\" xlink:href=\"#DejaVuSans-55\"/>\r\n       <use x=\"190.869141\" xlink:href=\"#DejaVuSans-53\"/>\r\n       <use x=\"254.492188\" xlink:href=\"#DejaVuSans-48\"/>\r\n       <use x=\"318.115234\" xlink:href=\"#DejaVuSans-48\"/>\r\n      </g>\r\n     </g>\r\n    </g>\r\n    <g id=\"ytick_5\">\r\n     <g id=\"line2d_12\">\r\n      <g>\r\n       <use style=\"stroke:#000000;stroke-width:0.8;\" x=\"66.13125\" xlink:href=\"#m6dd47a73eb\" y=\"136.589372\"/>\r\n      </g>\r\n     </g>\r\n     <g id=\"text_13\">\r\n      <!-- 380000 -->\r\n      <g transform=\"translate(20.95625 140.38859)scale(0.1 -0.1)\">\r\n       <defs>\r\n        <path d=\"M 31.78125 34.625 \r\nQ 24.75 34.625 20.71875 30.859375 \r\nQ 16.703125 27.09375 16.703125 20.515625 \r\nQ 16.703125 13.921875 20.71875 10.15625 \r\nQ 24.75 6.390625 31.78125 6.390625 \r\nQ 38.8125 6.390625 42.859375 10.171875 \r\nQ 46.921875 13.96875 46.921875 20.515625 \r\nQ 46.921875 27.09375 42.890625 30.859375 \r\nQ 38.875 34.625 31.78125 34.625 \r\nz\r\nM 21.921875 38.8125 \r\nQ 15.578125 40.375 12.03125 44.71875 \r\nQ 8.5 49.078125 8.5 55.328125 \r\nQ 8.5 64.0625 14.71875 69.140625 \r\nQ 20.953125 74.21875 31.78125 74.21875 \r\nQ 42.671875 74.21875 48.875 69.140625 \r\nQ 55.078125 64.0625 55.078125 55.328125 \r\nQ 55.078125 49.078125 51.53125 44.71875 \r\nQ 48 40.375 41.703125 38.8125 \r\nQ 48.828125 37.15625 52.796875 32.3125 \r\nQ 56.78125 27.484375 56.78125 20.515625 \r\nQ 56.78125 9.90625 50.3125 4.234375 \r\nQ 43.84375 -1.421875 31.78125 -1.421875 \r\nQ 19.734375 -1.421875 13.25 4.234375 \r\nQ 6.78125 9.90625 6.78125 20.515625 \r\nQ 6.78125 27.484375 10.78125 32.3125 \r\nQ 14.796875 37.15625 21.921875 38.8125 \r\nz\r\nM 18.3125 54.390625 \r\nQ 18.3125 48.734375 21.84375 45.5625 \r\nQ 25.390625 42.390625 31.78125 42.390625 \r\nQ 38.140625 42.390625 41.71875 45.5625 \r\nQ 45.3125 48.734375 45.3125 54.390625 \r\nQ 45.3125 60.0625 41.71875 63.234375 \r\nQ 38.140625 66.40625 31.78125 66.40625 \r\nQ 25.390625 66.40625 21.84375 63.234375 \r\nQ 18.3125 60.0625 18.3125 54.390625 \r\nz\r\n\" id=\"DejaVuSans-56\"/>\r\n       </defs>\r\n       <use xlink:href=\"#DejaVuSans-51\"/>\r\n       <use x=\"63.623047\" xlink:href=\"#DejaVuSans-56\"/>\r\n       <use x=\"127.246094\" xlink:href=\"#DejaVuSans-48\"/>\r\n       <use x=\"190.869141\" xlink:href=\"#DejaVuSans-48\"/>\r\n       <use x=\"254.492188\" xlink:href=\"#DejaVuSans-48\"/>\r\n       <use x=\"318.115234\" xlink:href=\"#DejaVuSans-48\"/>\r\n      </g>\r\n     </g>\r\n    </g>\r\n    <g id=\"ytick_6\">\r\n     <g id=\"line2d_13\">\r\n      <g>\r\n       <use style=\"stroke:#000000;stroke-width:0.8;\" x=\"66.13125\" xlink:href=\"#m6dd47a73eb\" y=\"102.77331\"/>\r\n      </g>\r\n     </g>\r\n     <g id=\"text_14\">\r\n      <!-- 382500 -->\r\n      <g transform=\"translate(20.95625 106.572528)scale(0.1 -0.1)\">\r\n       <use xlink:href=\"#DejaVuSans-51\"/>\r\n       <use x=\"63.623047\" xlink:href=\"#DejaVuSans-56\"/>\r\n       <use x=\"127.246094\" xlink:href=\"#DejaVuSans-50\"/>\r\n       <use x=\"190.869141\" xlink:href=\"#DejaVuSans-53\"/>\r\n       <use x=\"254.492188\" xlink:href=\"#DejaVuSans-48\"/>\r\n       <use x=\"318.115234\" xlink:href=\"#DejaVuSans-48\"/>\r\n      </g>\r\n     </g>\r\n    </g>\r\n    <g id=\"ytick_7\">\r\n     <g id=\"line2d_14\">\r\n      <g>\r\n       <use style=\"stroke:#000000;stroke-width:0.8;\" x=\"66.13125\" xlink:href=\"#m6dd47a73eb\" y=\"68.957247\"/>\r\n      </g>\r\n     </g>\r\n     <g id=\"text_15\">\r\n      <!-- 385000 -->\r\n      <g transform=\"translate(20.95625 72.756466)scale(0.1 -0.1)\">\r\n       <use xlink:href=\"#DejaVuSans-51\"/>\r\n       <use x=\"63.623047\" xlink:href=\"#DejaVuSans-56\"/>\r\n       <use x=\"127.246094\" xlink:href=\"#DejaVuSans-53\"/>\r\n       <use x=\"190.869141\" xlink:href=\"#DejaVuSans-48\"/>\r\n       <use x=\"254.492188\" xlink:href=\"#DejaVuSans-48\"/>\r\n       <use x=\"318.115234\" xlink:href=\"#DejaVuSans-48\"/>\r\n      </g>\r\n     </g>\r\n    </g>\r\n    <g id=\"ytick_8\">\r\n     <g id=\"line2d_15\">\r\n      <g>\r\n       <use style=\"stroke:#000000;stroke-width:0.8;\" x=\"66.13125\" xlink:href=\"#m6dd47a73eb\" y=\"35.141185\"/>\r\n      </g>\r\n     </g>\r\n     <g id=\"text_16\">\r\n      <!-- 387500 -->\r\n      <g transform=\"translate(20.95625 38.940404)scale(0.1 -0.1)\">\r\n       <use xlink:href=\"#DejaVuSans-51\"/>\r\n       <use x=\"63.623047\" xlink:href=\"#DejaVuSans-56\"/>\r\n       <use x=\"127.246094\" xlink:href=\"#DejaVuSans-55\"/>\r\n       <use x=\"190.869141\" xlink:href=\"#DejaVuSans-53\"/>\r\n       <use x=\"254.492188\" xlink:href=\"#DejaVuSans-48\"/>\r\n       <use x=\"318.115234\" xlink:href=\"#DejaVuSans-48\"/>\r\n      </g>\r\n     </g>\r\n    </g>\r\n    <g id=\"text_17\">\r\n     <!-- Housing Units -->\r\n     <g transform=\"translate(14.798438 197.665)rotate(-90)scale(0.1 -0.1)\">\r\n      <defs>\r\n       <path d=\"M 9.1875 72.90625 \r\nL 27.984375 72.90625 \r\nL 27.984375 45.125 \r\nL 55.71875 45.125 \r\nL 55.71875 72.90625 \r\nL 74.515625 72.90625 \r\nL 74.515625 0 \r\nL 55.71875 0 \r\nL 55.71875 30.90625 \r\nL 27.984375 30.90625 \r\nL 27.984375 0 \r\nL 9.1875 0 \r\nz\r\n\" id=\"DejaVuSans-Bold-72\"/>\r\n       <path d=\"M 34.421875 43.5 \r\nQ 28.609375 43.5 25.5625 39.328125 \r\nQ 22.515625 35.15625 22.515625 27.296875 \r\nQ 22.515625 19.4375 25.5625 15.25 \r\nQ 28.609375 11.078125 34.421875 11.078125 \r\nQ 40.140625 11.078125 43.15625 15.25 \r\nQ 46.1875 19.4375 46.1875 27.296875 \r\nQ 46.1875 35.15625 43.15625 39.328125 \r\nQ 40.140625 43.5 34.421875 43.5 \r\nz\r\nM 34.421875 56 \r\nQ 48.53125 56 56.46875 48.375 \r\nQ 64.40625 40.765625 64.40625 27.296875 \r\nQ 64.40625 13.8125 56.46875 6.1875 \r\nQ 48.53125 -1.421875 34.421875 -1.421875 \r\nQ 20.265625 -1.421875 12.28125 6.1875 \r\nQ 4.296875 13.8125 4.296875 27.296875 \r\nQ 4.296875 40.765625 12.28125 48.375 \r\nQ 20.265625 56 34.421875 56 \r\nz\r\n\" id=\"DejaVuSans-Bold-111\"/>\r\n       <path d=\"M 7.8125 21.296875 \r\nL 7.8125 54.6875 \r\nL 25.390625 54.6875 \r\nL 25.390625 49.21875 \r\nQ 25.390625 44.78125 25.34375 38.0625 \r\nQ 25.296875 31.34375 25.296875 29.109375 \r\nQ 25.296875 22.515625 25.640625 19.609375 \r\nQ 25.984375 16.703125 26.8125 15.375 \r\nQ 27.875 13.671875 29.609375 12.734375 \r\nQ 31.34375 11.8125 33.59375 11.8125 \r\nQ 39.0625 11.8125 42.1875 16.015625 \r\nQ 45.3125 20.21875 45.3125 27.6875 \r\nL 45.3125 54.6875 \r\nL 62.796875 54.6875 \r\nL 62.796875 0 \r\nL 45.3125 0 \r\nL 45.3125 7.90625 \r\nQ 41.359375 3.125 36.9375 0.84375 \r\nQ 32.515625 -1.421875 27.203125 -1.421875 \r\nQ 17.71875 -1.421875 12.765625 4.390625 \r\nQ 7.8125 10.203125 7.8125 21.296875 \r\nz\r\n\" id=\"DejaVuSans-Bold-117\"/>\r\n       <path d=\"M 51.125 52.984375 \r\nL 51.125 39.703125 \r\nQ 45.515625 42.046875 40.28125 43.21875 \r\nQ 35.0625 44.390625 30.421875 44.390625 \r\nQ 25.4375 44.390625 23.015625 43.140625 \r\nQ 20.609375 41.890625 20.609375 39.3125 \r\nQ 20.609375 37.203125 22.4375 36.078125 \r\nQ 24.265625 34.96875 29 34.421875 \r\nL 32.078125 33.984375 \r\nQ 45.515625 32.28125 50.140625 28.375 \r\nQ 54.78125 24.46875 54.78125 16.109375 \r\nQ 54.78125 7.375 48.328125 2.96875 \r\nQ 41.890625 -1.421875 29.109375 -1.421875 \r\nQ 23.6875 -1.421875 17.890625 -0.5625 \r\nQ 12.109375 0.296875 6 2 \r\nL 6 15.28125 \r\nQ 11.234375 12.75 16.71875 11.46875 \r\nQ 22.21875 10.203125 27.875 10.203125 \r\nQ 33.015625 10.203125 35.59375 11.609375 \r\nQ 38.1875 13.03125 38.1875 15.828125 \r\nQ 38.1875 18.171875 36.40625 19.3125 \r\nQ 34.625 20.453125 29.296875 21.09375 \r\nL 26.21875 21.484375 \r\nQ 14.546875 22.953125 9.859375 26.90625 \r\nQ 5.171875 30.859375 5.171875 38.921875 \r\nQ 5.171875 47.609375 11.125 51.796875 \r\nQ 17.09375 56 29.390625 56 \r\nQ 34.234375 56 39.546875 55.265625 \r\nQ 44.875 54.546875 51.125 52.984375 \r\nz\r\n\" id=\"DejaVuSans-Bold-115\"/>\r\n       <path d=\"M 8.40625 54.6875 \r\nL 25.875 54.6875 \r\nL 25.875 0 \r\nL 8.40625 0 \r\nz\r\nM 8.40625 75.984375 \r\nL 25.875 75.984375 \r\nL 25.875 61.71875 \r\nL 8.40625 61.71875 \r\nz\r\n\" id=\"DejaVuSans-Bold-105\"/>\r\n       <path d=\"M 63.375 33.296875 \r\nL 63.375 0 \r\nL 45.796875 0 \r\nL 45.796875 5.421875 \r\nL 45.796875 25.484375 \r\nQ 45.796875 32.5625 45.484375 35.25 \r\nQ 45.171875 37.9375 44.390625 39.203125 \r\nQ 43.359375 40.921875 41.59375 41.875 \r\nQ 39.84375 42.828125 37.59375 42.828125 \r\nQ 32.125 42.828125 29 38.59375 \r\nQ 25.875 34.375 25.875 26.90625 \r\nL 25.875 0 \r\nL 8.40625 0 \r\nL 8.40625 54.6875 \r\nL 25.875 54.6875 \r\nL 25.875 46.6875 \r\nQ 29.828125 51.46875 34.265625 53.734375 \r\nQ 38.71875 56 44.09375 56 \r\nQ 53.5625 56 58.46875 50.1875 \r\nQ 63.375 44.390625 63.375 33.296875 \r\nz\r\n\" id=\"DejaVuSans-Bold-110\"/>\r\n       <path d=\"M 45.609375 9.28125 \r\nQ 42 4.5 37.640625 2.25 \r\nQ 33.296875 0 27.59375 0 \r\nQ 17.578125 0 11.03125 7.875 \r\nQ 4.5 15.765625 4.5 27.984375 \r\nQ 4.5 40.234375 11.03125 48.0625 \r\nQ 17.578125 55.90625 27.59375 55.90625 \r\nQ 33.296875 55.90625 37.640625 53.65625 \r\nQ 42 51.421875 45.609375 46.578125 \r\nL 45.609375 54.6875 \r\nL 63.1875 54.6875 \r\nL 63.1875 5.515625 \r\nQ 63.1875 -7.671875 54.859375 -14.625 \r\nQ 46.53125 -21.578125 30.71875 -21.578125 \r\nQ 25.59375 -21.578125 20.796875 -20.796875 \r\nQ 16.015625 -20.015625 11.1875 -18.40625 \r\nL 11.1875 -4.78125 \r\nQ 15.765625 -7.421875 20.15625 -8.71875 \r\nQ 24.5625 -10.015625 29 -10.015625 \r\nQ 37.59375 -10.015625 41.59375 -6.25 \r\nQ 45.609375 -2.484375 45.609375 5.515625 \r\nz\r\nM 34.078125 43.3125 \r\nQ 28.65625 43.3125 25.625 39.296875 \r\nQ 22.609375 35.296875 22.609375 27.984375 \r\nQ 22.609375 20.453125 25.53125 16.578125 \r\nQ 28.46875 12.703125 34.078125 12.703125 \r\nQ 39.546875 12.703125 42.578125 16.703125 \r\nQ 45.609375 20.703125 45.609375 27.984375 \r\nQ 45.609375 35.296875 42.578125 39.296875 \r\nQ 39.546875 43.3125 34.078125 43.3125 \r\nz\r\n\" id=\"DejaVuSans-Bold-103\"/>\r\n       <path id=\"DejaVuSans-Bold-32\"/>\r\n       <path d=\"M 9.1875 72.90625 \r\nL 27.984375 72.90625 \r\nL 27.984375 29.203125 \r\nQ 27.984375 20.171875 30.9375 16.28125 \r\nQ 33.890625 12.40625 40.578125 12.40625 \r\nQ 47.3125 12.40625 50.265625 16.28125 \r\nQ 53.21875 20.171875 53.21875 29.203125 \r\nL 53.21875 72.90625 \r\nL 72.015625 72.90625 \r\nL 72.015625 29.203125 \r\nQ 72.015625 13.71875 64.25 6.140625 \r\nQ 56.5 -1.421875 40.578125 -1.421875 \r\nQ 24.703125 -1.421875 16.9375 6.140625 \r\nQ 9.1875 13.71875 9.1875 29.203125 \r\nz\r\n\" id=\"DejaVuSans-Bold-85\"/>\r\n       <path d=\"M 27.484375 70.21875 \r\nL 27.484375 54.6875 \r\nL 45.515625 54.6875 \r\nL 45.515625 42.1875 \r\nL 27.484375 42.1875 \r\nL 27.484375 19 \r\nQ 27.484375 15.1875 29 13.84375 \r\nQ 30.515625 12.5 35.015625 12.5 \r\nL 44 12.5 \r\nL 44 0 \r\nL 29 0 \r\nQ 18.65625 0 14.328125 4.3125 \r\nQ 10.015625 8.640625 10.015625 19 \r\nL 10.015625 42.1875 \r\nL 1.3125 42.1875 \r\nL 1.3125 54.6875 \r\nL 10.015625 54.6875 \r\nL 10.015625 70.21875 \r\nz\r\n\" id=\"DejaVuSans-Bold-116\"/>\r\n      </defs>\r\n      <use xlink:href=\"#DejaVuSans-Bold-72\"/>\r\n      <use x=\"83.691406\" xlink:href=\"#DejaVuSans-Bold-111\"/>\r\n      <use x=\"152.392578\" xlink:href=\"#DejaVuSans-Bold-117\"/>\r\n      <use x=\"223.583984\" xlink:href=\"#DejaVuSans-Bold-115\"/>\r\n      <use x=\"283.105469\" xlink:href=\"#DejaVuSans-Bold-105\"/>\r\n      <use x=\"317.382812\" xlink:href=\"#DejaVuSans-Bold-110\"/>\r\n      <use x=\"388.574219\" xlink:href=\"#DejaVuSans-Bold-103\"/>\r\n      <use x=\"460.15625\" xlink:href=\"#DejaVuSans-Bold-32\"/>\r\n      <use x=\"494.970703\" xlink:href=\"#DejaVuSans-Bold-85\"/>\r\n      <use x=\"576.171875\" xlink:href=\"#DejaVuSans-Bold-110\"/>\r\n      <use x=\"647.363281\" xlink:href=\"#DejaVuSans-Bold-105\"/>\r\n      <use x=\"681.640625\" xlink:href=\"#DejaVuSans-Bold-116\"/>\r\n      <use x=\"729.443359\" xlink:href=\"#DejaVuSans-Bold-115\"/>\r\n     </g>\r\n    </g>\r\n   </g>\r\n   <g id=\"patch_10\">\r\n    <path d=\"M 66.13125 294.118125 \r\nL 66.13125 22.318125 \r\n\" style=\"fill:none;stroke:#000000;stroke-linecap:square;stroke-linejoin:miter;stroke-width:0.8;\"/>\r\n   </g>\r\n   <g id=\"patch_11\">\r\n    <path d=\"M 512.53125 294.118125 \r\nL 512.53125 22.318125 \r\n\" style=\"fill:none;stroke:#000000;stroke-linecap:square;stroke-linejoin:miter;stroke-width:0.8;\"/>\r\n   </g>\r\n   <g id=\"patch_12\">\r\n    <path d=\"M 66.13125 294.118125 \r\nL 512.53125 294.118125 \r\n\" style=\"fill:none;stroke:#000000;stroke-linecap:square;stroke-linejoin:miter;stroke-width:0.8;\"/>\r\n   </g>\r\n   <g id=\"patch_13\">\r\n    <path d=\"M 66.13125 22.318125 \r\nL 512.53125 22.318125 \r\n\" style=\"fill:none;stroke:#000000;stroke-linecap:square;stroke-linejoin:miter;stroke-width:0.8;\"/>\r\n   </g>\r\n   <g id=\"text_18\">\r\n    <!-- Housing Units in San Francisco from 2010 to 2016 -->\r\n    <g transform=\"translate(120.214688 16.318125)scale(0.12 -0.12)\">\r\n     <defs>\r\n      <path d=\"M 59.90625 70.609375 \r\nL 59.90625 55.171875 \r\nQ 53.90625 57.859375 48.1875 59.21875 \r\nQ 42.484375 60.59375 37.40625 60.59375 \r\nQ 30.671875 60.59375 27.4375 58.734375 \r\nQ 24.21875 56.890625 24.21875 52.984375 \r\nQ 24.21875 50.046875 26.390625 48.40625 \r\nQ 28.5625 46.78125 34.28125 45.609375 \r\nL 42.28125 44 \r\nQ 54.4375 41.546875 59.5625 36.5625 \r\nQ 64.703125 31.59375 64.703125 22.40625 \r\nQ 64.703125 10.359375 57.546875 4.46875 \r\nQ 50.390625 -1.421875 35.6875 -1.421875 \r\nQ 28.765625 -1.421875 21.78125 -0.09375 \r\nQ 14.796875 1.21875 7.8125 3.8125 \r\nL 7.8125 19.671875 \r\nQ 14.796875 15.96875 21.3125 14.078125 \r\nQ 27.828125 12.203125 33.890625 12.203125 \r\nQ 40.046875 12.203125 43.3125 14.25 \r\nQ 46.578125 16.3125 46.578125 20.125 \r\nQ 46.578125 23.53125 44.359375 25.390625 \r\nQ 42.140625 27.25 35.5 28.71875 \r\nL 28.21875 30.328125 \r\nQ 17.28125 32.671875 12.21875 37.796875 \r\nQ 7.171875 42.921875 7.171875 51.609375 \r\nQ 7.171875 62.5 14.203125 68.359375 \r\nQ 21.234375 74.21875 34.421875 74.21875 \r\nQ 40.4375 74.21875 46.78125 73.3125 \r\nQ 53.125 72.40625 59.90625 70.609375 \r\nz\r\n\" id=\"DejaVuSans-Bold-83\"/>\r\n      <path d=\"M 9.1875 72.90625 \r\nL 59.90625 72.90625 \r\nL 59.90625 58.6875 \r\nL 27.984375 58.6875 \r\nL 27.984375 45.125 \r\nL 58.015625 45.125 \r\nL 58.015625 30.90625 \r\nL 27.984375 30.90625 \r\nL 27.984375 0 \r\nL 9.1875 0 \r\nz\r\n\" id=\"DejaVuSans-Bold-70\"/>\r\n      <path d=\"M 52.59375 52.984375 \r\nL 52.59375 38.71875 \r\nQ 49.03125 41.15625 45.4375 42.328125 \r\nQ 41.84375 43.5 37.984375 43.5 \r\nQ 30.671875 43.5 26.59375 39.234375 \r\nQ 22.515625 34.96875 22.515625 27.296875 \r\nQ 22.515625 19.625 26.59375 15.34375 \r\nQ 30.671875 11.078125 37.984375 11.078125 \r\nQ 42.09375 11.078125 45.78125 12.296875 \r\nQ 49.46875 13.53125 52.59375 15.921875 \r\nL 52.59375 1.609375 \r\nQ 48.484375 0.09375 44.265625 -0.65625 \r\nQ 40.046875 -1.421875 35.796875 -1.421875 \r\nQ 21 -1.421875 12.640625 6.171875 \r\nQ 4.296875 13.765625 4.296875 27.296875 \r\nQ 4.296875 40.828125 12.640625 48.40625 \r\nQ 21 56 35.796875 56 \r\nQ 40.09375 56 44.265625 55.25 \r\nQ 48.4375 54.5 52.59375 52.984375 \r\nz\r\n\" id=\"DejaVuSans-Bold-99\"/>\r\n      <path d=\"M 44.390625 75.984375 \r\nL 44.390625 64.5 \r\nL 34.71875 64.5 \r\nQ 31 64.5 29.53125 63.15625 \r\nQ 28.078125 61.8125 28.078125 58.5 \r\nL 28.078125 54.6875 \r\nL 43.015625 54.6875 \r\nL 43.015625 42.1875 \r\nL 28.078125 42.1875 \r\nL 28.078125 0 \r\nL 10.59375 0 \r\nL 10.59375 42.1875 \r\nL 1.90625 42.1875 \r\nL 1.90625 54.6875 \r\nL 10.59375 54.6875 \r\nL 10.59375 58.5 \r\nQ 10.59375 67.4375 15.578125 71.703125 \r\nQ 20.5625 75.984375 31 75.984375 \r\nz\r\n\" id=\"DejaVuSans-Bold-102\"/>\r\n      <path d=\"M 59.078125 45.609375 \r\nQ 62.40625 50.6875 66.96875 53.34375 \r\nQ 71.53125 56 77 56 \r\nQ 86.421875 56 91.359375 50.1875 \r\nQ 96.296875 44.390625 96.296875 33.296875 \r\nL 96.296875 0 \r\nL 78.71875 0 \r\nL 78.71875 28.515625 \r\nQ 78.765625 29.15625 78.78125 29.828125 \r\nQ 78.8125 30.515625 78.8125 31.78125 \r\nQ 78.8125 37.59375 77.09375 40.203125 \r\nQ 75.390625 42.828125 71.578125 42.828125 \r\nQ 66.609375 42.828125 63.890625 38.71875 \r\nQ 61.1875 34.625 61.078125 26.859375 \r\nL 61.078125 0 \r\nL 43.5 0 \r\nL 43.5 28.515625 \r\nQ 43.5 37.59375 41.9375 40.203125 \r\nQ 40.375 42.828125 36.375 42.828125 \r\nQ 31.34375 42.828125 28.609375 38.703125 \r\nQ 25.875 34.578125 25.875 26.90625 \r\nL 25.875 0 \r\nL 8.296875 0 \r\nL 8.296875 54.6875 \r\nL 25.875 54.6875 \r\nL 25.875 46.6875 \r\nQ 29.109375 51.3125 33.28125 53.65625 \r\nQ 37.453125 56 42.484375 56 \r\nQ 48.140625 56 52.484375 53.265625 \r\nQ 56.84375 50.53125 59.078125 45.609375 \r\nz\r\n\" id=\"DejaVuSans-Bold-109\"/>\r\n      <path d=\"M 28.8125 13.8125 \r\nL 60.890625 13.8125 \r\nL 60.890625 0 \r\nL 7.90625 0 \r\nL 7.90625 13.8125 \r\nL 34.515625 37.3125 \r\nQ 38.09375 40.53125 39.796875 43.609375 \r\nQ 41.5 46.6875 41.5 50 \r\nQ 41.5 55.125 38.0625 58.25 \r\nQ 34.625 61.375 28.90625 61.375 \r\nQ 24.515625 61.375 19.28125 59.5 \r\nQ 14.0625 57.625 8.109375 53.90625 \r\nL 8.109375 69.921875 \r\nQ 14.453125 72.015625 20.65625 73.109375 \r\nQ 26.859375 74.21875 32.8125 74.21875 \r\nQ 45.90625 74.21875 53.15625 68.453125 \r\nQ 60.40625 62.703125 60.40625 52.390625 \r\nQ 60.40625 46.4375 57.328125 41.28125 \r\nQ 54.25 36.140625 44.390625 27.484375 \r\nz\r\n\" id=\"DejaVuSans-Bold-50\"/>\r\n      <path d=\"M 46 36.53125 \r\nQ 46 50.203125 43.4375 55.78125 \r\nQ 40.875 61.375 34.8125 61.375 \r\nQ 28.765625 61.375 26.171875 55.78125 \r\nQ 23.578125 50.203125 23.578125 36.53125 \r\nQ 23.578125 22.703125 26.171875 17.03125 \r\nQ 28.765625 11.375 34.8125 11.375 \r\nQ 40.828125 11.375 43.40625 17.03125 \r\nQ 46 22.703125 46 36.53125 \r\nz\r\nM 64.796875 36.375 \r\nQ 64.796875 18.265625 56.984375 8.421875 \r\nQ 49.171875 -1.421875 34.8125 -1.421875 \r\nQ 20.40625 -1.421875 12.59375 8.421875 \r\nQ 4.78125 18.265625 4.78125 36.375 \r\nQ 4.78125 54.546875 12.59375 64.375 \r\nQ 20.40625 74.21875 34.8125 74.21875 \r\nQ 49.171875 74.21875 56.984375 64.375 \r\nQ 64.796875 54.546875 64.796875 36.375 \r\nz\r\n\" id=\"DejaVuSans-Bold-48\"/>\r\n      <path d=\"M 11.71875 12.984375 \r\nL 28.328125 12.984375 \r\nL 28.328125 60.109375 \r\nL 11.28125 56.59375 \r\nL 11.28125 69.390625 \r\nL 28.21875 72.90625 \r\nL 46.09375 72.90625 \r\nL 46.09375 12.984375 \r\nL 62.703125 12.984375 \r\nL 62.703125 0 \r\nL 11.71875 0 \r\nz\r\n\" id=\"DejaVuSans-Bold-49\"/>\r\n      <path d=\"M 36.1875 35.984375 \r\nQ 31.25 35.984375 28.78125 32.78125 \r\nQ 26.3125 29.59375 26.3125 23.1875 \r\nQ 26.3125 16.796875 28.78125 13.59375 \r\nQ 31.25 10.40625 36.1875 10.40625 \r\nQ 41.15625 10.40625 43.625 13.59375 \r\nQ 46.09375 16.796875 46.09375 23.1875 \r\nQ 46.09375 29.59375 43.625 32.78125 \r\nQ 41.15625 35.984375 36.1875 35.984375 \r\nz\r\nM 59.421875 71 \r\nL 59.421875 57.515625 \r\nQ 54.78125 59.71875 50.671875 60.765625 \r\nQ 46.578125 61.8125 42.671875 61.8125 \r\nQ 34.28125 61.8125 29.59375 57.140625 \r\nQ 24.90625 52.484375 24.125 43.3125 \r\nQ 27.34375 45.703125 31.09375 46.890625 \r\nQ 34.859375 48.09375 39.3125 48.09375 \r\nQ 50.484375 48.09375 57.34375 41.546875 \r\nQ 64.203125 35.015625 64.203125 24.421875 \r\nQ 64.203125 12.703125 56.53125 5.640625 \r\nQ 48.875 -1.421875 35.984375 -1.421875 \r\nQ 21.78125 -1.421875 13.984375 8.171875 \r\nQ 6.203125 17.78125 6.203125 35.40625 \r\nQ 6.203125 53.46875 15.3125 63.796875 \r\nQ 24.421875 74.125 40.28125 74.125 \r\nQ 45.3125 74.125 50.046875 73.34375 \r\nQ 54.78125 72.5625 59.421875 71 \r\nz\r\n\" id=\"DejaVuSans-Bold-54\"/>\r\n     </defs>\r\n     <use xlink:href=\"#DejaVuSans-Bold-72\"/>\r\n     <use x=\"83.691406\" xlink:href=\"#DejaVuSans-Bold-111\"/>\r\n     <use x=\"152.392578\" xlink:href=\"#DejaVuSans-Bold-117\"/>\r\n     <use x=\"223.583984\" xlink:href=\"#DejaVuSans-Bold-115\"/>\r\n     <use x=\"283.105469\" xlink:href=\"#DejaVuSans-Bold-105\"/>\r\n     <use x=\"317.382812\" xlink:href=\"#DejaVuSans-Bold-110\"/>\r\n     <use x=\"388.574219\" xlink:href=\"#DejaVuSans-Bold-103\"/>\r\n     <use x=\"460.15625\" xlink:href=\"#DejaVuSans-Bold-32\"/>\r\n     <use x=\"494.970703\" xlink:href=\"#DejaVuSans-Bold-85\"/>\r\n     <use x=\"576.171875\" xlink:href=\"#DejaVuSans-Bold-110\"/>\r\n     <use x=\"647.363281\" xlink:href=\"#DejaVuSans-Bold-105\"/>\r\n     <use x=\"681.640625\" xlink:href=\"#DejaVuSans-Bold-116\"/>\r\n     <use x=\"729.443359\" xlink:href=\"#DejaVuSans-Bold-115\"/>\r\n     <use x=\"788.964844\" xlink:href=\"#DejaVuSans-Bold-32\"/>\r\n     <use x=\"823.779297\" xlink:href=\"#DejaVuSans-Bold-105\"/>\r\n     <use x=\"858.056641\" xlink:href=\"#DejaVuSans-Bold-110\"/>\r\n     <use x=\"929.248047\" xlink:href=\"#DejaVuSans-Bold-32\"/>\r\n     <use x=\"964.0625\" xlink:href=\"#DejaVuSans-Bold-83\"/>\r\n     <use x=\"1036.083984\" xlink:href=\"#DejaVuSans-Bold-97\"/>\r\n     <use x=\"1103.564453\" xlink:href=\"#DejaVuSans-Bold-110\"/>\r\n     <use x=\"1174.755859\" xlink:href=\"#DejaVuSans-Bold-32\"/>\r\n     <use x=\"1209.570312\" xlink:href=\"#DejaVuSans-Bold-70\"/>\r\n     <use x=\"1271.505859\" xlink:href=\"#DejaVuSans-Bold-114\"/>\r\n     <use x=\"1320.822266\" xlink:href=\"#DejaVuSans-Bold-97\"/>\r\n     <use x=\"1388.302734\" xlink:href=\"#DejaVuSans-Bold-110\"/>\r\n     <use x=\"1459.494141\" xlink:href=\"#DejaVuSans-Bold-99\"/>\r\n     <use x=\"1518.771484\" xlink:href=\"#DejaVuSans-Bold-105\"/>\r\n     <use x=\"1553.048828\" xlink:href=\"#DejaVuSans-Bold-115\"/>\r\n     <use x=\"1612.570312\" xlink:href=\"#DejaVuSans-Bold-99\"/>\r\n     <use x=\"1671.847656\" xlink:href=\"#DejaVuSans-Bold-111\"/>\r\n     <use x=\"1740.548828\" xlink:href=\"#DejaVuSans-Bold-32\"/>\r\n     <use x=\"1775.363281\" xlink:href=\"#DejaVuSans-Bold-102\"/>\r\n     <use x=\"1818.869141\" xlink:href=\"#DejaVuSans-Bold-114\"/>\r\n     <use x=\"1868.185547\" xlink:href=\"#DejaVuSans-Bold-111\"/>\r\n     <use x=\"1936.886719\" xlink:href=\"#DejaVuSans-Bold-109\"/>\r\n     <use x=\"2041.085938\" xlink:href=\"#DejaVuSans-Bold-32\"/>\r\n     <use x=\"2075.900391\" xlink:href=\"#DejaVuSans-Bold-50\"/>\r\n     <use x=\"2145.480469\" xlink:href=\"#DejaVuSans-Bold-48\"/>\r\n     <use x=\"2215.060547\" xlink:href=\"#DejaVuSans-Bold-49\"/>\r\n     <use x=\"2284.640625\" xlink:href=\"#DejaVuSans-Bold-48\"/>\r\n     <use x=\"2354.220703\" xlink:href=\"#DejaVuSans-Bold-32\"/>\r\n     <use x=\"2389.035156\" xlink:href=\"#DejaVuSans-Bold-116\"/>\r\n     <use x=\"2436.837891\" xlink:href=\"#DejaVuSans-Bold-111\"/>\r\n     <use x=\"2505.539062\" xlink:href=\"#DejaVuSans-Bold-32\"/>\r\n     <use x=\"2540.353516\" xlink:href=\"#DejaVuSans-Bold-50\"/>\r\n     <use x=\"2609.933594\" xlink:href=\"#DejaVuSans-Bold-48\"/>\r\n     <use x=\"2679.513672\" xlink:href=\"#DejaVuSans-Bold-49\"/>\r\n     <use x=\"2749.09375\" xlink:href=\"#DejaVuSans-Bold-54\"/>\r\n    </g>\r\n   </g>\r\n  </g>\r\n </g>\r\n <defs>\r\n  <clipPath id=\"pe662e65f38\">\r\n   <rect height=\"271.8\" width=\"446.4\" x=\"66.13125\" y=\"22.318125\"/>\r\n  </clipPath>\r\n </defs>\r\n</svg>\r\n",
      "image/png": "[encoded data removed]"
     },
     "metadata": {
      "needs_background": "light"
     }
    }
   ],
   "source": [
    "# Optional Challenge: Use the min, max, and std to scale the y limits of the chart\n",
    "fig_housing_units = plt.figure(figsize=(8, 5))\n",
    "plt.subplot()\n",
    "plt.bar(sfo_data_housing_units.index, sfo_data_housing_units)\n",
    "plt.title('Housing Units in San Francisco from 2010 to 2016', fontweight='bold')\n",
    "plt.xlabel('Year', fontweight='bold')\n",
    "plt.ylabel('Housing Units', fontweight='bold')\n",
    "\n",
    "# Determine the y axis limits based on minimum and maximum values and standard deviation\n",
    "low = sfo_data_housing_units.min() - sfo_data_housing_units.std()\n",
    "high = sfo_data_housing_units.max() + sfo_data_housing_units.std()\n",
    "plt.ylim(low , high)\n",
    "\n",
    "# Show the plot and then clear the data from cache\n",
    "plt.show()\n",
    "plt.close(fig_housing_units)"
   ]
  },
  {
   "cell_type": "markdown",
   "metadata": {},
   "source": [
    "- - - "
   ]
  },
  {
   "cell_type": "markdown",
   "metadata": {},
   "source": [
    "## Average Prices per Square Foot\n",
    "\n",
    "In this section, you will calculate the average gross rent and average sales price for each year. Plot the results as a line chart."
   ]
  },
  {
   "cell_type": "markdown",
   "metadata": {},
   "source": [
    "### Average Gross Rent in San Francisco Per Year"
   ]
  },
  {
   "cell_type": "code",
   "execution_count": 7,
   "metadata": {},
   "outputs": [
    {
     "output_type": "execute_result",
     "data": {
      "text/plain": [
       "      sale_price_sqr_foot  gross_rent\n",
       "year                                 \n",
       "2010           369.344353        1239\n",
       "2011           341.903429        1530\n",
       "2012           399.389968        2324\n",
       "2013           483.600304        2971\n",
       "2014           556.277273        3528\n",
       "2015           632.540352        3739\n",
       "2016           697.643709        4390"
      ],
      "text/html": "<div>\n<style scoped>\n    .dataframe tbody tr th:only-of-type {\n        vertical-align: middle;\n    }\n\n    .dataframe tbody tr th {\n        vertical-align: top;\n    }\n\n    .dataframe thead th {\n        text-align: right;\n    }\n</style>\n<table border=\"1\" class=\"dataframe\">\n  <thead>\n    <tr style=\"text-align: right;\">\n      <th></th>\n      <th>sale_price_sqr_foot</th>\n      <th>gross_rent</th>\n    </tr>\n    <tr>\n      <th>year</th>\n      <th></th>\n      <th></th>\n    </tr>\n  </thead>\n  <tbody>\n    <tr>\n      <th>2010</th>\n      <td>369.344353</td>\n      <td>1239</td>\n    </tr>\n    <tr>\n      <th>2011</th>\n      <td>341.903429</td>\n      <td>1530</td>\n    </tr>\n    <tr>\n      <th>2012</th>\n      <td>399.389968</td>\n      <td>2324</td>\n    </tr>\n    <tr>\n      <th>2013</th>\n      <td>483.600304</td>\n      <td>2971</td>\n    </tr>\n    <tr>\n      <th>2014</th>\n      <td>556.277273</td>\n      <td>3528</td>\n    </tr>\n    <tr>\n      <th>2015</th>\n      <td>632.540352</td>\n      <td>3739</td>\n    </tr>\n    <tr>\n      <th>2016</th>\n      <td>697.643709</td>\n      <td>4390</td>\n    </tr>\n  </tbody>\n</table>\n</div>"
     },
     "metadata": {},
     "execution_count": 7
    }
   ],
   "source": [
    "# Calculate the average gross rent and average sale price per square foot\n",
    "sfo_data_sale_price_and_gross_rent = pd.concat([sfo_data_group['sale_price_sqr_foot'], sfo_data_group['gross_rent']], axis='columns', join='inner')\n",
    "sfo_data_sale_price_and_gross_rent\n"
   ]
  },
  {
   "cell_type": "code",
   "execution_count": 8,
   "metadata": {},
   "outputs": [
    {
     "output_type": "display_data",
     "data": {
      "text/plain": "<Figure size 576x360 with 1 Axes>",
      "image/svg+xml": "<?xml version=\"1.0\" encoding=\"utf-8\" standalone=\"no\"?>\r\n<!DOCTYPE svg PUBLIC \"-//W3C//DTD SVG 1.1//EN\"\r\n  \"http://www.w3.org/Graphics/SVG/1.1/DTD/svg11.dtd\">\r\n<!-- Created with matplotlib (https://matplotlib.org/) -->\r\n<svg height=\"331.674375pt\" version=\"1.1\" viewBox=\"0 0 519.653125 331.674375\" width=\"519.653125pt\" xmlns=\"http://www.w3.org/2000/svg\" xmlns:xlink=\"http://www.w3.org/1999/xlink\">\r\n <metadata>\r\n  <rdf:RDF xmlns:cc=\"http://creativecommons.org/ns#\" xmlns:dc=\"http://purl.org/dc/elements/1.1/\" xmlns:rdf=\"http://www.w3.org/1999/02/22-rdf-syntax-ns#\">\r\n   <cc:Work>\r\n    <dc:type rdf:resource=\"http://purl.org/dc/dcmitype/StillImage\"/>\r\n    <dc:date>2020-10-18T22:06:34.600194</dc:date>\r\n    <dc:format>image/svg+xml</dc:format>\r\n    <dc:creator>\r\n     <cc:Agent>\r\n      <dc:title>Matplotlib v3.3.1, https://matplotlib.org/</dc:title>\r\n     </cc:Agent>\r\n    </dc:creator>\r\n   </cc:Work>\r\n  </rdf:RDF>\r\n </metadata>\r\n <defs>\r\n  <style type=\"text/css\">*{stroke-linecap:butt;stroke-linejoin:round;}</style>\r\n </defs>\r\n <g id=\"figure_1\">\r\n  <g id=\"patch_1\">\r\n   <path d=\"M 0 331.674375 \r\nL 519.653125 331.674375 \r\nL 519.653125 0 \r\nL 0 0 \r\nz\r\n\" style=\"fill:none;\"/>\r\n  </g>\r\n  <g id=\"axes_1\">\r\n   <g id=\"patch_2\">\r\n    <path d=\"M 53.328125 294.118125 \r\nL 499.728125 294.118125 \r\nL 499.728125 22.318125 \r\nL 53.328125 22.318125 \r\nz\r\n\" style=\"fill:#ffffff;\"/>\r\n   </g>\r\n   <g id=\"matplotlib.axis_1\">\r\n    <g id=\"xtick_1\">\r\n     <g id=\"line2d_1\">\r\n      <defs>\r\n       <path d=\"M 0 0 \r\nL 0 3.5 \r\n\" id=\"m183c97771b\" style=\"stroke:#000000;stroke-width:0.8;\"/>\r\n      </defs>\r\n      <g>\r\n       <use style=\"stroke:#000000;stroke-width:0.8;\" x=\"53.328125\" xlink:href=\"#m183c97771b\" y=\"294.118125\"/>\r\n      </g>\r\n     </g>\r\n     <g id=\"text_1\">\r\n      <!-- 2010 -->\r\n      <g transform=\"translate(40.603125 308.716563)scale(0.1 -0.1)\">\r\n       <defs>\r\n        <path d=\"M 19.1875 8.296875 \r\nL 53.609375 8.296875 \r\nL 53.609375 0 \r\nL 7.328125 0 \r\nL 7.328125 8.296875 \r\nQ 12.9375 14.109375 22.625 23.890625 \r\nQ 32.328125 33.6875 34.8125 36.53125 \r\nQ 39.546875 41.84375 41.421875 45.53125 \r\nQ 43.3125 49.21875 43.3125 52.78125 \r\nQ 43.3125 58.59375 39.234375 62.25 \r\nQ 35.15625 65.921875 28.609375 65.921875 \r\nQ 23.96875 65.921875 18.8125 64.3125 \r\nQ 13.671875 62.703125 7.8125 59.421875 \r\nL 7.8125 69.390625 \r\nQ 13.765625 71.78125 18.9375 73 \r\nQ 24.125 74.21875 28.421875 74.21875 \r\nQ 39.75 74.21875 46.484375 68.546875 \r\nQ 53.21875 62.890625 53.21875 53.421875 \r\nQ 53.21875 48.921875 51.53125 44.890625 \r\nQ 49.859375 40.875 45.40625 35.40625 \r\nQ 44.1875 33.984375 37.640625 27.21875 \r\nQ 31.109375 20.453125 19.1875 8.296875 \r\nz\r\n\" id=\"DejaVuSans-50\"/>\r\n        <path d=\"M 31.78125 66.40625 \r\nQ 24.171875 66.40625 20.328125 58.90625 \r\nQ 16.5 51.421875 16.5 36.375 \r\nQ 16.5 21.390625 20.328125 13.890625 \r\nQ 24.171875 6.390625 31.78125 6.390625 \r\nQ 39.453125 6.390625 43.28125 13.890625 \r\nQ 47.125 21.390625 47.125 36.375 \r\nQ 47.125 51.421875 43.28125 58.90625 \r\nQ 39.453125 66.40625 31.78125 66.40625 \r\nz\r\nM 31.78125 74.21875 \r\nQ 44.046875 74.21875 50.515625 64.515625 \r\nQ 56.984375 54.828125 56.984375 36.375 \r\nQ 56.984375 17.96875 50.515625 8.265625 \r\nQ 44.046875 -1.421875 31.78125 -1.421875 \r\nQ 19.53125 -1.421875 13.0625 8.265625 \r\nQ 6.59375 17.96875 6.59375 36.375 \r\nQ 6.59375 54.828125 13.0625 64.515625 \r\nQ 19.53125 74.21875 31.78125 74.21875 \r\nz\r\n\" id=\"DejaVuSans-48\"/>\r\n        <path d=\"M 12.40625 8.296875 \r\nL 28.515625 8.296875 \r\nL 28.515625 63.921875 \r\nL 10.984375 60.40625 \r\nL 10.984375 69.390625 \r\nL 28.421875 72.90625 \r\nL 38.28125 72.90625 \r\nL 38.28125 8.296875 \r\nL 54.390625 8.296875 \r\nL 54.390625 0 \r\nL 12.40625 0 \r\nz\r\n\" id=\"DejaVuSans-49\"/>\r\n       </defs>\r\n       <use xlink:href=\"#DejaVuSans-50\"/>\r\n       <use x=\"63.623047\" xlink:href=\"#DejaVuSans-48\"/>\r\n       <use x=\"127.246094\" xlink:href=\"#DejaVuSans-49\"/>\r\n       <use x=\"190.869141\" xlink:href=\"#DejaVuSans-48\"/>\r\n      </g>\r\n     </g>\r\n    </g>\r\n    <g id=\"xtick_2\">\r\n     <g id=\"line2d_2\">\r\n      <g>\r\n       <use style=\"stroke:#000000;stroke-width:0.8;\" x=\"127.728125\" xlink:href=\"#m183c97771b\" y=\"294.118125\"/>\r\n      </g>\r\n     </g>\r\n     <g id=\"text_2\">\r\n      <!-- 2011 -->\r\n      <g transform=\"translate(115.003125 308.716563)scale(0.1 -0.1)\">\r\n       <use xlink:href=\"#DejaVuSans-50\"/>\r\n       <use x=\"63.623047\" xlink:href=\"#DejaVuSans-48\"/>\r\n       <use x=\"127.246094\" xlink:href=\"#DejaVuSans-49\"/>\r\n       <use x=\"190.869141\" xlink:href=\"#DejaVuSans-49\"/>\r\n      </g>\r\n     </g>\r\n    </g>\r\n    <g id=\"xtick_3\">\r\n     <g id=\"line2d_3\">\r\n      <g>\r\n       <use style=\"stroke:#000000;stroke-width:0.8;\" x=\"202.128125\" xlink:href=\"#m183c97771b\" y=\"294.118125\"/>\r\n      </g>\r\n     </g>\r\n     <g id=\"text_3\">\r\n      <!-- 2012 -->\r\n      <g transform=\"translate(189.403125 308.716563)scale(0.1 -0.1)\">\r\n       <use xlink:href=\"#DejaVuSans-50\"/>\r\n       <use x=\"63.623047\" xlink:href=\"#DejaVuSans-48\"/>\r\n       <use x=\"127.246094\" xlink:href=\"#DejaVuSans-49\"/>\r\n       <use x=\"190.869141\" xlink:href=\"#DejaVuSans-50\"/>\r\n      </g>\r\n     </g>\r\n    </g>\r\n    <g id=\"xtick_4\">\r\n     <g id=\"line2d_4\">\r\n      <g>\r\n       <use style=\"stroke:#000000;stroke-width:0.8;\" x=\"276.528125\" xlink:href=\"#m183c97771b\" y=\"294.118125\"/>\r\n      </g>\r\n     </g>\r\n     <g id=\"text_4\">\r\n      <!-- 2013 -->\r\n      <g transform=\"translate(263.803125 308.716563)scale(0.1 -0.1)\">\r\n       <defs>\r\n        <path d=\"M 40.578125 39.3125 \r\nQ 47.65625 37.796875 51.625 33 \r\nQ 55.609375 28.21875 55.609375 21.1875 \r\nQ 55.609375 10.40625 48.1875 4.484375 \r\nQ 40.765625 -1.421875 27.09375 -1.421875 \r\nQ 22.515625 -1.421875 17.65625 -0.515625 \r\nQ 12.796875 0.390625 7.625 2.203125 \r\nL 7.625 11.71875 \r\nQ 11.71875 9.328125 16.59375 8.109375 \r\nQ 21.484375 6.890625 26.8125 6.890625 \r\nQ 36.078125 6.890625 40.9375 10.546875 \r\nQ 45.796875 14.203125 45.796875 21.1875 \r\nQ 45.796875 27.640625 41.28125 31.265625 \r\nQ 36.765625 34.90625 28.71875 34.90625 \r\nL 20.21875 34.90625 \r\nL 20.21875 43.015625 \r\nL 29.109375 43.015625 \r\nQ 36.375 43.015625 40.234375 45.921875 \r\nQ 44.09375 48.828125 44.09375 54.296875 \r\nQ 44.09375 59.90625 40.109375 62.90625 \r\nQ 36.140625 65.921875 28.71875 65.921875 \r\nQ 24.65625 65.921875 20.015625 65.03125 \r\nQ 15.375 64.15625 9.8125 62.3125 \r\nL 9.8125 71.09375 \r\nQ 15.4375 72.65625 20.34375 73.4375 \r\nQ 25.25 74.21875 29.59375 74.21875 \r\nQ 40.828125 74.21875 47.359375 69.109375 \r\nQ 53.90625 64.015625 53.90625 55.328125 \r\nQ 53.90625 49.265625 50.4375 45.09375 \r\nQ 46.96875 40.921875 40.578125 39.3125 \r\nz\r\n\" id=\"DejaVuSans-51\"/>\r\n       </defs>\r\n       <use xlink:href=\"#DejaVuSans-50\"/>\r\n       <use x=\"63.623047\" xlink:href=\"#DejaVuSans-48\"/>\r\n       <use x=\"127.246094\" xlink:href=\"#DejaVuSans-49\"/>\r\n       <use x=\"190.869141\" xlink:href=\"#DejaVuSans-51\"/>\r\n      </g>\r\n     </g>\r\n    </g>\r\n    <g id=\"xtick_5\">\r\n     <g id=\"line2d_5\">\r\n      <g>\r\n       <use style=\"stroke:#000000;stroke-width:0.8;\" x=\"350.928125\" xlink:href=\"#m183c97771b\" y=\"294.118125\"/>\r\n      </g>\r\n     </g>\r\n     <g id=\"text_5\">\r\n      <!-- 2014 -->\r\n      <g transform=\"translate(338.203125 308.716563)scale(0.1 -0.1)\">\r\n       <defs>\r\n        <path d=\"M 37.796875 64.3125 \r\nL 12.890625 25.390625 \r\nL 37.796875 25.390625 \r\nz\r\nM 35.203125 72.90625 \r\nL 47.609375 72.90625 \r\nL 47.609375 25.390625 \r\nL 58.015625 25.390625 \r\nL 58.015625 17.1875 \r\nL 47.609375 17.1875 \r\nL 47.609375 0 \r\nL 37.796875 0 \r\nL 37.796875 17.1875 \r\nL 4.890625 17.1875 \r\nL 4.890625 26.703125 \r\nz\r\n\" id=\"DejaVuSans-52\"/>\r\n       </defs>\r\n       <use xlink:href=\"#DejaVuSans-50\"/>\r\n       <use x=\"63.623047\" xlink:href=\"#DejaVuSans-48\"/>\r\n       <use x=\"127.246094\" xlink:href=\"#DejaVuSans-49\"/>\r\n       <use x=\"190.869141\" xlink:href=\"#DejaVuSans-52\"/>\r\n      </g>\r\n     </g>\r\n    </g>\r\n    <g id=\"xtick_6\">\r\n     <g id=\"line2d_6\">\r\n      <g>\r\n       <use style=\"stroke:#000000;stroke-width:0.8;\" x=\"425.328125\" xlink:href=\"#m183c97771b\" y=\"294.118125\"/>\r\n      </g>\r\n     </g>\r\n     <g id=\"text_6\">\r\n      <!-- 2015 -->\r\n      <g transform=\"translate(412.603125 308.716563)scale(0.1 -0.1)\">\r\n       <defs>\r\n        <path d=\"M 10.796875 72.90625 \r\nL 49.515625 72.90625 \r\nL 49.515625 64.59375 \r\nL 19.828125 64.59375 \r\nL 19.828125 46.734375 \r\nQ 21.96875 47.46875 24.109375 47.828125 \r\nQ 26.265625 48.1875 28.421875 48.1875 \r\nQ 40.625 48.1875 47.75 41.5 \r\nQ 54.890625 34.8125 54.890625 23.390625 \r\nQ 54.890625 11.625 47.5625 5.09375 \r\nQ 40.234375 -1.421875 26.90625 -1.421875 \r\nQ 22.3125 -1.421875 17.546875 -0.640625 \r\nQ 12.796875 0.140625 7.71875 1.703125 \r\nL 7.71875 11.625 \r\nQ 12.109375 9.234375 16.796875 8.0625 \r\nQ 21.484375 6.890625 26.703125 6.890625 \r\nQ 35.15625 6.890625 40.078125 11.328125 \r\nQ 45.015625 15.765625 45.015625 23.390625 \r\nQ 45.015625 31 40.078125 35.4375 \r\nQ 35.15625 39.890625 26.703125 39.890625 \r\nQ 22.75 39.890625 18.8125 39.015625 \r\nQ 14.890625 38.140625 10.796875 36.28125 \r\nz\r\n\" id=\"DejaVuSans-53\"/>\r\n       </defs>\r\n       <use xlink:href=\"#DejaVuSans-50\"/>\r\n       <use x=\"63.623047\" xlink:href=\"#DejaVuSans-48\"/>\r\n       <use x=\"127.246094\" xlink:href=\"#DejaVuSans-49\"/>\r\n       <use x=\"190.869141\" xlink:href=\"#DejaVuSans-53\"/>\r\n      </g>\r\n     </g>\r\n    </g>\r\n    <g id=\"xtick_7\">\r\n     <g id=\"line2d_7\">\r\n      <g>\r\n       <use style=\"stroke:#000000;stroke-width:0.8;\" x=\"499.728125\" xlink:href=\"#m183c97771b\" y=\"294.118125\"/>\r\n      </g>\r\n     </g>\r\n     <g id=\"text_7\">\r\n      <!-- 2016 -->\r\n      <g transform=\"translate(487.003125 308.716563)scale(0.1 -0.1)\">\r\n       <defs>\r\n        <path d=\"M 33.015625 40.375 \r\nQ 26.375 40.375 22.484375 35.828125 \r\nQ 18.609375 31.296875 18.609375 23.390625 \r\nQ 18.609375 15.53125 22.484375 10.953125 \r\nQ 26.375 6.390625 33.015625 6.390625 \r\nQ 39.65625 6.390625 43.53125 10.953125 \r\nQ 47.40625 15.53125 47.40625 23.390625 \r\nQ 47.40625 31.296875 43.53125 35.828125 \r\nQ 39.65625 40.375 33.015625 40.375 \r\nz\r\nM 52.59375 71.296875 \r\nL 52.59375 62.3125 \r\nQ 48.875 64.0625 45.09375 64.984375 \r\nQ 41.3125 65.921875 37.59375 65.921875 \r\nQ 27.828125 65.921875 22.671875 59.328125 \r\nQ 17.53125 52.734375 16.796875 39.40625 \r\nQ 19.671875 43.65625 24.015625 45.921875 \r\nQ 28.375 48.1875 33.59375 48.1875 \r\nQ 44.578125 48.1875 50.953125 41.515625 \r\nQ 57.328125 34.859375 57.328125 23.390625 \r\nQ 57.328125 12.15625 50.6875 5.359375 \r\nQ 44.046875 -1.421875 33.015625 -1.421875 \r\nQ 20.359375 -1.421875 13.671875 8.265625 \r\nQ 6.984375 17.96875 6.984375 36.375 \r\nQ 6.984375 53.65625 15.1875 63.9375 \r\nQ 23.390625 74.21875 37.203125 74.21875 \r\nQ 40.921875 74.21875 44.703125 73.484375 \r\nQ 48.484375 72.75 52.59375 71.296875 \r\nz\r\n\" id=\"DejaVuSans-54\"/>\r\n       </defs>\r\n       <use xlink:href=\"#DejaVuSans-50\"/>\r\n       <use x=\"63.623047\" xlink:href=\"#DejaVuSans-48\"/>\r\n       <use x=\"127.246094\" xlink:href=\"#DejaVuSans-49\"/>\r\n       <use x=\"190.869141\" xlink:href=\"#DejaVuSans-54\"/>\r\n      </g>\r\n     </g>\r\n    </g>\r\n    <g id=\"text_8\">\r\n     <!-- Year -->\r\n     <g transform=\"translate(264.132812 322.394687)scale(0.1 -0.1)\">\r\n      <defs>\r\n       <path d=\"M -0.984375 72.90625 \r\nL 19.578125 72.90625 \r\nL 36.1875 46.921875 \r\nL 52.78125 72.90625 \r\nL 73.390625 72.90625 \r\nL 45.609375 30.71875 \r\nL 45.609375 0 \r\nL 26.8125 0 \r\nL 26.8125 30.71875 \r\nz\r\n\" id=\"DejaVuSans-Bold-89\"/>\r\n       <path d=\"M 62.984375 27.484375 \r\nL 62.984375 22.515625 \r\nL 22.125 22.515625 \r\nQ 22.75 16.359375 26.5625 13.28125 \r\nQ 30.375 10.203125 37.203125 10.203125 \r\nQ 42.71875 10.203125 48.5 11.84375 \r\nQ 54.296875 13.484375 60.40625 16.796875 \r\nL 60.40625 3.328125 \r\nQ 54.203125 0.984375 48 -0.21875 \r\nQ 41.796875 -1.421875 35.59375 -1.421875 \r\nQ 20.75 -1.421875 12.515625 6.125 \r\nQ 4.296875 13.671875 4.296875 27.296875 \r\nQ 4.296875 40.671875 12.375 48.328125 \r\nQ 20.453125 56 34.625 56 \r\nQ 47.515625 56 55.25 48.234375 \r\nQ 62.984375 40.484375 62.984375 27.484375 \r\nz\r\nM 45.015625 33.296875 \r\nQ 45.015625 38.28125 42.109375 41.328125 \r\nQ 39.203125 44.390625 34.515625 44.390625 \r\nQ 29.4375 44.390625 26.265625 41.53125 \r\nQ 23.09375 38.671875 22.3125 33.296875 \r\nz\r\n\" id=\"DejaVuSans-Bold-101\"/>\r\n       <path d=\"M 32.90625 24.609375 \r\nQ 27.4375 24.609375 24.671875 22.75 \r\nQ 21.921875 20.90625 21.921875 17.28125 \r\nQ 21.921875 13.96875 24.140625 12.078125 \r\nQ 26.375 10.203125 30.328125 10.203125 \r\nQ 35.25 10.203125 38.625 13.734375 \r\nQ 42 17.28125 42 22.609375 \r\nL 42 24.609375 \r\nz\r\nM 59.625 31.203125 \r\nL 59.625 0 \r\nL 42 0 \r\nL 42 8.109375 \r\nQ 38.484375 3.125 34.078125 0.84375 \r\nQ 29.6875 -1.421875 23.390625 -1.421875 \r\nQ 14.890625 -1.421875 9.59375 3.53125 \r\nQ 4.296875 8.5 4.296875 16.40625 \r\nQ 4.296875 26.03125 10.90625 30.515625 \r\nQ 17.53125 35.015625 31.6875 35.015625 \r\nL 42 35.015625 \r\nL 42 36.375 \r\nQ 42 40.53125 38.71875 42.453125 \r\nQ 35.453125 44.390625 28.515625 44.390625 \r\nQ 22.90625 44.390625 18.0625 43.265625 \r\nQ 13.234375 42.140625 9.078125 39.890625 \r\nL 9.078125 53.21875 \r\nQ 14.703125 54.59375 20.359375 55.296875 \r\nQ 26.03125 56 31.6875 56 \r\nQ 46.484375 56 53.046875 50.171875 \r\nQ 59.625 44.34375 59.625 31.203125 \r\nz\r\n\" id=\"DejaVuSans-Bold-97\"/>\r\n       <path d=\"M 49.03125 39.796875 \r\nQ 46.734375 40.875 44.453125 41.375 \r\nQ 42.1875 41.890625 39.890625 41.890625 \r\nQ 33.15625 41.890625 29.515625 37.5625 \r\nQ 25.875 33.25 25.875 25.203125 \r\nL 25.875 0 \r\nL 8.40625 0 \r\nL 8.40625 54.6875 \r\nL 25.875 54.6875 \r\nL 25.875 45.703125 \r\nQ 29.25 51.078125 33.609375 53.53125 \r\nQ 37.984375 56 44.09375 56 \r\nQ 44.96875 56 45.984375 55.921875 \r\nQ 47.015625 55.859375 48.96875 55.609375 \r\nz\r\n\" id=\"DejaVuSans-Bold-114\"/>\r\n      </defs>\r\n      <use xlink:href=\"#DejaVuSans-Bold-89\"/>\r\n      <use x=\"63.287109\" xlink:href=\"#DejaVuSans-Bold-101\"/>\r\n      <use x=\"131.109375\" xlink:href=\"#DejaVuSans-Bold-97\"/>\r\n      <use x=\"198.589844\" xlink:href=\"#DejaVuSans-Bold-114\"/>\r\n     </g>\r\n    </g>\r\n   </g>\r\n   <g id=\"matplotlib.axis_2\">\r\n    <g id=\"ytick_1\">\r\n     <g id=\"line2d_8\">\r\n      <defs>\r\n       <path d=\"M 0 0 \r\nL -3.5 0 \r\n\" id=\"m933919cfc3\" style=\"stroke:#000000;stroke-width:0.8;\"/>\r\n      </defs>\r\n      <g>\r\n       <use style=\"stroke:#000000;stroke-width:0.8;\" x=\"53.328125\" xlink:href=\"#m933919cfc3\" y=\"261.29683\"/>\r\n      </g>\r\n     </g>\r\n     <g id=\"text_9\">\r\n      <!-- 1500 -->\r\n      <g transform=\"translate(20.878125 265.096049)scale(0.1 -0.1)\">\r\n       <use xlink:href=\"#DejaVuSans-49\"/>\r\n       <use x=\"63.623047\" xlink:href=\"#DejaVuSans-53\"/>\r\n       <use x=\"127.246094\" xlink:href=\"#DejaVuSans-48\"/>\r\n       <use x=\"190.869141\" xlink:href=\"#DejaVuSans-48\"/>\r\n      </g>\r\n     </g>\r\n    </g>\r\n    <g id=\"ytick_2\">\r\n     <g id=\"line2d_9\">\r\n      <g>\r\n       <use style=\"stroke:#000000;stroke-width:0.8;\" x=\"53.328125\" xlink:href=\"#m933919cfc3\" y=\"222.088498\"/>\r\n      </g>\r\n     </g>\r\n     <g id=\"text_10\">\r\n      <!-- 2000 -->\r\n      <g transform=\"translate(20.878125 225.887717)scale(0.1 -0.1)\">\r\n       <use xlink:href=\"#DejaVuSans-50\"/>\r\n       <use x=\"63.623047\" xlink:href=\"#DejaVuSans-48\"/>\r\n       <use x=\"127.246094\" xlink:href=\"#DejaVuSans-48\"/>\r\n       <use x=\"190.869141\" xlink:href=\"#DejaVuSans-48\"/>\r\n      </g>\r\n     </g>\r\n    </g>\r\n    <g id=\"ytick_3\">\r\n     <g id=\"line2d_10\">\r\n      <g>\r\n       <use style=\"stroke:#000000;stroke-width:0.8;\" x=\"53.328125\" xlink:href=\"#m933919cfc3\" y=\"182.880166\"/>\r\n      </g>\r\n     </g>\r\n     <g id=\"text_11\">\r\n      <!-- 2500 -->\r\n      <g transform=\"translate(20.878125 186.679385)scale(0.1 -0.1)\">\r\n       <use xlink:href=\"#DejaVuSans-50\"/>\r\n       <use x=\"63.623047\" xlink:href=\"#DejaVuSans-53\"/>\r\n       <use x=\"127.246094\" xlink:href=\"#DejaVuSans-48\"/>\r\n       <use x=\"190.869141\" xlink:href=\"#DejaVuSans-48\"/>\r\n      </g>\r\n     </g>\r\n    </g>\r\n    <g id=\"ytick_4\">\r\n     <g id=\"line2d_11\">\r\n      <g>\r\n       <use style=\"stroke:#000000;stroke-width:0.8;\" x=\"53.328125\" xlink:href=\"#m933919cfc3\" y=\"143.671834\"/>\r\n      </g>\r\n     </g>\r\n     <g id=\"text_12\">\r\n      <!-- 3000 -->\r\n      <g transform=\"translate(20.878125 147.471053)scale(0.1 -0.1)\">\r\n       <use xlink:href=\"#DejaVuSans-51\"/>\r\n       <use x=\"63.623047\" xlink:href=\"#DejaVuSans-48\"/>\r\n       <use x=\"127.246094\" xlink:href=\"#DejaVuSans-48\"/>\r\n       <use x=\"190.869141\" xlink:href=\"#DejaVuSans-48\"/>\r\n      </g>\r\n     </g>\r\n    </g>\r\n    <g id=\"ytick_5\">\r\n     <g id=\"line2d_12\">\r\n      <g>\r\n       <use style=\"stroke:#000000;stroke-width:0.8;\" x=\"53.328125\" xlink:href=\"#m933919cfc3\" y=\"104.463502\"/>\r\n      </g>\r\n     </g>\r\n     <g id=\"text_13\">\r\n      <!-- 3500 -->\r\n      <g transform=\"translate(20.878125 108.26272)scale(0.1 -0.1)\">\r\n       <use xlink:href=\"#DejaVuSans-51\"/>\r\n       <use x=\"63.623047\" xlink:href=\"#DejaVuSans-53\"/>\r\n       <use x=\"127.246094\" xlink:href=\"#DejaVuSans-48\"/>\r\n       <use x=\"190.869141\" xlink:href=\"#DejaVuSans-48\"/>\r\n      </g>\r\n     </g>\r\n    </g>\r\n    <g id=\"ytick_6\">\r\n     <g id=\"line2d_13\">\r\n      <g>\r\n       <use style=\"stroke:#000000;stroke-width:0.8;\" x=\"53.328125\" xlink:href=\"#m933919cfc3\" y=\"65.25517\"/>\r\n      </g>\r\n     </g>\r\n     <g id=\"text_14\">\r\n      <!-- 4000 -->\r\n      <g transform=\"translate(20.878125 69.054388)scale(0.1 -0.1)\">\r\n       <use xlink:href=\"#DejaVuSans-52\"/>\r\n       <use x=\"63.623047\" xlink:href=\"#DejaVuSans-48\"/>\r\n       <use x=\"127.246094\" xlink:href=\"#DejaVuSans-48\"/>\r\n       <use x=\"190.869141\" xlink:href=\"#DejaVuSans-48\"/>\r\n      </g>\r\n     </g>\r\n    </g>\r\n    <g id=\"ytick_7\">\r\n     <g id=\"line2d_14\">\r\n      <g>\r\n       <use style=\"stroke:#000000;stroke-width:0.8;\" x=\"53.328125\" xlink:href=\"#m933919cfc3\" y=\"26.046837\"/>\r\n      </g>\r\n     </g>\r\n     <g id=\"text_15\">\r\n      <!-- 4500 -->\r\n      <g transform=\"translate(20.878125 29.846056)scale(0.1 -0.1)\">\r\n       <use xlink:href=\"#DejaVuSans-52\"/>\r\n       <use x=\"63.623047\" xlink:href=\"#DejaVuSans-53\"/>\r\n       <use x=\"127.246094\" xlink:href=\"#DejaVuSans-48\"/>\r\n       <use x=\"190.869141\" xlink:href=\"#DejaVuSans-48\"/>\r\n      </g>\r\n     </g>\r\n    </g>\r\n    <g id=\"text_16\">\r\n     <!-- Gross Rent -->\r\n     <g transform=\"translate(14.798438 189.105625)rotate(-90)scale(0.1 -0.1)\">\r\n      <defs>\r\n       <path d=\"M 74.703125 5.421875 \r\nQ 67.671875 2 60.109375 0.28125 \r\nQ 52.546875 -1.421875 44.484375 -1.421875 \r\nQ 26.265625 -1.421875 15.625 8.765625 \r\nQ 4.984375 18.953125 4.984375 36.375 \r\nQ 4.984375 54 15.8125 64.109375 \r\nQ 26.65625 74.21875 45.515625 74.21875 \r\nQ 52.78125 74.21875 59.4375 72.84375 \r\nQ 66.109375 71.484375 72.015625 68.796875 \r\nL 72.015625 53.71875 \r\nQ 65.921875 57.171875 59.890625 58.875 \r\nQ 53.859375 60.59375 47.796875 60.59375 \r\nQ 36.578125 60.59375 30.5 54.3125 \r\nQ 24.421875 48.046875 24.421875 36.375 \r\nQ 24.421875 24.8125 30.28125 18.5 \r\nQ 36.140625 12.203125 46.921875 12.203125 \r\nQ 49.859375 12.203125 52.375 12.5625 \r\nQ 54.890625 12.9375 56.890625 13.71875 \r\nL 56.890625 27.875 \r\nL 45.40625 27.875 \r\nL 45.40625 40.484375 \r\nL 74.703125 40.484375 \r\nz\r\n\" id=\"DejaVuSans-Bold-71\"/>\r\n       <path d=\"M 34.421875 43.5 \r\nQ 28.609375 43.5 25.5625 39.328125 \r\nQ 22.515625 35.15625 22.515625 27.296875 \r\nQ 22.515625 19.4375 25.5625 15.25 \r\nQ 28.609375 11.078125 34.421875 11.078125 \r\nQ 40.140625 11.078125 43.15625 15.25 \r\nQ 46.1875 19.4375 46.1875 27.296875 \r\nQ 46.1875 35.15625 43.15625 39.328125 \r\nQ 40.140625 43.5 34.421875 43.5 \r\nz\r\nM 34.421875 56 \r\nQ 48.53125 56 56.46875 48.375 \r\nQ 64.40625 40.765625 64.40625 27.296875 \r\nQ 64.40625 13.8125 56.46875 6.1875 \r\nQ 48.53125 -1.421875 34.421875 -1.421875 \r\nQ 20.265625 -1.421875 12.28125 6.1875 \r\nQ 4.296875 13.8125 4.296875 27.296875 \r\nQ 4.296875 40.765625 12.28125 48.375 \r\nQ 20.265625 56 34.421875 56 \r\nz\r\n\" id=\"DejaVuSans-Bold-111\"/>\r\n       <path d=\"M 51.125 52.984375 \r\nL 51.125 39.703125 \r\nQ 45.515625 42.046875 40.28125 43.21875 \r\nQ 35.0625 44.390625 30.421875 44.390625 \r\nQ 25.4375 44.390625 23.015625 43.140625 \r\nQ 20.609375 41.890625 20.609375 39.3125 \r\nQ 20.609375 37.203125 22.4375 36.078125 \r\nQ 24.265625 34.96875 29 34.421875 \r\nL 32.078125 33.984375 \r\nQ 45.515625 32.28125 50.140625 28.375 \r\nQ 54.78125 24.46875 54.78125 16.109375 \r\nQ 54.78125 7.375 48.328125 2.96875 \r\nQ 41.890625 -1.421875 29.109375 -1.421875 \r\nQ 23.6875 -1.421875 17.890625 -0.5625 \r\nQ 12.109375 0.296875 6 2 \r\nL 6 15.28125 \r\nQ 11.234375 12.75 16.71875 11.46875 \r\nQ 22.21875 10.203125 27.875 10.203125 \r\nQ 33.015625 10.203125 35.59375 11.609375 \r\nQ 38.1875 13.03125 38.1875 15.828125 \r\nQ 38.1875 18.171875 36.40625 19.3125 \r\nQ 34.625 20.453125 29.296875 21.09375 \r\nL 26.21875 21.484375 \r\nQ 14.546875 22.953125 9.859375 26.90625 \r\nQ 5.171875 30.859375 5.171875 38.921875 \r\nQ 5.171875 47.609375 11.125 51.796875 \r\nQ 17.09375 56 29.390625 56 \r\nQ 34.234375 56 39.546875 55.265625 \r\nQ 44.875 54.546875 51.125 52.984375 \r\nz\r\n\" id=\"DejaVuSans-Bold-115\"/>\r\n       <path id=\"DejaVuSans-Bold-32\"/>\r\n       <path d=\"M 35.890625 40.578125 \r\nQ 41.796875 40.578125 44.359375 42.765625 \r\nQ 46.921875 44.96875 46.921875 50 \r\nQ 46.921875 54.984375 44.359375 57.125 \r\nQ 41.796875 59.28125 35.890625 59.28125 \r\nL 27.984375 59.28125 \r\nL 27.984375 40.578125 \r\nz\r\nM 27.984375 27.59375 \r\nL 27.984375 0 \r\nL 9.1875 0 \r\nL 9.1875 72.90625 \r\nL 37.890625 72.90625 \r\nQ 52.296875 72.90625 59 68.0625 \r\nQ 65.71875 63.234375 65.71875 52.78125 \r\nQ 65.71875 45.5625 62.21875 40.921875 \r\nQ 58.734375 36.28125 51.703125 34.078125 \r\nQ 55.5625 33.203125 58.609375 30.09375 \r\nQ 61.671875 27 64.796875 20.703125 \r\nL 75 0 \r\nL 54.984375 0 \r\nL 46.09375 18.109375 \r\nQ 43.40625 23.578125 40.640625 25.578125 \r\nQ 37.890625 27.59375 33.296875 27.59375 \r\nz\r\n\" id=\"DejaVuSans-Bold-82\"/>\r\n       <path d=\"M 63.375 33.296875 \r\nL 63.375 0 \r\nL 45.796875 0 \r\nL 45.796875 5.421875 \r\nL 45.796875 25.484375 \r\nQ 45.796875 32.5625 45.484375 35.25 \r\nQ 45.171875 37.9375 44.390625 39.203125 \r\nQ 43.359375 40.921875 41.59375 41.875 \r\nQ 39.84375 42.828125 37.59375 42.828125 \r\nQ 32.125 42.828125 29 38.59375 \r\nQ 25.875 34.375 25.875 26.90625 \r\nL 25.875 0 \r\nL 8.40625 0 \r\nL 8.40625 54.6875 \r\nL 25.875 54.6875 \r\nL 25.875 46.6875 \r\nQ 29.828125 51.46875 34.265625 53.734375 \r\nQ 38.71875 56 44.09375 56 \r\nQ 53.5625 56 58.46875 50.1875 \r\nQ 63.375 44.390625 63.375 33.296875 \r\nz\r\n\" id=\"DejaVuSans-Bold-110\"/>\r\n       <path d=\"M 27.484375 70.21875 \r\nL 27.484375 54.6875 \r\nL 45.515625 54.6875 \r\nL 45.515625 42.1875 \r\nL 27.484375 42.1875 \r\nL 27.484375 19 \r\nQ 27.484375 15.1875 29 13.84375 \r\nQ 30.515625 12.5 35.015625 12.5 \r\nL 44 12.5 \r\nL 44 0 \r\nL 29 0 \r\nQ 18.65625 0 14.328125 4.3125 \r\nQ 10.015625 8.640625 10.015625 19 \r\nL 10.015625 42.1875 \r\nL 1.3125 42.1875 \r\nL 1.3125 54.6875 \r\nL 10.015625 54.6875 \r\nL 10.015625 70.21875 \r\nz\r\n\" id=\"DejaVuSans-Bold-116\"/>\r\n      </defs>\r\n      <use xlink:href=\"#DejaVuSans-Bold-71\"/>\r\n      <use x=\"82.080078\" xlink:href=\"#DejaVuSans-Bold-114\"/>\r\n      <use x=\"131.396484\" xlink:href=\"#DejaVuSans-Bold-111\"/>\r\n      <use x=\"200.097656\" xlink:href=\"#DejaVuSans-Bold-115\"/>\r\n      <use x=\"259.619141\" xlink:href=\"#DejaVuSans-Bold-115\"/>\r\n      <use x=\"319.140625\" xlink:href=\"#DejaVuSans-Bold-32\"/>\r\n      <use x=\"353.955078\" xlink:href=\"#DejaVuSans-Bold-82\"/>\r\n      <use x=\"430.957031\" xlink:href=\"#DejaVuSans-Bold-101\"/>\r\n      <use x=\"498.779297\" xlink:href=\"#DejaVuSans-Bold-110\"/>\r\n      <use x=\"569.970703\" xlink:href=\"#DejaVuSans-Bold-116\"/>\r\n     </g>\r\n    </g>\r\n   </g>\r\n   <g id=\"line2d_15\">\r\n    <path clip-path=\"url(#p8667c609de)\" d=\"M 53.328125 281.76358 \r\nL 127.728125 258.94433 \r\nL 202.128125 196.681499 \r\nL 276.528125 145.945917 \r\nL 350.928125 102.267835 \r\nL 425.328125 85.721919 \r\nL 499.728125 34.67267 \r\n\" style=\"fill:none;stroke:#1f77b4;stroke-linecap:square;stroke-width:1.5;\"/>\r\n   </g>\r\n   <g id=\"patch_3\">\r\n    <path d=\"M 53.328125 294.118125 \r\nL 53.328125 22.318125 \r\n\" style=\"fill:none;stroke:#000000;stroke-linecap:square;stroke-linejoin:miter;stroke-width:0.8;\"/>\r\n   </g>\r\n   <g id=\"patch_4\">\r\n    <path d=\"M 499.728125 294.118125 \r\nL 499.728125 22.318125 \r\n\" style=\"fill:none;stroke:#000000;stroke-linecap:square;stroke-linejoin:miter;stroke-width:0.8;\"/>\r\n   </g>\r\n   <g id=\"patch_5\">\r\n    <path d=\"M 53.328125 294.118125 \r\nL 499.728125 294.118125 \r\n\" style=\"fill:none;stroke:#000000;stroke-linecap:square;stroke-linejoin:miter;stroke-width:0.8;\"/>\r\n   </g>\r\n   <g id=\"patch_6\">\r\n    <path d=\"M 53.328125 22.318125 \r\nL 499.728125 22.318125 \r\n\" style=\"fill:none;stroke:#000000;stroke-linecap:square;stroke-linejoin:miter;stroke-width:0.8;\"/>\r\n   </g>\r\n   <g id=\"text_17\">\r\n    <!-- Average Gross Rent in San Francisco -->\r\n    <g transform=\"translate(152.500625 16.318125)scale(0.12 -0.12)\">\r\n     <defs>\r\n      <path d=\"M 53.421875 13.28125 \r\nL 24.03125 13.28125 \r\nL 19.390625 0 \r\nL 0.484375 0 \r\nL 27.484375 72.90625 \r\nL 49.90625 72.90625 \r\nL 76.90625 0 \r\nL 58.015625 0 \r\nz\r\nM 28.71875 26.8125 \r\nL 48.6875 26.8125 \r\nL 38.71875 55.8125 \r\nz\r\n\" id=\"DejaVuSans-Bold-65\"/>\r\n      <path d=\"M 1.515625 54.6875 \r\nL 19 54.6875 \r\nL 32.625 16.890625 \r\nL 46.1875 54.6875 \r\nL 63.71875 54.6875 \r\nL 42.1875 0 \r\nL 23 0 \r\nz\r\n\" id=\"DejaVuSans-Bold-118\"/>\r\n      <path d=\"M 45.609375 9.28125 \r\nQ 42 4.5 37.640625 2.25 \r\nQ 33.296875 0 27.59375 0 \r\nQ 17.578125 0 11.03125 7.875 \r\nQ 4.5 15.765625 4.5 27.984375 \r\nQ 4.5 40.234375 11.03125 48.0625 \r\nQ 17.578125 55.90625 27.59375 55.90625 \r\nQ 33.296875 55.90625 37.640625 53.65625 \r\nQ 42 51.421875 45.609375 46.578125 \r\nL 45.609375 54.6875 \r\nL 63.1875 54.6875 \r\nL 63.1875 5.515625 \r\nQ 63.1875 -7.671875 54.859375 -14.625 \r\nQ 46.53125 -21.578125 30.71875 -21.578125 \r\nQ 25.59375 -21.578125 20.796875 -20.796875 \r\nQ 16.015625 -20.015625 11.1875 -18.40625 \r\nL 11.1875 -4.78125 \r\nQ 15.765625 -7.421875 20.15625 -8.71875 \r\nQ 24.5625 -10.015625 29 -10.015625 \r\nQ 37.59375 -10.015625 41.59375 -6.25 \r\nQ 45.609375 -2.484375 45.609375 5.515625 \r\nz\r\nM 34.078125 43.3125 \r\nQ 28.65625 43.3125 25.625 39.296875 \r\nQ 22.609375 35.296875 22.609375 27.984375 \r\nQ 22.609375 20.453125 25.53125 16.578125 \r\nQ 28.46875 12.703125 34.078125 12.703125 \r\nQ 39.546875 12.703125 42.578125 16.703125 \r\nQ 45.609375 20.703125 45.609375 27.984375 \r\nQ 45.609375 35.296875 42.578125 39.296875 \r\nQ 39.546875 43.3125 34.078125 43.3125 \r\nz\r\n\" id=\"DejaVuSans-Bold-103\"/>\r\n      <path d=\"M 8.40625 54.6875 \r\nL 25.875 54.6875 \r\nL 25.875 0 \r\nL 8.40625 0 \r\nz\r\nM 8.40625 75.984375 \r\nL 25.875 75.984375 \r\nL 25.875 61.71875 \r\nL 8.40625 61.71875 \r\nz\r\n\" id=\"DejaVuSans-Bold-105\"/>\r\n      <path d=\"M 59.90625 70.609375 \r\nL 59.90625 55.171875 \r\nQ 53.90625 57.859375 48.1875 59.21875 \r\nQ 42.484375 60.59375 37.40625 60.59375 \r\nQ 30.671875 60.59375 27.4375 58.734375 \r\nQ 24.21875 56.890625 24.21875 52.984375 \r\nQ 24.21875 50.046875 26.390625 48.40625 \r\nQ 28.5625 46.78125 34.28125 45.609375 \r\nL 42.28125 44 \r\nQ 54.4375 41.546875 59.5625 36.5625 \r\nQ 64.703125 31.59375 64.703125 22.40625 \r\nQ 64.703125 10.359375 57.546875 4.46875 \r\nQ 50.390625 -1.421875 35.6875 -1.421875 \r\nQ 28.765625 -1.421875 21.78125 -0.09375 \r\nQ 14.796875 1.21875 7.8125 3.8125 \r\nL 7.8125 19.671875 \r\nQ 14.796875 15.96875 21.3125 14.078125 \r\nQ 27.828125 12.203125 33.890625 12.203125 \r\nQ 40.046875 12.203125 43.3125 14.25 \r\nQ 46.578125 16.3125 46.578125 20.125 \r\nQ 46.578125 23.53125 44.359375 25.390625 \r\nQ 42.140625 27.25 35.5 28.71875 \r\nL 28.21875 30.328125 \r\nQ 17.28125 32.671875 12.21875 37.796875 \r\nQ 7.171875 42.921875 7.171875 51.609375 \r\nQ 7.171875 62.5 14.203125 68.359375 \r\nQ 21.234375 74.21875 34.421875 74.21875 \r\nQ 40.4375 74.21875 46.78125 73.3125 \r\nQ 53.125 72.40625 59.90625 70.609375 \r\nz\r\n\" id=\"DejaVuSans-Bold-83\"/>\r\n      <path d=\"M 9.1875 72.90625 \r\nL 59.90625 72.90625 \r\nL 59.90625 58.6875 \r\nL 27.984375 58.6875 \r\nL 27.984375 45.125 \r\nL 58.015625 45.125 \r\nL 58.015625 30.90625 \r\nL 27.984375 30.90625 \r\nL 27.984375 0 \r\nL 9.1875 0 \r\nz\r\n\" id=\"DejaVuSans-Bold-70\"/>\r\n      <path d=\"M 52.59375 52.984375 \r\nL 52.59375 38.71875 \r\nQ 49.03125 41.15625 45.4375 42.328125 \r\nQ 41.84375 43.5 37.984375 43.5 \r\nQ 30.671875 43.5 26.59375 39.234375 \r\nQ 22.515625 34.96875 22.515625 27.296875 \r\nQ 22.515625 19.625 26.59375 15.34375 \r\nQ 30.671875 11.078125 37.984375 11.078125 \r\nQ 42.09375 11.078125 45.78125 12.296875 \r\nQ 49.46875 13.53125 52.59375 15.921875 \r\nL 52.59375 1.609375 \r\nQ 48.484375 0.09375 44.265625 -0.65625 \r\nQ 40.046875 -1.421875 35.796875 -1.421875 \r\nQ 21 -1.421875 12.640625 6.171875 \r\nQ 4.296875 13.765625 4.296875 27.296875 \r\nQ 4.296875 40.828125 12.640625 48.40625 \r\nQ 21 56 35.796875 56 \r\nQ 40.09375 56 44.265625 55.25 \r\nQ 48.4375 54.5 52.59375 52.984375 \r\nz\r\n\" id=\"DejaVuSans-Bold-99\"/>\r\n     </defs>\r\n     <use xlink:href=\"#DejaVuSans-Bold-65\"/>\r\n     <use x=\"73.767578\" xlink:href=\"#DejaVuSans-Bold-118\"/>\r\n     <use x=\"138.953125\" xlink:href=\"#DejaVuSans-Bold-101\"/>\r\n     <use x=\"206.775391\" xlink:href=\"#DejaVuSans-Bold-114\"/>\r\n     <use x=\"256.091797\" xlink:href=\"#DejaVuSans-Bold-97\"/>\r\n     <use x=\"323.572266\" xlink:href=\"#DejaVuSans-Bold-103\"/>\r\n     <use x=\"395.154297\" xlink:href=\"#DejaVuSans-Bold-101\"/>\r\n     <use x=\"462.976562\" xlink:href=\"#DejaVuSans-Bold-32\"/>\r\n     <use x=\"497.791016\" xlink:href=\"#DejaVuSans-Bold-71\"/>\r\n     <use x=\"579.871094\" xlink:href=\"#DejaVuSans-Bold-114\"/>\r\n     <use x=\"629.1875\" xlink:href=\"#DejaVuSans-Bold-111\"/>\r\n     <use x=\"697.888672\" xlink:href=\"#DejaVuSans-Bold-115\"/>\r\n     <use x=\"757.410156\" xlink:href=\"#DejaVuSans-Bold-115\"/>\r\n     <use x=\"816.931641\" xlink:href=\"#DejaVuSans-Bold-32\"/>\r\n     <use x=\"851.746094\" xlink:href=\"#DejaVuSans-Bold-82\"/>\r\n     <use x=\"928.748047\" xlink:href=\"#DejaVuSans-Bold-101\"/>\r\n     <use x=\"996.570312\" xlink:href=\"#DejaVuSans-Bold-110\"/>\r\n     <use x=\"1067.761719\" xlink:href=\"#DejaVuSans-Bold-116\"/>\r\n     <use x=\"1115.564453\" xlink:href=\"#DejaVuSans-Bold-32\"/>\r\n     <use x=\"1150.378906\" xlink:href=\"#DejaVuSans-Bold-105\"/>\r\n     <use x=\"1184.65625\" xlink:href=\"#DejaVuSans-Bold-110\"/>\r\n     <use x=\"1255.847656\" xlink:href=\"#DejaVuSans-Bold-32\"/>\r\n     <use x=\"1290.662109\" xlink:href=\"#DejaVuSans-Bold-83\"/>\r\n     <use x=\"1362.683594\" xlink:href=\"#DejaVuSans-Bold-97\"/>\r\n     <use x=\"1430.164062\" xlink:href=\"#DejaVuSans-Bold-110\"/>\r\n     <use x=\"1501.355469\" xlink:href=\"#DejaVuSans-Bold-32\"/>\r\n     <use x=\"1536.169922\" xlink:href=\"#DejaVuSans-Bold-70\"/>\r\n     <use x=\"1598.105469\" xlink:href=\"#DejaVuSans-Bold-114\"/>\r\n     <use x=\"1647.421875\" xlink:href=\"#DejaVuSans-Bold-97\"/>\r\n     <use x=\"1714.902344\" xlink:href=\"#DejaVuSans-Bold-110\"/>\r\n     <use x=\"1786.09375\" xlink:href=\"#DejaVuSans-Bold-99\"/>\r\n     <use x=\"1845.371094\" xlink:href=\"#DejaVuSans-Bold-105\"/>\r\n     <use x=\"1879.648438\" xlink:href=\"#DejaVuSans-Bold-115\"/>\r\n     <use x=\"1939.169922\" xlink:href=\"#DejaVuSans-Bold-99\"/>\r\n     <use x=\"1998.447266\" xlink:href=\"#DejaVuSans-Bold-111\"/>\r\n    </g>\r\n   </g>\r\n  </g>\r\n </g>\r\n <defs>\r\n  <clipPath id=\"p8667c609de\">\r\n   <rect height=\"271.8\" width=\"446.4\" x=\"53.328125\" y=\"22.318125\"/>\r\n  </clipPath>\r\n </defs>\r\n</svg>\r\n",
      "image/png": "[encoded data removed]"
     },
     "metadata": {
      "needs_background": "light"
     }
    }
   ],
   "source": [
    "# Plot the Average Gross Rent per Year as a Line Chart\n",
    "fig_gross_rent = plt.figure(figsize=(8, 5))\n",
    "plt.subplot()\n",
    "plt.plot(sfo_data_sale_price_and_gross_rent.index, sfo_data_sale_price_and_gross_rent['gross_rent'])\n",
    "plt.title('Average Gross Rent in San Francisco', fontweight='bold')\n",
    "plt.xlabel('Year', fontweight='bold')\n",
    "plt.ylabel('Gross Rent', fontweight='bold')\n",
    "\n",
    "plt.xlim(sfo_data_sale_price_and_gross_rent.index.min() , sfo_data_sale_price_and_gross_rent.index.max())\n",
    "\n",
    "plt.show()\n",
    "plt.close(fig_gross_rent)\n"
   ]
  },
  {
   "cell_type": "markdown",
   "metadata": {},
   "source": [
    "### Average Sales Price per Year"
   ]
  },
  {
   "cell_type": "code",
   "execution_count": 9,
   "metadata": {},
   "outputs": [
    {
     "output_type": "display_data",
     "data": {
      "text/plain": "<Figure size 576x360 with 1 Axes>",
      "image/svg+xml": "<?xml version=\"1.0\" encoding=\"utf-8\" standalone=\"no\"?>\r\n<!DOCTYPE svg PUBLIC \"-//W3C//DTD SVG 1.1//EN\"\r\n  \"http://www.w3.org/Graphics/SVG/1.1/DTD/svg11.dtd\">\r\n<!-- Created with matplotlib (https://matplotlib.org/) -->\r\n<svg height=\"331.674375pt\" version=\"1.1\" viewBox=\"0 0 513.36875 331.674375\" width=\"513.36875pt\" xmlns=\"http://www.w3.org/2000/svg\" xmlns:xlink=\"http://www.w3.org/1999/xlink\">\r\n <metadata>\r\n  <rdf:RDF xmlns:cc=\"http://creativecommons.org/ns#\" xmlns:dc=\"http://purl.org/dc/elements/1.1/\" xmlns:rdf=\"http://www.w3.org/1999/02/22-rdf-syntax-ns#\">\r\n   <cc:Work>\r\n    <dc:type rdf:resource=\"http://purl.org/dc/dcmitype/StillImage\"/>\r\n    <dc:date>2020-10-18T22:06:34.957239</dc:date>\r\n    <dc:format>image/svg+xml</dc:format>\r\n    <dc:creator>\r\n     <cc:Agent>\r\n      <dc:title>Matplotlib v3.3.1, https://matplotlib.org/</dc:title>\r\n     </cc:Agent>\r\n    </dc:creator>\r\n   </cc:Work>\r\n  </rdf:RDF>\r\n </metadata>\r\n <defs>\r\n  <style type=\"text/css\">*{stroke-linecap:butt;stroke-linejoin:round;}</style>\r\n </defs>\r\n <g id=\"figure_1\">\r\n  <g id=\"patch_1\">\r\n   <path d=\"M 0 331.674375 \r\nL 513.36875 331.674375 \r\nL 513.36875 0 \r\nL 0 0 \r\nz\r\n\" style=\"fill:none;\"/>\r\n  </g>\r\n  <g id=\"axes_1\">\r\n   <g id=\"patch_2\">\r\n    <path d=\"M 47.04375 294.118125 \r\nL 493.44375 294.118125 \r\nL 493.44375 22.318125 \r\nL 47.04375 22.318125 \r\nz\r\n\" style=\"fill:#ffffff;\"/>\r\n   </g>\r\n   <g id=\"matplotlib.axis_1\">\r\n    <g id=\"xtick_1\">\r\n     <g id=\"line2d_1\">\r\n      <defs>\r\n       <path d=\"M 0 0 \r\nL 0 3.5 \r\n\" id=\"m44da928764\" style=\"stroke:#000000;stroke-width:0.8;\"/>\r\n      </defs>\r\n      <g>\r\n       <use style=\"stroke:#000000;stroke-width:0.8;\" x=\"47.04375\" xlink:href=\"#m44da928764\" y=\"294.118125\"/>\r\n      </g>\r\n     </g>\r\n     <g id=\"text_1\">\r\n      <!-- 2010 -->\r\n      <g transform=\"translate(34.31875 308.716563)scale(0.1 -0.1)\">\r\n       <defs>\r\n        <path d=\"M 19.1875 8.296875 \r\nL 53.609375 8.296875 \r\nL 53.609375 0 \r\nL 7.328125 0 \r\nL 7.328125 8.296875 \r\nQ 12.9375 14.109375 22.625 23.890625 \r\nQ 32.328125 33.6875 34.8125 36.53125 \r\nQ 39.546875 41.84375 41.421875 45.53125 \r\nQ 43.3125 49.21875 43.3125 52.78125 \r\nQ 43.3125 58.59375 39.234375 62.25 \r\nQ 35.15625 65.921875 28.609375 65.921875 \r\nQ 23.96875 65.921875 18.8125 64.3125 \r\nQ 13.671875 62.703125 7.8125 59.421875 \r\nL 7.8125 69.390625 \r\nQ 13.765625 71.78125 18.9375 73 \r\nQ 24.125 74.21875 28.421875 74.21875 \r\nQ 39.75 74.21875 46.484375 68.546875 \r\nQ 53.21875 62.890625 53.21875 53.421875 \r\nQ 53.21875 48.921875 51.53125 44.890625 \r\nQ 49.859375 40.875 45.40625 35.40625 \r\nQ 44.1875 33.984375 37.640625 27.21875 \r\nQ 31.109375 20.453125 19.1875 8.296875 \r\nz\r\n\" id=\"DejaVuSans-50\"/>\r\n        <path d=\"M 31.78125 66.40625 \r\nQ 24.171875 66.40625 20.328125 58.90625 \r\nQ 16.5 51.421875 16.5 36.375 \r\nQ 16.5 21.390625 20.328125 13.890625 \r\nQ 24.171875 6.390625 31.78125 6.390625 \r\nQ 39.453125 6.390625 43.28125 13.890625 \r\nQ 47.125 21.390625 47.125 36.375 \r\nQ 47.125 51.421875 43.28125 58.90625 \r\nQ 39.453125 66.40625 31.78125 66.40625 \r\nz\r\nM 31.78125 74.21875 \r\nQ 44.046875 74.21875 50.515625 64.515625 \r\nQ 56.984375 54.828125 56.984375 36.375 \r\nQ 56.984375 17.96875 50.515625 8.265625 \r\nQ 44.046875 -1.421875 31.78125 -1.421875 \r\nQ 19.53125 -1.421875 13.0625 8.265625 \r\nQ 6.59375 17.96875 6.59375 36.375 \r\nQ 6.59375 54.828125 13.0625 64.515625 \r\nQ 19.53125 74.21875 31.78125 74.21875 \r\nz\r\n\" id=\"DejaVuSans-48\"/>\r\n        <path d=\"M 12.40625 8.296875 \r\nL 28.515625 8.296875 \r\nL 28.515625 63.921875 \r\nL 10.984375 60.40625 \r\nL 10.984375 69.390625 \r\nL 28.421875 72.90625 \r\nL 38.28125 72.90625 \r\nL 38.28125 8.296875 \r\nL 54.390625 8.296875 \r\nL 54.390625 0 \r\nL 12.40625 0 \r\nz\r\n\" id=\"DejaVuSans-49\"/>\r\n       </defs>\r\n       <use xlink:href=\"#DejaVuSans-50\"/>\r\n       <use x=\"63.623047\" xlink:href=\"#DejaVuSans-48\"/>\r\n       <use x=\"127.246094\" xlink:href=\"#DejaVuSans-49\"/>\r\n       <use x=\"190.869141\" xlink:href=\"#DejaVuSans-48\"/>\r\n      </g>\r\n     </g>\r\n    </g>\r\n    <g id=\"xtick_2\">\r\n     <g id=\"line2d_2\">\r\n      <g>\r\n       <use style=\"stroke:#000000;stroke-width:0.8;\" x=\"121.44375\" xlink:href=\"#m44da928764\" y=\"294.118125\"/>\r\n      </g>\r\n     </g>\r\n     <g id=\"text_2\">\r\n      <!-- 2011 -->\r\n      <g transform=\"translate(108.71875 308.716563)scale(0.1 -0.1)\">\r\n       <use xlink:href=\"#DejaVuSans-50\"/>\r\n       <use x=\"63.623047\" xlink:href=\"#DejaVuSans-48\"/>\r\n       <use x=\"127.246094\" xlink:href=\"#DejaVuSans-49\"/>\r\n       <use x=\"190.869141\" xlink:href=\"#DejaVuSans-49\"/>\r\n      </g>\r\n     </g>\r\n    </g>\r\n    <g id=\"xtick_3\">\r\n     <g id=\"line2d_3\">\r\n      <g>\r\n       <use style=\"stroke:#000000;stroke-width:0.8;\" x=\"195.84375\" xlink:href=\"#m44da928764\" y=\"294.118125\"/>\r\n      </g>\r\n     </g>\r\n     <g id=\"text_3\">\r\n      <!-- 2012 -->\r\n      <g transform=\"translate(183.11875 308.716563)scale(0.1 -0.1)\">\r\n       <use xlink:href=\"#DejaVuSans-50\"/>\r\n       <use x=\"63.623047\" xlink:href=\"#DejaVuSans-48\"/>\r\n       <use x=\"127.246094\" xlink:href=\"#DejaVuSans-49\"/>\r\n       <use x=\"190.869141\" xlink:href=\"#DejaVuSans-50\"/>\r\n      </g>\r\n     </g>\r\n    </g>\r\n    <g id=\"xtick_4\">\r\n     <g id=\"line2d_4\">\r\n      <g>\r\n       <use style=\"stroke:#000000;stroke-width:0.8;\" x=\"270.24375\" xlink:href=\"#m44da928764\" y=\"294.118125\"/>\r\n      </g>\r\n     </g>\r\n     <g id=\"text_4\">\r\n      <!-- 2013 -->\r\n      <g transform=\"translate(257.51875 308.716563)scale(0.1 -0.1)\">\r\n       <defs>\r\n        <path d=\"M 40.578125 39.3125 \r\nQ 47.65625 37.796875 51.625 33 \r\nQ 55.609375 28.21875 55.609375 21.1875 \r\nQ 55.609375 10.40625 48.1875 4.484375 \r\nQ 40.765625 -1.421875 27.09375 -1.421875 \r\nQ 22.515625 -1.421875 17.65625 -0.515625 \r\nQ 12.796875 0.390625 7.625 2.203125 \r\nL 7.625 11.71875 \r\nQ 11.71875 9.328125 16.59375 8.109375 \r\nQ 21.484375 6.890625 26.8125 6.890625 \r\nQ 36.078125 6.890625 40.9375 10.546875 \r\nQ 45.796875 14.203125 45.796875 21.1875 \r\nQ 45.796875 27.640625 41.28125 31.265625 \r\nQ 36.765625 34.90625 28.71875 34.90625 \r\nL 20.21875 34.90625 \r\nL 20.21875 43.015625 \r\nL 29.109375 43.015625 \r\nQ 36.375 43.015625 40.234375 45.921875 \r\nQ 44.09375 48.828125 44.09375 54.296875 \r\nQ 44.09375 59.90625 40.109375 62.90625 \r\nQ 36.140625 65.921875 28.71875 65.921875 \r\nQ 24.65625 65.921875 20.015625 65.03125 \r\nQ 15.375 64.15625 9.8125 62.3125 \r\nL 9.8125 71.09375 \r\nQ 15.4375 72.65625 20.34375 73.4375 \r\nQ 25.25 74.21875 29.59375 74.21875 \r\nQ 40.828125 74.21875 47.359375 69.109375 \r\nQ 53.90625 64.015625 53.90625 55.328125 \r\nQ 53.90625 49.265625 50.4375 45.09375 \r\nQ 46.96875 40.921875 40.578125 39.3125 \r\nz\r\n\" id=\"DejaVuSans-51\"/>\r\n       </defs>\r\n       <use xlink:href=\"#DejaVuSans-50\"/>\r\n       <use x=\"63.623047\" xlink:href=\"#DejaVuSans-48\"/>\r\n       <use x=\"127.246094\" xlink:href=\"#DejaVuSans-49\"/>\r\n       <use x=\"190.869141\" xlink:href=\"#DejaVuSans-51\"/>\r\n      </g>\r\n     </g>\r\n    </g>\r\n    <g id=\"xtick_5\">\r\n     <g id=\"line2d_5\">\r\n      <g>\r\n       <use style=\"stroke:#000000;stroke-width:0.8;\" x=\"344.64375\" xlink:href=\"#m44da928764\" y=\"294.118125\"/>\r\n      </g>\r\n     </g>\r\n     <g id=\"text_5\">\r\n      <!-- 2014 -->\r\n      <g transform=\"translate(331.91875 308.716563)scale(0.1 -0.1)\">\r\n       <defs>\r\n        <path d=\"M 37.796875 64.3125 \r\nL 12.890625 25.390625 \r\nL 37.796875 25.390625 \r\nz\r\nM 35.203125 72.90625 \r\nL 47.609375 72.90625 \r\nL 47.609375 25.390625 \r\nL 58.015625 25.390625 \r\nL 58.015625 17.1875 \r\nL 47.609375 17.1875 \r\nL 47.609375 0 \r\nL 37.796875 0 \r\nL 37.796875 17.1875 \r\nL 4.890625 17.1875 \r\nL 4.890625 26.703125 \r\nz\r\n\" id=\"DejaVuSans-52\"/>\r\n       </defs>\r\n       <use xlink:href=\"#DejaVuSans-50\"/>\r\n       <use x=\"63.623047\" xlink:href=\"#DejaVuSans-48\"/>\r\n       <use x=\"127.246094\" xlink:href=\"#DejaVuSans-49\"/>\r\n       <use x=\"190.869141\" xlink:href=\"#DejaVuSans-52\"/>\r\n      </g>\r\n     </g>\r\n    </g>\r\n    <g id=\"xtick_6\">\r\n     <g id=\"line2d_6\">\r\n      <g>\r\n       <use style=\"stroke:#000000;stroke-width:0.8;\" x=\"419.04375\" xlink:href=\"#m44da928764\" y=\"294.118125\"/>\r\n      </g>\r\n     </g>\r\n     <g id=\"text_6\">\r\n      <!-- 2015 -->\r\n      <g transform=\"translate(406.31875 308.716563)scale(0.1 -0.1)\">\r\n       <defs>\r\n        <path d=\"M 10.796875 72.90625 \r\nL 49.515625 72.90625 \r\nL 49.515625 64.59375 \r\nL 19.828125 64.59375 \r\nL 19.828125 46.734375 \r\nQ 21.96875 47.46875 24.109375 47.828125 \r\nQ 26.265625 48.1875 28.421875 48.1875 \r\nQ 40.625 48.1875 47.75 41.5 \r\nQ 54.890625 34.8125 54.890625 23.390625 \r\nQ 54.890625 11.625 47.5625 5.09375 \r\nQ 40.234375 -1.421875 26.90625 -1.421875 \r\nQ 22.3125 -1.421875 17.546875 -0.640625 \r\nQ 12.796875 0.140625 7.71875 1.703125 \r\nL 7.71875 11.625 \r\nQ 12.109375 9.234375 16.796875 8.0625 \r\nQ 21.484375 6.890625 26.703125 6.890625 \r\nQ 35.15625 6.890625 40.078125 11.328125 \r\nQ 45.015625 15.765625 45.015625 23.390625 \r\nQ 45.015625 31 40.078125 35.4375 \r\nQ 35.15625 39.890625 26.703125 39.890625 \r\nQ 22.75 39.890625 18.8125 39.015625 \r\nQ 14.890625 38.140625 10.796875 36.28125 \r\nz\r\n\" id=\"DejaVuSans-53\"/>\r\n       </defs>\r\n       <use xlink:href=\"#DejaVuSans-50\"/>\r\n       <use x=\"63.623047\" xlink:href=\"#DejaVuSans-48\"/>\r\n       <use x=\"127.246094\" xlink:href=\"#DejaVuSans-49\"/>\r\n       <use x=\"190.869141\" xlink:href=\"#DejaVuSans-53\"/>\r\n      </g>\r\n     </g>\r\n    </g>\r\n    <g id=\"xtick_7\">\r\n     <g id=\"line2d_7\">\r\n      <g>\r\n       <use style=\"stroke:#000000;stroke-width:0.8;\" x=\"493.44375\" xlink:href=\"#m44da928764\" y=\"294.118125\"/>\r\n      </g>\r\n     </g>\r\n     <g id=\"text_7\">\r\n      <!-- 2016 -->\r\n      <g transform=\"translate(480.71875 308.716563)scale(0.1 -0.1)\">\r\n       <defs>\r\n        <path d=\"M 33.015625 40.375 \r\nQ 26.375 40.375 22.484375 35.828125 \r\nQ 18.609375 31.296875 18.609375 23.390625 \r\nQ 18.609375 15.53125 22.484375 10.953125 \r\nQ 26.375 6.390625 33.015625 6.390625 \r\nQ 39.65625 6.390625 43.53125 10.953125 \r\nQ 47.40625 15.53125 47.40625 23.390625 \r\nQ 47.40625 31.296875 43.53125 35.828125 \r\nQ 39.65625 40.375 33.015625 40.375 \r\nz\r\nM 52.59375 71.296875 \r\nL 52.59375 62.3125 \r\nQ 48.875 64.0625 45.09375 64.984375 \r\nQ 41.3125 65.921875 37.59375 65.921875 \r\nQ 27.828125 65.921875 22.671875 59.328125 \r\nQ 17.53125 52.734375 16.796875 39.40625 \r\nQ 19.671875 43.65625 24.015625 45.921875 \r\nQ 28.375 48.1875 33.59375 48.1875 \r\nQ 44.578125 48.1875 50.953125 41.515625 \r\nQ 57.328125 34.859375 57.328125 23.390625 \r\nQ 57.328125 12.15625 50.6875 5.359375 \r\nQ 44.046875 -1.421875 33.015625 -1.421875 \r\nQ 20.359375 -1.421875 13.671875 8.265625 \r\nQ 6.984375 17.96875 6.984375 36.375 \r\nQ 6.984375 53.65625 15.1875 63.9375 \r\nQ 23.390625 74.21875 37.203125 74.21875 \r\nQ 40.921875 74.21875 44.703125 73.484375 \r\nQ 48.484375 72.75 52.59375 71.296875 \r\nz\r\n\" id=\"DejaVuSans-54\"/>\r\n       </defs>\r\n       <use xlink:href=\"#DejaVuSans-50\"/>\r\n       <use x=\"63.623047\" xlink:href=\"#DejaVuSans-48\"/>\r\n       <use x=\"127.246094\" xlink:href=\"#DejaVuSans-49\"/>\r\n       <use x=\"190.869141\" xlink:href=\"#DejaVuSans-54\"/>\r\n      </g>\r\n     </g>\r\n    </g>\r\n    <g id=\"text_8\">\r\n     <!-- Year -->\r\n     <g transform=\"translate(257.848437 322.394687)scale(0.1 -0.1)\">\r\n      <defs>\r\n       <path d=\"M -0.984375 72.90625 \r\nL 19.578125 72.90625 \r\nL 36.1875 46.921875 \r\nL 52.78125 72.90625 \r\nL 73.390625 72.90625 \r\nL 45.609375 30.71875 \r\nL 45.609375 0 \r\nL 26.8125 0 \r\nL 26.8125 30.71875 \r\nz\r\n\" id=\"DejaVuSans-Bold-89\"/>\r\n       <path d=\"M 62.984375 27.484375 \r\nL 62.984375 22.515625 \r\nL 22.125 22.515625 \r\nQ 22.75 16.359375 26.5625 13.28125 \r\nQ 30.375 10.203125 37.203125 10.203125 \r\nQ 42.71875 10.203125 48.5 11.84375 \r\nQ 54.296875 13.484375 60.40625 16.796875 \r\nL 60.40625 3.328125 \r\nQ 54.203125 0.984375 48 -0.21875 \r\nQ 41.796875 -1.421875 35.59375 -1.421875 \r\nQ 20.75 -1.421875 12.515625 6.125 \r\nQ 4.296875 13.671875 4.296875 27.296875 \r\nQ 4.296875 40.671875 12.375 48.328125 \r\nQ 20.453125 56 34.625 56 \r\nQ 47.515625 56 55.25 48.234375 \r\nQ 62.984375 40.484375 62.984375 27.484375 \r\nz\r\nM 45.015625 33.296875 \r\nQ 45.015625 38.28125 42.109375 41.328125 \r\nQ 39.203125 44.390625 34.515625 44.390625 \r\nQ 29.4375 44.390625 26.265625 41.53125 \r\nQ 23.09375 38.671875 22.3125 33.296875 \r\nz\r\n\" id=\"DejaVuSans-Bold-101\"/>\r\n       <path d=\"M 32.90625 24.609375 \r\nQ 27.4375 24.609375 24.671875 22.75 \r\nQ 21.921875 20.90625 21.921875 17.28125 \r\nQ 21.921875 13.96875 24.140625 12.078125 \r\nQ 26.375 10.203125 30.328125 10.203125 \r\nQ 35.25 10.203125 38.625 13.734375 \r\nQ 42 17.28125 42 22.609375 \r\nL 42 24.609375 \r\nz\r\nM 59.625 31.203125 \r\nL 59.625 0 \r\nL 42 0 \r\nL 42 8.109375 \r\nQ 38.484375 3.125 34.078125 0.84375 \r\nQ 29.6875 -1.421875 23.390625 -1.421875 \r\nQ 14.890625 -1.421875 9.59375 3.53125 \r\nQ 4.296875 8.5 4.296875 16.40625 \r\nQ 4.296875 26.03125 10.90625 30.515625 \r\nQ 17.53125 35.015625 31.6875 35.015625 \r\nL 42 35.015625 \r\nL 42 36.375 \r\nQ 42 40.53125 38.71875 42.453125 \r\nQ 35.453125 44.390625 28.515625 44.390625 \r\nQ 22.90625 44.390625 18.0625 43.265625 \r\nQ 13.234375 42.140625 9.078125 39.890625 \r\nL 9.078125 53.21875 \r\nQ 14.703125 54.59375 20.359375 55.296875 \r\nQ 26.03125 56 31.6875 56 \r\nQ 46.484375 56 53.046875 50.171875 \r\nQ 59.625 44.34375 59.625 31.203125 \r\nz\r\n\" id=\"DejaVuSans-Bold-97\"/>\r\n       <path d=\"M 49.03125 39.796875 \r\nQ 46.734375 40.875 44.453125 41.375 \r\nQ 42.1875 41.890625 39.890625 41.890625 \r\nQ 33.15625 41.890625 29.515625 37.5625 \r\nQ 25.875 33.25 25.875 25.203125 \r\nL 25.875 0 \r\nL 8.40625 0 \r\nL 8.40625 54.6875 \r\nL 25.875 54.6875 \r\nL 25.875 45.703125 \r\nQ 29.25 51.078125 33.609375 53.53125 \r\nQ 37.984375 56 44.09375 56 \r\nQ 44.96875 56 45.984375 55.921875 \r\nQ 47.015625 55.859375 48.96875 55.609375 \r\nz\r\n\" id=\"DejaVuSans-Bold-114\"/>\r\n      </defs>\r\n      <use xlink:href=\"#DejaVuSans-Bold-89\"/>\r\n      <use x=\"63.287109\" xlink:href=\"#DejaVuSans-Bold-101\"/>\r\n      <use x=\"131.109375\" xlink:href=\"#DejaVuSans-Bold-97\"/>\r\n      <use x=\"198.589844\" xlink:href=\"#DejaVuSans-Bold-114\"/>\r\n     </g>\r\n    </g>\r\n   </g>\r\n   <g id=\"matplotlib.axis_2\">\r\n    <g id=\"ytick_1\">\r\n     <g id=\"line2d_8\">\r\n      <defs>\r\n       <path d=\"M 0 0 \r\nL -3.5 0 \r\n\" id=\"m9bf5d053c2\" style=\"stroke:#000000;stroke-width:0.8;\"/>\r\n      </defs>\r\n      <g>\r\n       <use style=\"stroke:#000000;stroke-width:0.8;\" x=\"47.04375\" xlink:href=\"#m9bf5d053c2\" y=\"276.139845\"/>\r\n      </g>\r\n     </g>\r\n     <g id=\"text_9\">\r\n      <!-- 350 -->\r\n      <g transform=\"translate(20.95625 279.939063)scale(0.1 -0.1)\">\r\n       <use xlink:href=\"#DejaVuSans-51\"/>\r\n       <use x=\"63.623047\" xlink:href=\"#DejaVuSans-53\"/>\r\n       <use x=\"127.246094\" xlink:href=\"#DejaVuSans-48\"/>\r\n      </g>\r\n     </g>\r\n    </g>\r\n    <g id=\"ytick_2\">\r\n     <g id=\"line2d_9\">\r\n      <g>\r\n       <use style=\"stroke:#000000;stroke-width:0.8;\" x=\"47.04375\" xlink:href=\"#m9bf5d053c2\" y=\"241.410729\"/>\r\n      </g>\r\n     </g>\r\n     <g id=\"text_10\">\r\n      <!-- 400 -->\r\n      <g transform=\"translate(20.95625 245.209947)scale(0.1 -0.1)\">\r\n       <use xlink:href=\"#DejaVuSans-52\"/>\r\n       <use x=\"63.623047\" xlink:href=\"#DejaVuSans-48\"/>\r\n       <use x=\"127.246094\" xlink:href=\"#DejaVuSans-48\"/>\r\n      </g>\r\n     </g>\r\n    </g>\r\n    <g id=\"ytick_3\">\r\n     <g id=\"line2d_10\">\r\n      <g>\r\n       <use style=\"stroke:#000000;stroke-width:0.8;\" x=\"47.04375\" xlink:href=\"#m9bf5d053c2\" y=\"206.681613\"/>\r\n      </g>\r\n     </g>\r\n     <g id=\"text_11\">\r\n      <!-- 450 -->\r\n      <g transform=\"translate(20.95625 210.480831)scale(0.1 -0.1)\">\r\n       <use xlink:href=\"#DejaVuSans-52\"/>\r\n       <use x=\"63.623047\" xlink:href=\"#DejaVuSans-53\"/>\r\n       <use x=\"127.246094\" xlink:href=\"#DejaVuSans-48\"/>\r\n      </g>\r\n     </g>\r\n    </g>\r\n    <g id=\"ytick_4\">\r\n     <g id=\"line2d_11\">\r\n      <g>\r\n       <use style=\"stroke:#000000;stroke-width:0.8;\" x=\"47.04375\" xlink:href=\"#m9bf5d053c2\" y=\"171.952497\"/>\r\n      </g>\r\n     </g>\r\n     <g id=\"text_12\">\r\n      <!-- 500 -->\r\n      <g transform=\"translate(20.95625 175.751715)scale(0.1 -0.1)\">\r\n       <use xlink:href=\"#DejaVuSans-53\"/>\r\n       <use x=\"63.623047\" xlink:href=\"#DejaVuSans-48\"/>\r\n       <use x=\"127.246094\" xlink:href=\"#DejaVuSans-48\"/>\r\n      </g>\r\n     </g>\r\n    </g>\r\n    <g id=\"ytick_5\">\r\n     <g id=\"line2d_12\">\r\n      <g>\r\n       <use style=\"stroke:#000000;stroke-width:0.8;\" x=\"47.04375\" xlink:href=\"#m9bf5d053c2\" y=\"137.223381\"/>\r\n      </g>\r\n     </g>\r\n     <g id=\"text_13\">\r\n      <!-- 550 -->\r\n      <g transform=\"translate(20.95625 141.022599)scale(0.1 -0.1)\">\r\n       <use xlink:href=\"#DejaVuSans-53\"/>\r\n       <use x=\"63.623047\" xlink:href=\"#DejaVuSans-53\"/>\r\n       <use x=\"127.246094\" xlink:href=\"#DejaVuSans-48\"/>\r\n      </g>\r\n     </g>\r\n    </g>\r\n    <g id=\"ytick_6\">\r\n     <g id=\"line2d_13\">\r\n      <g>\r\n       <use style=\"stroke:#000000;stroke-width:0.8;\" x=\"47.04375\" xlink:href=\"#m9bf5d053c2\" y=\"102.494265\"/>\r\n      </g>\r\n     </g>\r\n     <g id=\"text_14\">\r\n      <!-- 600 -->\r\n      <g transform=\"translate(20.95625 106.293483)scale(0.1 -0.1)\">\r\n       <use xlink:href=\"#DejaVuSans-54\"/>\r\n       <use x=\"63.623047\" xlink:href=\"#DejaVuSans-48\"/>\r\n       <use x=\"127.246094\" xlink:href=\"#DejaVuSans-48\"/>\r\n      </g>\r\n     </g>\r\n    </g>\r\n    <g id=\"ytick_7\">\r\n     <g id=\"line2d_14\">\r\n      <g>\r\n       <use style=\"stroke:#000000;stroke-width:0.8;\" x=\"47.04375\" xlink:href=\"#m9bf5d053c2\" y=\"67.765148\"/>\r\n      </g>\r\n     </g>\r\n     <g id=\"text_15\">\r\n      <!-- 650 -->\r\n      <g transform=\"translate(20.95625 71.564367)scale(0.1 -0.1)\">\r\n       <use xlink:href=\"#DejaVuSans-54\"/>\r\n       <use x=\"63.623047\" xlink:href=\"#DejaVuSans-53\"/>\r\n       <use x=\"127.246094\" xlink:href=\"#DejaVuSans-48\"/>\r\n      </g>\r\n     </g>\r\n    </g>\r\n    <g id=\"ytick_8\">\r\n     <g id=\"line2d_15\">\r\n      <g>\r\n       <use style=\"stroke:#000000;stroke-width:0.8;\" x=\"47.04375\" xlink:href=\"#m9bf5d053c2\" y=\"33.036032\"/>\r\n      </g>\r\n     </g>\r\n     <g id=\"text_16\">\r\n      <!-- 700 -->\r\n      <g transform=\"translate(20.95625 36.835251)scale(0.1 -0.1)\">\r\n       <defs>\r\n        <path d=\"M 8.203125 72.90625 \r\nL 55.078125 72.90625 \r\nL 55.078125 68.703125 \r\nL 28.609375 0 \r\nL 18.3125 0 \r\nL 43.21875 64.59375 \r\nL 8.203125 64.59375 \r\nz\r\n\" id=\"DejaVuSans-55\"/>\r\n       </defs>\r\n       <use xlink:href=\"#DejaVuSans-55\"/>\r\n       <use x=\"63.623047\" xlink:href=\"#DejaVuSans-48\"/>\r\n       <use x=\"127.246094\" xlink:href=\"#DejaVuSans-48\"/>\r\n      </g>\r\n     </g>\r\n    </g>\r\n    <g id=\"text_17\">\r\n     <!-- Average Sale Price -->\r\n     <g transform=\"translate(14.798438 211.129063)rotate(-90)scale(0.1 -0.1)\">\r\n      <defs>\r\n       <path d=\"M 53.421875 13.28125 \r\nL 24.03125 13.28125 \r\nL 19.390625 0 \r\nL 0.484375 0 \r\nL 27.484375 72.90625 \r\nL 49.90625 72.90625 \r\nL 76.90625 0 \r\nL 58.015625 0 \r\nz\r\nM 28.71875 26.8125 \r\nL 48.6875 26.8125 \r\nL 38.71875 55.8125 \r\nz\r\n\" id=\"DejaVuSans-Bold-65\"/>\r\n       <path d=\"M 1.515625 54.6875 \r\nL 19 54.6875 \r\nL 32.625 16.890625 \r\nL 46.1875 54.6875 \r\nL 63.71875 54.6875 \r\nL 42.1875 0 \r\nL 23 0 \r\nz\r\n\" id=\"DejaVuSans-Bold-118\"/>\r\n       <path d=\"M 45.609375 9.28125 \r\nQ 42 4.5 37.640625 2.25 \r\nQ 33.296875 0 27.59375 0 \r\nQ 17.578125 0 11.03125 7.875 \r\nQ 4.5 15.765625 4.5 27.984375 \r\nQ 4.5 40.234375 11.03125 48.0625 \r\nQ 17.578125 55.90625 27.59375 55.90625 \r\nQ 33.296875 55.90625 37.640625 53.65625 \r\nQ 42 51.421875 45.609375 46.578125 \r\nL 45.609375 54.6875 \r\nL 63.1875 54.6875 \r\nL 63.1875 5.515625 \r\nQ 63.1875 -7.671875 54.859375 -14.625 \r\nQ 46.53125 -21.578125 30.71875 -21.578125 \r\nQ 25.59375 -21.578125 20.796875 -20.796875 \r\nQ 16.015625 -20.015625 11.1875 -18.40625 \r\nL 11.1875 -4.78125 \r\nQ 15.765625 -7.421875 20.15625 -8.71875 \r\nQ 24.5625 -10.015625 29 -10.015625 \r\nQ 37.59375 -10.015625 41.59375 -6.25 \r\nQ 45.609375 -2.484375 45.609375 5.515625 \r\nz\r\nM 34.078125 43.3125 \r\nQ 28.65625 43.3125 25.625 39.296875 \r\nQ 22.609375 35.296875 22.609375 27.984375 \r\nQ 22.609375 20.453125 25.53125 16.578125 \r\nQ 28.46875 12.703125 34.078125 12.703125 \r\nQ 39.546875 12.703125 42.578125 16.703125 \r\nQ 45.609375 20.703125 45.609375 27.984375 \r\nQ 45.609375 35.296875 42.578125 39.296875 \r\nQ 39.546875 43.3125 34.078125 43.3125 \r\nz\r\n\" id=\"DejaVuSans-Bold-103\"/>\r\n       <path id=\"DejaVuSans-Bold-32\"/>\r\n       <path d=\"M 59.90625 70.609375 \r\nL 59.90625 55.171875 \r\nQ 53.90625 57.859375 48.1875 59.21875 \r\nQ 42.484375 60.59375 37.40625 60.59375 \r\nQ 30.671875 60.59375 27.4375 58.734375 \r\nQ 24.21875 56.890625 24.21875 52.984375 \r\nQ 24.21875 50.046875 26.390625 48.40625 \r\nQ 28.5625 46.78125 34.28125 45.609375 \r\nL 42.28125 44 \r\nQ 54.4375 41.546875 59.5625 36.5625 \r\nQ 64.703125 31.59375 64.703125 22.40625 \r\nQ 64.703125 10.359375 57.546875 4.46875 \r\nQ 50.390625 -1.421875 35.6875 -1.421875 \r\nQ 28.765625 -1.421875 21.78125 -0.09375 \r\nQ 14.796875 1.21875 7.8125 3.8125 \r\nL 7.8125 19.671875 \r\nQ 14.796875 15.96875 21.3125 14.078125 \r\nQ 27.828125 12.203125 33.890625 12.203125 \r\nQ 40.046875 12.203125 43.3125 14.25 \r\nQ 46.578125 16.3125 46.578125 20.125 \r\nQ 46.578125 23.53125 44.359375 25.390625 \r\nQ 42.140625 27.25 35.5 28.71875 \r\nL 28.21875 30.328125 \r\nQ 17.28125 32.671875 12.21875 37.796875 \r\nQ 7.171875 42.921875 7.171875 51.609375 \r\nQ 7.171875 62.5 14.203125 68.359375 \r\nQ 21.234375 74.21875 34.421875 74.21875 \r\nQ 40.4375 74.21875 46.78125 73.3125 \r\nQ 53.125 72.40625 59.90625 70.609375 \r\nz\r\n\" id=\"DejaVuSans-Bold-83\"/>\r\n       <path d=\"M 8.40625 75.984375 \r\nL 25.875 75.984375 \r\nL 25.875 0 \r\nL 8.40625 0 \r\nz\r\n\" id=\"DejaVuSans-Bold-108\"/>\r\n       <path d=\"M 9.1875 72.90625 \r\nL 40.375 72.90625 \r\nQ 54.296875 72.90625 61.734375 66.71875 \r\nQ 69.1875 60.546875 69.1875 49.125 \r\nQ 69.1875 37.640625 61.734375 31.46875 \r\nQ 54.296875 25.296875 40.375 25.296875 \r\nL 27.984375 25.296875 \r\nL 27.984375 0 \r\nL 9.1875 0 \r\nz\r\nM 27.984375 59.28125 \r\nL 27.984375 38.921875 \r\nL 38.375 38.921875 \r\nQ 43.84375 38.921875 46.828125 41.578125 \r\nQ 49.8125 44.234375 49.8125 49.125 \r\nQ 49.8125 54 46.828125 56.640625 \r\nQ 43.84375 59.28125 38.375 59.28125 \r\nz\r\n\" id=\"DejaVuSans-Bold-80\"/>\r\n       <path d=\"M 8.40625 54.6875 \r\nL 25.875 54.6875 \r\nL 25.875 0 \r\nL 8.40625 0 \r\nz\r\nM 8.40625 75.984375 \r\nL 25.875 75.984375 \r\nL 25.875 61.71875 \r\nL 8.40625 61.71875 \r\nz\r\n\" id=\"DejaVuSans-Bold-105\"/>\r\n       <path d=\"M 52.59375 52.984375 \r\nL 52.59375 38.71875 \r\nQ 49.03125 41.15625 45.4375 42.328125 \r\nQ 41.84375 43.5 37.984375 43.5 \r\nQ 30.671875 43.5 26.59375 39.234375 \r\nQ 22.515625 34.96875 22.515625 27.296875 \r\nQ 22.515625 19.625 26.59375 15.34375 \r\nQ 30.671875 11.078125 37.984375 11.078125 \r\nQ 42.09375 11.078125 45.78125 12.296875 \r\nQ 49.46875 13.53125 52.59375 15.921875 \r\nL 52.59375 1.609375 \r\nQ 48.484375 0.09375 44.265625 -0.65625 \r\nQ 40.046875 -1.421875 35.796875 -1.421875 \r\nQ 21 -1.421875 12.640625 6.171875 \r\nQ 4.296875 13.765625 4.296875 27.296875 \r\nQ 4.296875 40.828125 12.640625 48.40625 \r\nQ 21 56 35.796875 56 \r\nQ 40.09375 56 44.265625 55.25 \r\nQ 48.4375 54.5 52.59375 52.984375 \r\nz\r\n\" id=\"DejaVuSans-Bold-99\"/>\r\n      </defs>\r\n      <use xlink:href=\"#DejaVuSans-Bold-65\"/>\r\n      <use x=\"73.767578\" xlink:href=\"#DejaVuSans-Bold-118\"/>\r\n      <use x=\"138.953125\" xlink:href=\"#DejaVuSans-Bold-101\"/>\r\n      <use x=\"206.775391\" xlink:href=\"#DejaVuSans-Bold-114\"/>\r\n      <use x=\"256.091797\" xlink:href=\"#DejaVuSans-Bold-97\"/>\r\n      <use x=\"323.572266\" xlink:href=\"#DejaVuSans-Bold-103\"/>\r\n      <use x=\"395.154297\" xlink:href=\"#DejaVuSans-Bold-101\"/>\r\n      <use x=\"462.976562\" xlink:href=\"#DejaVuSans-Bold-32\"/>\r\n      <use x=\"497.791016\" xlink:href=\"#DejaVuSans-Bold-83\"/>\r\n      <use x=\"569.8125\" xlink:href=\"#DejaVuSans-Bold-97\"/>\r\n      <use x=\"637.292969\" xlink:href=\"#DejaVuSans-Bold-108\"/>\r\n      <use x=\"671.570312\" xlink:href=\"#DejaVuSans-Bold-101\"/>\r\n      <use x=\"739.392578\" xlink:href=\"#DejaVuSans-Bold-32\"/>\r\n      <use x=\"774.207031\" xlink:href=\"#DejaVuSans-Bold-80\"/>\r\n      <use x=\"847.498047\" xlink:href=\"#DejaVuSans-Bold-114\"/>\r\n      <use x=\"896.814453\" xlink:href=\"#DejaVuSans-Bold-105\"/>\r\n      <use x=\"931.091797\" xlink:href=\"#DejaVuSans-Bold-99\"/>\r\n      <use x=\"990.369141\" xlink:href=\"#DejaVuSans-Bold-101\"/>\r\n     </g>\r\n    </g>\r\n   </g>\r\n   <g id=\"line2d_16\">\r\n    <path clip-path=\"url(#pc821401e7f)\" d=\"M 47.04375 262.703599 \r\nL 121.44375 281.76358 \r\nL 195.84375 241.834446 \r\nL 270.24375 183.343435 \r\nL 344.64375 132.863297 \r\nL 419.04375 79.892311 \r\nL 493.44375 34.67267 \r\n\" style=\"fill:none;stroke:#1f77b4;stroke-linecap:square;stroke-width:1.5;\"/>\r\n   </g>\r\n   <g id=\"patch_3\">\r\n    <path d=\"M 47.04375 294.118125 \r\nL 47.04375 22.318125 \r\n\" style=\"fill:none;stroke:#000000;stroke-linecap:square;stroke-linejoin:miter;stroke-width:0.8;\"/>\r\n   </g>\r\n   <g id=\"patch_4\">\r\n    <path d=\"M 493.44375 294.118125 \r\nL 493.44375 22.318125 \r\n\" style=\"fill:none;stroke:#000000;stroke-linecap:square;stroke-linejoin:miter;stroke-width:0.8;\"/>\r\n   </g>\r\n   <g id=\"patch_5\">\r\n    <path d=\"M 47.04375 294.118125 \r\nL 493.44375 294.118125 \r\n\" style=\"fill:none;stroke:#000000;stroke-linecap:square;stroke-linejoin:miter;stroke-width:0.8;\"/>\r\n   </g>\r\n   <g id=\"patch_6\">\r\n    <path d=\"M 47.04375 22.318125 \r\nL 493.44375 22.318125 \r\n\" style=\"fill:none;stroke:#000000;stroke-linecap:square;stroke-linejoin:miter;stroke-width:0.8;\"/>\r\n   </g>\r\n   <g id=\"text_18\">\r\n    <!-- Average Sale Price per Square Foot in San Francisco -->\r\n    <g transform=\"translate(93.13125 16.318125)scale(0.12 -0.12)\">\r\n     <defs>\r\n      <path d=\"M 25.875 7.90625 \r\nL 25.875 -20.796875 \r\nL 8.40625 -20.796875 \r\nL 8.40625 54.6875 \r\nL 25.875 54.6875 \r\nL 25.875 46.6875 \r\nQ 29.5 51.46875 33.890625 53.734375 \r\nQ 38.28125 56 44 56 \r\nQ 54.109375 56 60.59375 47.96875 \r\nQ 67.09375 39.9375 67.09375 27.296875 \r\nQ 67.09375 14.65625 60.59375 6.609375 \r\nQ 54.109375 -1.421875 44 -1.421875 \r\nQ 38.28125 -1.421875 33.890625 0.84375 \r\nQ 29.5 3.125 25.875 7.90625 \r\nz\r\nM 37.5 43.3125 \r\nQ 31.890625 43.3125 28.875 39.1875 \r\nQ 25.875 35.0625 25.875 27.296875 \r\nQ 25.875 19.53125 28.875 15.40625 \r\nQ 31.890625 11.28125 37.5 11.28125 \r\nQ 43.109375 11.28125 46.0625 15.375 \r\nQ 49.03125 19.484375 49.03125 27.296875 \r\nQ 49.03125 35.109375 46.0625 39.203125 \r\nQ 43.109375 43.3125 37.5 43.3125 \r\nz\r\n\" id=\"DejaVuSans-Bold-112\"/>\r\n      <path d=\"M 34.078125 43.3125 \r\nQ 28.515625 43.3125 25.5625 39.203125 \r\nQ 22.609375 35.109375 22.609375 27.296875 \r\nQ 22.609375 19.484375 25.5625 15.375 \r\nQ 28.515625 11.28125 34.078125 11.28125 \r\nQ 39.703125 11.28125 42.65625 15.375 \r\nQ 45.609375 19.484375 45.609375 27.296875 \r\nQ 45.609375 35.109375 42.65625 39.203125 \r\nQ 39.703125 43.3125 34.078125 43.3125 \r\nz\r\nM 45.609375 7.90625 \r\nQ 42 3.078125 37.640625 0.828125 \r\nQ 33.296875 -1.421875 27.59375 -1.421875 \r\nQ 17.484375 -1.421875 10.984375 6.609375 \r\nQ 4.5 14.65625 4.5 27.296875 \r\nQ 4.5 39.9375 10.984375 47.921875 \r\nQ 17.484375 55.90625 27.59375 55.90625 \r\nQ 33.296875 55.90625 37.640625 53.65625 \r\nQ 42 51.421875 45.609375 46.578125 \r\nL 45.609375 54.6875 \r\nL 63.1875 54.6875 \r\nL 63.1875 -20.796875 \r\nL 45.609375 -20.796875 \r\nz\r\n\" id=\"DejaVuSans-Bold-113\"/>\r\n      <path d=\"M 7.8125 21.296875 \r\nL 7.8125 54.6875 \r\nL 25.390625 54.6875 \r\nL 25.390625 49.21875 \r\nQ 25.390625 44.78125 25.34375 38.0625 \r\nQ 25.296875 31.34375 25.296875 29.109375 \r\nQ 25.296875 22.515625 25.640625 19.609375 \r\nQ 25.984375 16.703125 26.8125 15.375 \r\nQ 27.875 13.671875 29.609375 12.734375 \r\nQ 31.34375 11.8125 33.59375 11.8125 \r\nQ 39.0625 11.8125 42.1875 16.015625 \r\nQ 45.3125 20.21875 45.3125 27.6875 \r\nL 45.3125 54.6875 \r\nL 62.796875 54.6875 \r\nL 62.796875 0 \r\nL 45.3125 0 \r\nL 45.3125 7.90625 \r\nQ 41.359375 3.125 36.9375 0.84375 \r\nQ 32.515625 -1.421875 27.203125 -1.421875 \r\nQ 17.71875 -1.421875 12.765625 4.390625 \r\nQ 7.8125 10.203125 7.8125 21.296875 \r\nz\r\n\" id=\"DejaVuSans-Bold-117\"/>\r\n      <path d=\"M 9.1875 72.90625 \r\nL 59.90625 72.90625 \r\nL 59.90625 58.6875 \r\nL 27.984375 58.6875 \r\nL 27.984375 45.125 \r\nL 58.015625 45.125 \r\nL 58.015625 30.90625 \r\nL 27.984375 30.90625 \r\nL 27.984375 0 \r\nL 9.1875 0 \r\nz\r\n\" id=\"DejaVuSans-Bold-70\"/>\r\n      <path d=\"M 34.421875 43.5 \r\nQ 28.609375 43.5 25.5625 39.328125 \r\nQ 22.515625 35.15625 22.515625 27.296875 \r\nQ 22.515625 19.4375 25.5625 15.25 \r\nQ 28.609375 11.078125 34.421875 11.078125 \r\nQ 40.140625 11.078125 43.15625 15.25 \r\nQ 46.1875 19.4375 46.1875 27.296875 \r\nQ 46.1875 35.15625 43.15625 39.328125 \r\nQ 40.140625 43.5 34.421875 43.5 \r\nz\r\nM 34.421875 56 \r\nQ 48.53125 56 56.46875 48.375 \r\nQ 64.40625 40.765625 64.40625 27.296875 \r\nQ 64.40625 13.8125 56.46875 6.1875 \r\nQ 48.53125 -1.421875 34.421875 -1.421875 \r\nQ 20.265625 -1.421875 12.28125 6.1875 \r\nQ 4.296875 13.8125 4.296875 27.296875 \r\nQ 4.296875 40.765625 12.28125 48.375 \r\nQ 20.265625 56 34.421875 56 \r\nz\r\n\" id=\"DejaVuSans-Bold-111\"/>\r\n      <path d=\"M 27.484375 70.21875 \r\nL 27.484375 54.6875 \r\nL 45.515625 54.6875 \r\nL 45.515625 42.1875 \r\nL 27.484375 42.1875 \r\nL 27.484375 19 \r\nQ 27.484375 15.1875 29 13.84375 \r\nQ 30.515625 12.5 35.015625 12.5 \r\nL 44 12.5 \r\nL 44 0 \r\nL 29 0 \r\nQ 18.65625 0 14.328125 4.3125 \r\nQ 10.015625 8.640625 10.015625 19 \r\nL 10.015625 42.1875 \r\nL 1.3125 42.1875 \r\nL 1.3125 54.6875 \r\nL 10.015625 54.6875 \r\nL 10.015625 70.21875 \r\nz\r\n\" id=\"DejaVuSans-Bold-116\"/>\r\n      <path d=\"M 63.375 33.296875 \r\nL 63.375 0 \r\nL 45.796875 0 \r\nL 45.796875 5.421875 \r\nL 45.796875 25.484375 \r\nQ 45.796875 32.5625 45.484375 35.25 \r\nQ 45.171875 37.9375 44.390625 39.203125 \r\nQ 43.359375 40.921875 41.59375 41.875 \r\nQ 39.84375 42.828125 37.59375 42.828125 \r\nQ 32.125 42.828125 29 38.59375 \r\nQ 25.875 34.375 25.875 26.90625 \r\nL 25.875 0 \r\nL 8.40625 0 \r\nL 8.40625 54.6875 \r\nL 25.875 54.6875 \r\nL 25.875 46.6875 \r\nQ 29.828125 51.46875 34.265625 53.734375 \r\nQ 38.71875 56 44.09375 56 \r\nQ 53.5625 56 58.46875 50.1875 \r\nQ 63.375 44.390625 63.375 33.296875 \r\nz\r\n\" id=\"DejaVuSans-Bold-110\"/>\r\n      <path d=\"M 51.125 52.984375 \r\nL 51.125 39.703125 \r\nQ 45.515625 42.046875 40.28125 43.21875 \r\nQ 35.0625 44.390625 30.421875 44.390625 \r\nQ 25.4375 44.390625 23.015625 43.140625 \r\nQ 20.609375 41.890625 20.609375 39.3125 \r\nQ 20.609375 37.203125 22.4375 36.078125 \r\nQ 24.265625 34.96875 29 34.421875 \r\nL 32.078125 33.984375 \r\nQ 45.515625 32.28125 50.140625 28.375 \r\nQ 54.78125 24.46875 54.78125 16.109375 \r\nQ 54.78125 7.375 48.328125 2.96875 \r\nQ 41.890625 -1.421875 29.109375 -1.421875 \r\nQ 23.6875 -1.421875 17.890625 -0.5625 \r\nQ 12.109375 0.296875 6 2 \r\nL 6 15.28125 \r\nQ 11.234375 12.75 16.71875 11.46875 \r\nQ 22.21875 10.203125 27.875 10.203125 \r\nQ 33.015625 10.203125 35.59375 11.609375 \r\nQ 38.1875 13.03125 38.1875 15.828125 \r\nQ 38.1875 18.171875 36.40625 19.3125 \r\nQ 34.625 20.453125 29.296875 21.09375 \r\nL 26.21875 21.484375 \r\nQ 14.546875 22.953125 9.859375 26.90625 \r\nQ 5.171875 30.859375 5.171875 38.921875 \r\nQ 5.171875 47.609375 11.125 51.796875 \r\nQ 17.09375 56 29.390625 56 \r\nQ 34.234375 56 39.546875 55.265625 \r\nQ 44.875 54.546875 51.125 52.984375 \r\nz\r\n\" id=\"DejaVuSans-Bold-115\"/>\r\n     </defs>\r\n     <use xlink:href=\"#DejaVuSans-Bold-65\"/>\r\n     <use x=\"73.767578\" xlink:href=\"#DejaVuSans-Bold-118\"/>\r\n     <use x=\"138.953125\" xlink:href=\"#DejaVuSans-Bold-101\"/>\r\n     <use x=\"206.775391\" xlink:href=\"#DejaVuSans-Bold-114\"/>\r\n     <use x=\"256.091797\" xlink:href=\"#DejaVuSans-Bold-97\"/>\r\n     <use x=\"323.572266\" xlink:href=\"#DejaVuSans-Bold-103\"/>\r\n     <use x=\"395.154297\" xlink:href=\"#DejaVuSans-Bold-101\"/>\r\n     <use x=\"462.976562\" xlink:href=\"#DejaVuSans-Bold-32\"/>\r\n     <use x=\"497.791016\" xlink:href=\"#DejaVuSans-Bold-83\"/>\r\n     <use x=\"569.8125\" xlink:href=\"#DejaVuSans-Bold-97\"/>\r\n     <use x=\"637.292969\" xlink:href=\"#DejaVuSans-Bold-108\"/>\r\n     <use x=\"671.570312\" xlink:href=\"#DejaVuSans-Bold-101\"/>\r\n     <use x=\"739.392578\" xlink:href=\"#DejaVuSans-Bold-32\"/>\r\n     <use x=\"774.207031\" xlink:href=\"#DejaVuSans-Bold-80\"/>\r\n     <use x=\"847.498047\" xlink:href=\"#DejaVuSans-Bold-114\"/>\r\n     <use x=\"896.814453\" xlink:href=\"#DejaVuSans-Bold-105\"/>\r\n     <use x=\"931.091797\" xlink:href=\"#DejaVuSans-Bold-99\"/>\r\n     <use x=\"990.369141\" xlink:href=\"#DejaVuSans-Bold-101\"/>\r\n     <use x=\"1058.191406\" xlink:href=\"#DejaVuSans-Bold-32\"/>\r\n     <use x=\"1093.005859\" xlink:href=\"#DejaVuSans-Bold-112\"/>\r\n     <use x=\"1164.587891\" xlink:href=\"#DejaVuSans-Bold-101\"/>\r\n     <use x=\"1232.410156\" xlink:href=\"#DejaVuSans-Bold-114\"/>\r\n     <use x=\"1281.726562\" xlink:href=\"#DejaVuSans-Bold-32\"/>\r\n     <use x=\"1316.541016\" xlink:href=\"#DejaVuSans-Bold-83\"/>\r\n     <use x=\"1388.5625\" xlink:href=\"#DejaVuSans-Bold-113\"/>\r\n     <use x=\"1460.144531\" xlink:href=\"#DejaVuSans-Bold-117\"/>\r\n     <use x=\"1531.335938\" xlink:href=\"#DejaVuSans-Bold-97\"/>\r\n     <use x=\"1598.816406\" xlink:href=\"#DejaVuSans-Bold-114\"/>\r\n     <use x=\"1648.132812\" xlink:href=\"#DejaVuSans-Bold-101\"/>\r\n     <use x=\"1715.955078\" xlink:href=\"#DejaVuSans-Bold-32\"/>\r\n     <use x=\"1750.769531\" xlink:href=\"#DejaVuSans-Bold-70\"/>\r\n     <use x=\"1815.080078\" xlink:href=\"#DejaVuSans-Bold-111\"/>\r\n     <use x=\"1883.78125\" xlink:href=\"#DejaVuSans-Bold-111\"/>\r\n     <use x=\"1952.482422\" xlink:href=\"#DejaVuSans-Bold-116\"/>\r\n     <use x=\"2000.285156\" xlink:href=\"#DejaVuSans-Bold-32\"/>\r\n     <use x=\"2035.099609\" xlink:href=\"#DejaVuSans-Bold-105\"/>\r\n     <use x=\"2069.376953\" xlink:href=\"#DejaVuSans-Bold-110\"/>\r\n     <use x=\"2140.568359\" xlink:href=\"#DejaVuSans-Bold-32\"/>\r\n     <use x=\"2175.382812\" xlink:href=\"#DejaVuSans-Bold-83\"/>\r\n     <use x=\"2247.404297\" xlink:href=\"#DejaVuSans-Bold-97\"/>\r\n     <use x=\"2314.884766\" xlink:href=\"#DejaVuSans-Bold-110\"/>\r\n     <use x=\"2386.076172\" xlink:href=\"#DejaVuSans-Bold-32\"/>\r\n     <use x=\"2420.890625\" xlink:href=\"#DejaVuSans-Bold-70\"/>\r\n     <use x=\"2482.826172\" xlink:href=\"#DejaVuSans-Bold-114\"/>\r\n     <use x=\"2532.142578\" xlink:href=\"#DejaVuSans-Bold-97\"/>\r\n     <use x=\"2599.623047\" xlink:href=\"#DejaVuSans-Bold-110\"/>\r\n     <use x=\"2670.814453\" xlink:href=\"#DejaVuSans-Bold-99\"/>\r\n     <use x=\"2730.091797\" xlink:href=\"#DejaVuSans-Bold-105\"/>\r\n     <use x=\"2764.369141\" xlink:href=\"#DejaVuSans-Bold-115\"/>\r\n     <use x=\"2823.890625\" xlink:href=\"#DejaVuSans-Bold-99\"/>\r\n     <use x=\"2883.167969\" xlink:href=\"#DejaVuSans-Bold-111\"/>\r\n    </g>\r\n   </g>\r\n  </g>\r\n </g>\r\n <defs>\r\n  <clipPath id=\"pc821401e7f\">\r\n   <rect height=\"271.8\" width=\"446.4\" x=\"47.04375\" y=\"22.318125\"/>\r\n  </clipPath>\r\n </defs>\r\n</svg>\r\n",
      "image/png": "[encoded data removed]"
     },
     "metadata": {
      "needs_background": "light"
     }
    }
   ],
   "source": [
    "# Plot the Average Sales Price per Year as a line chart\n",
    "fig_sales_price = plt.figure(figsize=(8, 5))\n",
    "plt.subplot()\n",
    "plt.plot(sfo_data_sale_price_and_gross_rent.index, sfo_data_sale_price_and_gross_rent['sale_price_sqr_foot'])\n",
    "plt.title('Average Sale Price per Square Foot in San Francisco', fontweight='bold')\n",
    "plt.xlabel('Year', fontweight='bold')\n",
    "plt.ylabel('Average Sale Price', fontweight='bold')\n",
    "\n",
    "plt.xlim(sfo_data_sale_price_and_gross_rent.index.min() , sfo_data_sale_price_and_gross_rent.index.max())\n",
    "\n",
    "plt.show()\n",
    "plt.close(fig_sales_price)\n"
   ]
  },
  {
   "cell_type": "markdown",
   "metadata": {},
   "source": [
    "- - - "
   ]
  },
  {
   "cell_type": "markdown",
   "metadata": {},
   "source": [
    "## Average Prices by Neighborhood\n",
    "\n",
    "In this section, you will use hvplot to create an interactive visulization of the Average Prices with a dropdown selector for the neighborhood.\n",
    "\n",
    "Hint: It will be easier to create a new DataFrame from grouping the data and calculating the mean prices for each year and neighborhood"
   ]
  },
  {
   "cell_type": "code",
   "execution_count": 10,
   "metadata": {},
   "outputs": [
    {
     "output_type": "execute_result",
     "data": {
      "text/plain": [
       "                       sale_price_sqr_foot  housing_units  gross_rent\n",
       "year neighborhood                                                    \n",
       "2010 Alamo Square               291.182945         372560        1239\n",
       "     Anza Vista                 267.932583         372560        1239\n",
       "     Bayview                    170.098665         372560        1239\n",
       "     Buena Vista Park           347.394919         372560        1239\n",
       "     Central Richmond           319.027623         372560        1239"
      ],
      "text/html": "<div>\n<style scoped>\n    .dataframe tbody tr th:only-of-type {\n        vertical-align: middle;\n    }\n\n    .dataframe tbody tr th {\n        vertical-align: top;\n    }\n\n    .dataframe thead th {\n        text-align: right;\n    }\n</style>\n<table border=\"1\" class=\"dataframe\">\n  <thead>\n    <tr style=\"text-align: right;\">\n      <th></th>\n      <th></th>\n      <th>sale_price_sqr_foot</th>\n      <th>housing_units</th>\n      <th>gross_rent</th>\n    </tr>\n    <tr>\n      <th>year</th>\n      <th>neighborhood</th>\n      <th></th>\n      <th></th>\n      <th></th>\n    </tr>\n  </thead>\n  <tbody>\n    <tr>\n      <th rowspan=\"5\" valign=\"top\">2010</th>\n      <th>Alamo Square</th>\n      <td>291.182945</td>\n      <td>372560</td>\n      <td>1239</td>\n    </tr>\n    <tr>\n      <th>Anza Vista</th>\n      <td>267.932583</td>\n      <td>372560</td>\n      <td>1239</td>\n    </tr>\n    <tr>\n      <th>Bayview</th>\n      <td>170.098665</td>\n      <td>372560</td>\n      <td>1239</td>\n    </tr>\n    <tr>\n      <th>Buena Vista Park</th>\n      <td>347.394919</td>\n      <td>372560</td>\n      <td>1239</td>\n    </tr>\n    <tr>\n      <th>Central Richmond</th>\n      <td>319.027623</td>\n      <td>372560</td>\n      <td>1239</td>\n    </tr>\n  </tbody>\n</table>\n</div>"
     },
     "metadata": {},
     "execution_count": 10
    }
   ],
   "source": [
    "# Group by year and neighborhood and then create a new dataframe of the mean values\n",
    "sfo_data.reset_index()\n",
    "sfo_data_mean_values = sfo_data.groupby(['year', 'neighborhood']).mean()\n",
    "sfo_data_mean_values.head()\n"
   ]
  },
  {
   "cell_type": "code",
   "execution_count": 11,
   "metadata": {},
   "outputs": [
    {
     "output_type": "execute_result",
     "data": {
      "text/html": "<div id='1001'>\n\n\n\n\n\n  <div class=\"bk-root\" id=\"36925a44-c133-4ff7-8e18-3a9ad89413f3\" data-root-id=\"1001\"></div>\n</div>\n<script type=\"application/javascript\">(function(root) {\n  function embed_document(root) {\n  var docs_json = {\"260cb470-b527-48ca-8b8c-d814ba332f14\":{\"roots\":{\"references\":[{\"attributes\":{\"data_source\":{\"id\":\"1036\"},\"glyph\":{\"id\":\"1039\"},\"hover_glyph\":null,\"muted_glyph\":{\"id\":\"1041\"},\"nonselection_glyph\":{\"id\":\"1040\"},\"selection_glyph\":null,\"view\":{\"id\":\"1043\"}},\"id\":\"1042\",\"type\":\"GlyphRenderer\"},{\"attributes\":{\"children\":[{\"id\":\"1002\"},{\"id\":\"1006\"},{\"id\":\"1068\"},{\"id\":\"1069\"}],\"margin\":[0,0,0,0],\"name\":\"Row01472\"},\"id\":\"1001\",\"type\":\"Row\"},{\"attributes\":{\"end\":2016.0,\"reset_end\":2016.0,\"reset_start\":2010.0,\"start\":2010.0,\"tags\":[[[\"year\",\"year\",null]]]},\"id\":\"1003\",\"type\":\"Range1d\"},{\"attributes\":{},\"id\":\"1025\",\"type\":\"WheelZoomTool\"},{\"attributes\":{\"overlay\":{\"id\":\"1028\"}},\"id\":\"1026\",\"type\":\"BoxZoomTool\"},{\"attributes\":{\"line_color\":\"#1f77b3\",\"line_width\":2,\"x\":{\"field\":\"year\"},\"y\":{\"field\":\"sale_price_sqr_foot\"}},\"id\":\"1039\",\"type\":\"Line\"},{\"attributes\":{},\"id\":\"1045\",\"type\":\"BasicTickFormatter\"},{\"attributes\":{},\"id\":\"1024\",\"type\":\"PanTool\"},{\"attributes\":{},\"id\":\"1016\",\"type\":\"BasicTicker\"},{\"attributes\":{\"end\":644.0175329447045,\"reset_end\":644.0175329447045,\"reset_start\":141.1976609302527,\"start\":141.1976609302527,\"tags\":[[[\"sale_price_sqr_foot\",\"sale_price_sqr_foot\",null]]]},\"id\":\"1004\",\"type\":\"Range1d\"},{\"attributes\":{\"margin\":[5,5,5,5],\"name\":\"VSpacer01478\",\"sizing_mode\":\"stretch_height\"},\"id\":\"1070\",\"type\":\"Spacer\"},{\"attributes\":{\"callback\":null,\"renderers\":[{\"id\":\"1042\"}],\"tags\":[\"hv_created\"],\"tooltips\":[[\"year\",\"@{year}\"],[\"sale_price_sqr_foot\",\"@{sale_price_sqr_foot}\"]]},\"id\":\"1005\",\"type\":\"HoverTool\"},{\"attributes\":{\"line_alpha\":0.2,\"line_color\":\"#1f77b3\",\"line_width\":2,\"x\":{\"field\":\"year\"},\"y\":{\"field\":\"sale_price_sqr_foot\"}},\"id\":\"1041\",\"type\":\"Line\"},{\"attributes\":{},\"id\":\"1058\",\"type\":\"UnionRenderers\"},{\"attributes\":{\"source\":{\"id\":\"1036\"}},\"id\":\"1043\",\"type\":\"CDSView\"},{\"attributes\":{\"axis_label\":\"Average Price Per Square Foot\",\"bounds\":\"auto\",\"formatter\":{\"id\":\"1047\"},\"major_label_orientation\":\"horizontal\",\"ticker\":{\"id\":\"1020\"}},\"id\":\"1019\",\"type\":\"LinearAxis\"},{\"attributes\":{\"active_drag\":\"auto\",\"active_inspect\":\"auto\",\"active_multi\":null,\"active_scroll\":\"auto\",\"active_tap\":\"auto\",\"tools\":[{\"id\":\"1005\"},{\"id\":\"1023\"},{\"id\":\"1024\"},{\"id\":\"1025\"},{\"id\":\"1026\"},{\"id\":\"1027\"}]},\"id\":\"1029\",\"type\":\"Toolbar\"},{\"attributes\":{\"axis_label\":\"Year\",\"bounds\":\"auto\",\"formatter\":{\"id\":\"1045\"},\"major_label_orientation\":\"horizontal\",\"ticker\":{\"id\":\"1016\"}},\"id\":\"1015\",\"type\":\"LinearAxis\"},{\"attributes\":{},\"id\":\"1037\",\"type\":\"Selection\"},{\"attributes\":{},\"id\":\"1020\",\"type\":\"BasicTicker\"},{\"attributes\":{\"margin\":[5,5,5,5],\"name\":\"VSpacer01479\",\"sizing_mode\":\"stretch_height\"},\"id\":\"1073\",\"type\":\"Spacer\"},{\"attributes\":{\"text\":\"Average Price Per Square Foot\",\"text_color\":{\"value\":\"black\"},\"text_font_size\":{\"value\":\"12pt\"}},\"id\":\"1007\",\"type\":\"Title\"},{\"attributes\":{},\"id\":\"1047\",\"type\":\"BasicTickFormatter\"},{\"attributes\":{},\"id\":\"1027\",\"type\":\"ResetTool\"},{\"attributes\":{\"axis\":{\"id\":\"1015\"},\"grid_line_color\":null,\"ticker\":null},\"id\":\"1018\",\"type\":\"Grid\"},{\"attributes\":{\"client_comm_id\":\"14a122dd7e784949a82d27735651e8cc\",\"comm_id\":\"4b4345232adf49b183f590608f5069a4\",\"plot_id\":\"1001\"},\"id\":\"1098\",\"type\":\"panel.models.comm_manager.CommManager\"},{\"attributes\":{\"children\":[{\"id\":\"1070\"},{\"id\":\"1071\"},{\"id\":\"1073\"}],\"margin\":[0,0,0,0],\"name\":\"Column01480\"},\"id\":\"1069\",\"type\":\"Column\"},{\"attributes\":{\"data\":{\"sale_price_sqr_foot\":{\"__ndarray__\":\"Dkc7WO0yckCafszcbwhxQIGRs5ot42ZAJzog0LQ8eEAWMinKGEd+QI0V5FDt0IJAVCHcmLVPdUA=\",\"dtype\":\"float64\",\"order\":\"little\",\"shape\":[7]},\"year\":[2010,2011,2012,2013,2014,2015,2016]},\"selected\":{\"id\":\"1037\"},\"selection_policy\":{\"id\":\"1058\"}},\"id\":\"1036\",\"type\":\"ColumnDataSource\"},{\"attributes\":{},\"id\":\"1011\",\"type\":\"LinearScale\"},{\"attributes\":{\"line_alpha\":0.1,\"line_color\":\"#1f77b3\",\"line_width\":2,\"x\":{\"field\":\"year\"},\"y\":{\"field\":\"sale_price_sqr_foot\"}},\"id\":\"1040\",\"type\":\"Line\"},{\"attributes\":{\"margin\":[20,20,20,20],\"min_width\":250,\"options\":[\"Alamo Square\",\"Anza Vista\",\"Bayview\",\"Buena Vista Park\",\"Central Richmond\",\"Central Sunset\",\"Corona Heights\",\"Cow Hollow\",\"Croker Amazon\",\"Diamond Heights\",\"Downtown \",\"Eureka Valley/Dolores Heights\",\"Excelsior\",\"Financial District North\",\"Financial District South\",\"Forest Knolls\",\"Glen Park\",\"Golden Gate Heights\",\"Haight Ashbury\",\"Hayes Valley\",\"Hunters Point\",\"Ingleside \",\"Inner Mission\",\"Inner Parkside\",\"Inner Richmond\",\"Inner Sunset\",\"Jordan Park/Laurel Heights\",\"Lake --The Presidio\",\"Lone Mountain\",\"Lower Pacific Heights\",\"Marina\",\"Miraloma Park\",\"Mission Bay\",\"Mission Dolores\",\"Mission Terrace\",\"Nob Hill\",\"Noe Valley\",\"Oceanview\",\"Outer Parkside\",\"Outer Richmond \",\"Outer Sunset\",\"Pacific Heights\",\"Park North\",\"Parkside\",\"Parnassus/Ashbury Heights\",\"Portola\",\"Potrero Hill\",\"Presidio Heights\",\"Russian Hill\",\"South Beach\",\"South of Market\",\"Sunnyside\",\"Telegraph Hill\",\"Twin Peaks\",\"Union Square District\",\"Van Ness/ Civic Center\",\"West Portal\",\"Western Addition\",\"Yerba Buena\",\"Bernal Heights \",\"Clarendon Heights\",\"Duboce Triangle\",\"Ingleside Heights\",\"North Beach\",\"North Waterfront\",\"Outer Mission\",\"Westwood Highlands\",\"Merced Heights\",\"Midtown Terrace\",\"Visitacion Valley\",\"Silver Terrace\",\"Westwood Park\",\"Bayview Heights\"],\"title\":\"neighborhood\",\"value\":\"Alamo Square\",\"width\":250},\"id\":\"1072\",\"type\":\"Select\"},{\"attributes\":{},\"id\":\"1013\",\"type\":\"LinearScale\"},{\"attributes\":{\"margin\":[5,5,5,5],\"name\":\"HSpacer01482\",\"sizing_mode\":\"stretch_width\"},\"id\":\"1068\",\"type\":\"Spacer\"},{\"attributes\":{\"align\":null,\"below\":[{\"id\":\"1015\"}],\"center\":[{\"id\":\"1018\"},{\"id\":\"1022\"}],\"left\":[{\"id\":\"1019\"}],\"margin\":null,\"min_border_bottom\":10,\"min_border_left\":10,\"min_border_right\":10,\"min_border_top\":10,\"plot_height\":300,\"plot_width\":700,\"renderers\":[{\"id\":\"1042\"}],\"sizing_mode\":\"fixed\",\"title\":{\"id\":\"1007\"},\"toolbar\":{\"id\":\"1029\"},\"x_range\":{\"id\":\"1003\"},\"x_scale\":{\"id\":\"1011\"},\"y_range\":{\"id\":\"1004\"},\"y_scale\":{\"id\":\"1013\"}},\"id\":\"1006\",\"subtype\":\"Figure\",\"type\":\"Plot\"},{\"attributes\":{\"children\":[{\"id\":\"1072\"}],\"css_classes\":[\"panel-widget-box\"],\"margin\":[5,5,5,5],\"name\":\"WidgetBox01473\"},\"id\":\"1071\",\"type\":\"Column\"},{\"attributes\":{\"axis\":{\"id\":\"1019\"},\"dimension\":1,\"grid_line_color\":null,\"ticker\":null},\"id\":\"1022\",\"type\":\"Grid\"},{\"attributes\":{\"bottom_units\":\"screen\",\"fill_alpha\":0.5,\"fill_color\":\"lightgrey\",\"left_units\":\"screen\",\"level\":\"overlay\",\"line_alpha\":1.0,\"line_color\":\"black\",\"line_dash\":[4,4],\"line_width\":2,\"right_units\":\"screen\",\"top_units\":\"screen\"},\"id\":\"1028\",\"type\":\"BoxAnnotation\"},{\"attributes\":{\"margin\":[5,5,5,5],\"name\":\"HSpacer01481\",\"sizing_mode\":\"stretch_width\"},\"id\":\"1002\",\"type\":\"Spacer\"},{\"attributes\":{},\"id\":\"1023\",\"type\":\"SaveTool\"}],\"root_ids\":[\"1001\",\"1098\"]},\"title\":\"Bokeh Application\",\"version\":\"2.2.2\"}};\n  var render_items = [{\"docid\":\"260cb470-b527-48ca-8b8c-d814ba332f14\",\"root_ids\":[\"1001\"],\"roots\":{\"1001\":\"36925a44-c133-4ff7-8e18-3a9ad89413f3\"}}];\n  root.Bokeh.embed.embed_items_notebook(docs_json, render_items);\n  }\nif (root.Bokeh !== undefined) {\n    embed_document(root);\n  } else {\n    var attempts = 0;\n    var timer = setInterval(function(root) {\n      if (root.Bokeh !== undefined) {\n        clearInterval(timer);\n        embed_document(root);\n      } else if (document.readyState == \"complete\") {\n        attempts++;\n        if (attempts > 100) {\n          clearInterval(timer);\n          console.log(\"Bokeh: ERROR: Unable to run BokehJS code because BokehJS library is missing\");\n        }\n      }\n    }, 10, root)\n  }\n})(window);</script>",
      "application/vnd.holoviews_exec.v0+json": "",
      "text/plain": [
       ":DynamicMap   [neighborhood]\n",
       "   :Curve   [year]   (sale_price_sqr_foot)"
      ]
     },
     "metadata": {
      "application/vnd.holoviews_exec.v0+json": {
       "id": "1001"
      }
     },
     "execution_count": 11
    }
   ],
   "source": [
    "# Use hvplot to create an interactive line chart of the average price per sq ft.\n",
    "# The plot should have a dropdown selector for the neighborhood\n",
    "sfo_data_mean_values.hvplot(kind='line', x='year', y='sale_price_sqr_foot', groupby='neighborhood', xlabel='Year', ylabel='Average Price Per Square Foot', title='Average Price Per Square Foot')\n"
   ]
  },
  {
   "cell_type": "markdown",
   "metadata": {},
   "source": [
    "- - - "
   ]
  },
  {
   "cell_type": "markdown",
   "metadata": {},
   "source": [
    "## The Top 10 Most Expensive Neighborhoods\n",
    "\n",
    "In this section, you will need to calculate the mean sale price for each neighborhood and then sort the values to obtain the top 10 most expensive neighborhoods on average. Plot the results as a bar chart."
   ]
  },
  {
   "cell_type": "code",
   "execution_count": 12,
   "metadata": {},
   "outputs": [
    {
     "output_type": "execute_result",
     "data": {
      "text/plain": [
       "            neighborhood  sale_price_sqr_foot  housing_units   gross_rent\n",
       "0  Union Square District           903.993258      377427.50  2555.166667\n",
       "1         Merced Heights           788.844818      380348.00  3414.000000\n",
       "2          Miraloma Park           779.810842      375967.25  2155.250000\n",
       "3        Pacific Heights           689.555817      378401.00  2817.285714\n",
       "4          Westwood Park           687.087575      382295.00  3959.000000\n",
       "5         Telegraph Hill           676.506578      378401.00  2817.285714\n",
       "6       Presidio Heights           675.350212      378401.00  2817.285714\n",
       "7             Cow Hollow           665.964042      378401.00  2817.285714\n",
       "8           Potrero Hill           662.013613      378401.00  2817.285714\n",
       "9            South Beach           650.124479      375805.00  2099.000000"
      ],
      "text/html": "<div>\n<style scoped>\n    .dataframe tbody tr th:only-of-type {\n        vertical-align: middle;\n    }\n\n    .dataframe tbody tr th {\n        vertical-align: top;\n    }\n\n    .dataframe thead th {\n        text-align: right;\n    }\n</style>\n<table border=\"1\" class=\"dataframe\">\n  <thead>\n    <tr style=\"text-align: right;\">\n      <th></th>\n      <th>neighborhood</th>\n      <th>sale_price_sqr_foot</th>\n      <th>housing_units</th>\n      <th>gross_rent</th>\n    </tr>\n  </thead>\n  <tbody>\n    <tr>\n      <th>0</th>\n      <td>Union Square District</td>\n      <td>903.993258</td>\n      <td>377427.50</td>\n      <td>2555.166667</td>\n    </tr>\n    <tr>\n      <th>1</th>\n      <td>Merced Heights</td>\n      <td>788.844818</td>\n      <td>380348.00</td>\n      <td>3414.000000</td>\n    </tr>\n    <tr>\n      <th>2</th>\n      <td>Miraloma Park</td>\n      <td>779.810842</td>\n      <td>375967.25</td>\n      <td>2155.250000</td>\n    </tr>\n    <tr>\n      <th>3</th>\n      <td>Pacific Heights</td>\n      <td>689.555817</td>\n      <td>378401.00</td>\n      <td>2817.285714</td>\n    </tr>\n    <tr>\n      <th>4</th>\n      <td>Westwood Park</td>\n      <td>687.087575</td>\n      <td>382295.00</td>\n      <td>3959.000000</td>\n    </tr>\n    <tr>\n      <th>5</th>\n      <td>Telegraph Hill</td>\n      <td>676.506578</td>\n      <td>378401.00</td>\n      <td>2817.285714</td>\n    </tr>\n    <tr>\n      <th>6</th>\n      <td>Presidio Heights</td>\n      <td>675.350212</td>\n      <td>378401.00</td>\n      <td>2817.285714</td>\n    </tr>\n    <tr>\n      <th>7</th>\n      <td>Cow Hollow</td>\n      <td>665.964042</td>\n      <td>378401.00</td>\n      <td>2817.285714</td>\n    </tr>\n    <tr>\n      <th>8</th>\n      <td>Potrero Hill</td>\n      <td>662.013613</td>\n      <td>378401.00</td>\n      <td>2817.285714</td>\n    </tr>\n    <tr>\n      <th>9</th>\n      <td>South Beach</td>\n      <td>650.124479</td>\n      <td>375805.00</td>\n      <td>2099.000000</td>\n    </tr>\n  </tbody>\n</table>\n</div>"
     },
     "metadata": {},
     "execution_count": 12
    }
   ],
   "source": [
    "# Getting the data from the top 10 expensive neighborhoods\n",
    "sfo_data.reset_index()\n",
    "sfo_data_neighborhood = sfo_data.groupby('neighborhood').mean()\n",
    "sfo_data_neighborhood = sfo_data_neighborhood.sort_values(by='sale_price_sqr_foot', ascending=False)\n",
    "sfo_data_top_ten = sfo_data_neighborhood[0:10].reset_index()\n",
    "sfo_data_top_ten"
   ]
  },
  {
   "cell_type": "code",
   "execution_count": 21,
   "metadata": {},
   "outputs": [
    {
     "output_type": "execute_result",
     "data": {
      "text/html": "<div id='1347'>\n\n\n\n\n\n  <div class=\"bk-root\" id=\"af166f89-067e-4f64-ae18-9ea12e96f091\" data-root-id=\"1347\"></div>\n</div>\n<script type=\"application/javascript\">(function(root) {\n  function embed_document(root) {\n  var docs_json = {\"d84be4d5-4083-487d-8b2b-025b6fc2baec\":{\"roots\":{\"references\":[{\"attributes\":{\"active_drag\":\"auto\",\"active_inspect\":\"auto\",\"active_multi\":null,\"active_scroll\":\"auto\",\"active_tap\":\"auto\",\"tools\":[{\"id\":\"1351\"},{\"id\":\"1368\"},{\"id\":\"1369\"},{\"id\":\"1370\"},{\"id\":\"1371\"},{\"id\":\"1372\"}]},\"id\":\"1374\",\"type\":\"Toolbar\"},{\"attributes\":{\"axis\":{\"id\":\"1364\"},\"dimension\":1,\"grid_line_color\":null,\"ticker\":null},\"id\":\"1367\",\"type\":\"Grid\"},{\"attributes\":{\"margin\":[5,5,5,5],\"name\":\"HSpacer02090\",\"sizing_mode\":\"stretch_width\"},\"id\":\"1409\",\"type\":\"Spacer\"},{\"attributes\":{\"bottom_units\":\"screen\",\"fill_alpha\":0.5,\"fill_color\":\"lightgrey\",\"left_units\":\"screen\",\"level\":\"overlay\",\"line_alpha\":1.0,\"line_color\":\"black\",\"line_dash\":[4,4],\"line_width\":2,\"right_units\":\"screen\",\"top_units\":\"screen\"},\"id\":\"1373\",\"type\":\"BoxAnnotation\"},{\"attributes\":{\"data\":{\"neighborhood\":[\"Union Square District\",\"Merced Heights\",\"Miraloma Park\",\"Pacific Heights\",\"Westwood Park\",\"Telegraph Hill\",\"Presidio Heights\",\"Cow Hollow\",\"Potrero Hill\",\"South Beach\"],\"sale_price_sqr_foot\":{\"__ndarray__\":\"JRAUMfI/jEB9IrkvwqaIQFx/3pp8XohAFpsVUHKMhUBs0ERas3iFQL0KhXgNJIVAy835O80ahUANV25bts+EQJrMCuEbsIRAya3y7v5QhEA=\",\"dtype\":\"float64\",\"order\":\"little\",\"shape\":[10]}},\"selected\":{\"id\":\"1382\"},\"selection_policy\":{\"id\":\"1399\"}},\"id\":\"1381\",\"type\":\"ColumnDataSource\"},{\"attributes\":{},\"id\":\"1399\",\"type\":\"UnionRenderers\"},{\"attributes\":{},\"id\":\"1382\",\"type\":\"Selection\"},{\"attributes\":{\"end\":929.3801355198136,\"reset_end\":929.3801355198136,\"reset_start\":0.0,\"tags\":[[[\"sale_price_sqr_foot\",\"sale_price_sqr_foot\",null]]]},\"id\":\"1350\",\"type\":\"Range1d\"},{\"attributes\":{\"align\":null,\"below\":[{\"id\":\"1361\"}],\"center\":[{\"id\":\"1363\"},{\"id\":\"1367\"}],\"left\":[{\"id\":\"1364\"}],\"margin\":null,\"min_border_bottom\":10,\"min_border_left\":10,\"min_border_right\":10,\"min_border_top\":10,\"plot_height\":500,\"plot_width\":700,\"renderers\":[{\"id\":\"1387\"}],\"sizing_mode\":\"fixed\",\"title\":{\"id\":\"1353\"},\"toolbar\":{\"id\":\"1374\"},\"x_range\":{\"id\":\"1349\"},\"x_scale\":{\"id\":\"1357\"},\"y_range\":{\"id\":\"1350\"},\"y_scale\":{\"id\":\"1359\"}},\"id\":\"1352\",\"subtype\":\"Figure\",\"type\":\"Plot\"},{\"attributes\":{\"text\":\"Top 10 Expensive Neighborhoods\",\"text_color\":{\"value\":\"black\"},\"text_font_size\":{\"value\":\"12pt\"}},\"id\":\"1353\",\"type\":\"Title\"},{\"attributes\":{},\"id\":\"1368\",\"type\":\"SaveTool\"},{\"attributes\":{},\"id\":\"1369\",\"type\":\"PanTool\"},{\"attributes\":{\"factors\":[\"Union Square District\",\"Merced Heights\",\"Miraloma Park\",\"Pacific Heights\",\"Westwood Park\",\"Telegraph Hill\",\"Presidio Heights\",\"Cow Hollow\",\"Potrero Hill\",\"South Beach\"],\"tags\":[[[\"neighborhood\",\"neighborhood\",null]]]},\"id\":\"1349\",\"type\":\"FactorRange\"},{\"attributes\":{},\"id\":\"1372\",\"type\":\"ResetTool\"},{\"attributes\":{},\"id\":\"1370\",\"type\":\"WheelZoomTool\"},{\"attributes\":{\"children\":[{\"id\":\"1348\"},{\"id\":\"1352\"},{\"id\":\"1409\"}],\"margin\":[0,0,0,0],\"name\":\"Row02085\",\"tags\":[\"embedded\"]},\"id\":\"1347\",\"type\":\"Row\"},{\"attributes\":{\"fill_alpha\":{\"value\":0.2},\"fill_color\":{\"value\":\"#1f77b3\"},\"line_alpha\":{\"value\":0.2},\"top\":{\"field\":\"sale_price_sqr_foot\"},\"width\":{\"value\":0.8},\"x\":{\"field\":\"neighborhood\"}},\"id\":\"1386\",\"type\":\"VBar\"},{\"attributes\":{},\"id\":\"1359\",\"type\":\"LinearScale\"},{\"attributes\":{\"overlay\":{\"id\":\"1373\"}},\"id\":\"1371\",\"type\":\"BoxZoomTool\"},{\"attributes\":{\"callback\":null,\"renderers\":[{\"id\":\"1387\"}],\"tags\":[\"hv_created\"],\"tooltips\":[[\"neighborhood\",\"@{neighborhood}\"],[\"sale_price_sqr_foot\",\"@{sale_price_sqr_foot}\"]]},\"id\":\"1351\",\"type\":\"HoverTool\"},{\"attributes\":{},\"id\":\"1362\",\"type\":\"CategoricalTicker\"},{\"attributes\":{\"data_source\":{\"id\":\"1381\"},\"glyph\":{\"id\":\"1384\"},\"hover_glyph\":null,\"muted_glyph\":{\"id\":\"1386\"},\"nonselection_glyph\":{\"id\":\"1385\"},\"selection_glyph\":null,\"view\":{\"id\":\"1388\"}},\"id\":\"1387\",\"type\":\"GlyphRenderer\"},{\"attributes\":{\"axis\":{\"id\":\"1361\"},\"grid_line_color\":null,\"ticker\":null},\"id\":\"1363\",\"type\":\"Grid\"},{\"attributes\":{\"margin\":[5,5,5,5],\"name\":\"HSpacer02089\",\"sizing_mode\":\"stretch_width\"},\"id\":\"1348\",\"type\":\"Spacer\"},{\"attributes\":{},\"id\":\"1357\",\"type\":\"CategoricalScale\"},{\"attributes\":{\"fill_color\":{\"value\":\"#1f77b3\"},\"top\":{\"field\":\"sale_price_sqr_foot\"},\"width\":{\"value\":0.8},\"x\":{\"field\":\"neighborhood\"}},\"id\":\"1384\",\"type\":\"VBar\"},{\"attributes\":{\"axis_label\":\"Neighborhood\",\"bounds\":\"auto\",\"formatter\":{\"id\":\"1390\"},\"major_label_orientation\":1.5707963267948966,\"ticker\":{\"id\":\"1362\"}},\"id\":\"1361\",\"type\":\"CategoricalAxis\"},{\"attributes\":{\"fill_alpha\":{\"value\":0.1},\"fill_color\":{\"value\":\"#1f77b3\"},\"line_alpha\":{\"value\":0.1},\"top\":{\"field\":\"sale_price_sqr_foot\"},\"width\":{\"value\":0.8},\"x\":{\"field\":\"neighborhood\"}},\"id\":\"1385\",\"type\":\"VBar\"},{\"attributes\":{\"source\":{\"id\":\"1381\"}},\"id\":\"1388\",\"type\":\"CDSView\"},{\"attributes\":{\"axis_label\":\"Sale Price Per Square Foot\",\"bounds\":\"auto\",\"formatter\":{\"id\":\"1392\"},\"major_label_orientation\":\"horizontal\",\"ticker\":{\"id\":\"1365\"}},\"id\":\"1364\",\"type\":\"LinearAxis\"},{\"attributes\":{},\"id\":\"1392\",\"type\":\"BasicTickFormatter\"},{\"attributes\":{},\"id\":\"1390\",\"type\":\"CategoricalTickFormatter\"},{\"attributes\":{},\"id\":\"1365\",\"type\":\"BasicTicker\"}],\"root_ids\":[\"1347\"]},\"title\":\"Bokeh Application\",\"version\":\"2.2.2\"}};\n  var render_items = [{\"docid\":\"d84be4d5-4083-487d-8b2b-025b6fc2baec\",\"root_ids\":[\"1347\"],\"roots\":{\"1347\":\"af166f89-067e-4f64-ae18-9ea12e96f091\"}}];\n  root.Bokeh.embed.embed_items_notebook(docs_json, render_items);\n  }\nif (root.Bokeh !== undefined) {\n    embed_document(root);\n  } else {\n    var attempts = 0;\n    var timer = setInterval(function(root) {\n      if (root.Bokeh !== undefined) {\n        clearInterval(timer);\n        embed_document(root);\n      } else if (document.readyState == \"complete\") {\n        attempts++;\n        if (attempts > 100) {\n          clearInterval(timer);\n          console.log(\"Bokeh: ERROR: Unable to run BokehJS code because BokehJS library is missing\");\n        }\n      }\n    }, 10, root)\n  }\n})(window);</script>",
      "application/vnd.holoviews_exec.v0+json": "",
      "text/plain": [
       ":Bars   [neighborhood]   (sale_price_sqr_foot)"
      ]
     },
     "metadata": {
      "application/vnd.holoviews_exec.v0+json": {
       "id": "1347"
      }
     },
     "execution_count": 21
    }
   ],
   "source": [
    "# Plotting the data from the top 10 expensive neighborhoods\n",
    "sfo_data_top_ten.hvplot(\n",
    "    kind='bar',\n",
    "    x='neighborhood',\n",
    "    y='sale_price_sqr_foot',\n",
    "    xlabel='Neighborhood',\n",
    "    ylabel='Sale Price Per Square Foot',\n",
    "    title='Top 10 Expensive Neighborhoods',\n",
    "    rot=90,\n",
    "    height=500)\n"
   ]
  },
  {
   "cell_type": "markdown",
   "metadata": {},
   "source": [
    "- - - "
   ]
  },
  {
   "cell_type": "markdown",
   "metadata": {},
   "source": [
    "## Parallel Coordinates and Parallel Categories Analysis\n",
    "\n",
    "In this section, you will use plotly express to create parallel coordinates and parallel categories visualizations so that investors can interactively filter and explore various factors related to the sales price of the neighborhoods. \n",
    "\n",
    "Using the DataFrame of Average values per neighborhood (calculated above), create the following visualizations:\n",
    "1. Create a Parallel Coordinates Plot\n",
    "2. Create a Parallel Categories Plot"
   ]
  },
  {
   "cell_type": "code",
   "execution_count": 14,
   "metadata": {},
   "outputs": [
    {
     "output_type": "display_data",
     "data": {
      "application/vnd.plotly.v1+json": {
       "config": {
        "plotlyServerURL": "https://plot.ly"
       },
       "data": [
        {
         "dimensions": [
          {
           "label": "Sale Price Per Sqr Ft",
           "values": [
            903.9932576720645,
            788.8448175872469,
            779.810842264425,
            689.5558168113664,
            687.0875745178323,
            676.5065775293257,
            675.3502120510033,
            665.964041578323,
            662.0136128276529,
            650.1244791945729
           ]
          },
          {
           "label": "Housing Units",
           "values": [
            377427.5,
            380348,
            375967.25,
            378401,
            382295,
            378401,
            378401,
            378401,
            378401,
            375805
           ]
          },
          {
           "label": "Gross Rent",
           "values": [
            2555.1666666666665,
            3414,
            2155.25,
            2817.285714285714,
            3959,
            2817.285714285714,
            2817.285714285714,
            2817.285714285714,
            2817.285714285714,
            2099
           ]
          }
         ],
         "domain": {
          "x": [
           0,
           1
          ],
          "y": [
           0,
           1
          ]
         },
         "line": {
          "color": [
           903.9932576720645,
           788.8448175872469,
           779.810842264425,
           689.5558168113664,
           687.0875745178323,
           676.5065775293257,
           675.3502120510033,
           665.964041578323,
           662.0136128276529,
           650.1244791945729
          ],
          "coloraxis": "coloraxis"
         },
         "name": "",
         "type": "parcoords"
        }
       ],
       "layout": {
        "coloraxis": {
         "colorbar": {
          "title": {
           "text": "Sale Price Per Sqr Ft"
          }
         },
         "colorscale": [
          [
           0,
           "#000004"
          ],
          [
           0.1111111111111111,
           "#1b0c41"
          ],
          [
           0.2222222222222222,
           "#4a0c6b"
          ],
          [
           0.3333333333333333,
           "#781c6d"
          ],
          [
           0.4444444444444444,
           "#a52c60"
          ],
          [
           0.5555555555555556,
           "#cf4446"
          ],
          [
           0.6666666666666666,
           "#ed6925"
          ],
          [
           0.7777777777777778,
           "#fb9b06"
          ],
          [
           0.8888888888888888,
           "#f7d13d"
          ],
          [
           1,
           "#fcffa4"
          ]
         ]
        },
        "legend": {
         "tracegroupgap": 0
        },
        "margin": {
         "t": 60
        },
        "template": {
         "data": {
          "bar": [
           {
            "error_x": {
             "color": "#2a3f5f"
            },
            "error_y": {
             "color": "#2a3f5f"
            },
            "marker": {
             "line": {
              "color": "#E5ECF6",
              "width": 0.5
             }
            },
            "type": "bar"
           }
          ],
          "barpolar": [
           {
            "marker": {
             "line": {
              "color": "#E5ECF6",
              "width": 0.5
             }
            },
            "type": "barpolar"
           }
          ],
          "carpet": [
           {
            "aaxis": {
             "endlinecolor": "#2a3f5f",
             "gridcolor": "white",
             "linecolor": "white",
             "minorgridcolor": "white",
             "startlinecolor": "#2a3f5f"
            },
            "baxis": {
             "endlinecolor": "#2a3f5f",
             "gridcolor": "white",
             "linecolor": "white",
             "minorgridcolor": "white",
             "startlinecolor": "#2a3f5f"
            },
            "type": "carpet"
           }
          ],
          "choropleth": [
           {
            "colorbar": {
             "outlinewidth": 0,
             "ticks": ""
            },
            "type": "choropleth"
           }
          ],
          "contour": [
           {
            "colorbar": {
             "outlinewidth": 0,
             "ticks": ""
            },
            "colorscale": [
             [
              0,
              "#0d0887"
             ],
             [
              0.1111111111111111,
              "#46039f"
             ],
             [
              0.2222222222222222,
              "#7201a8"
             ],
             [
              0.3333333333333333,
              "#9c179e"
             ],
             [
              0.4444444444444444,
              "#bd3786"
             ],
             [
              0.5555555555555556,
              "#d8576b"
             ],
             [
              0.6666666666666666,
              "#ed7953"
             ],
             [
              0.7777777777777778,
              "#fb9f3a"
             ],
             [
              0.8888888888888888,
              "#fdca26"
             ],
             [
              1,
              "#f0f921"
             ]
            ],
            "type": "contour"
           }
          ],
          "contourcarpet": [
           {
            "colorbar": {
             "outlinewidth": 0,
             "ticks": ""
            },
            "type": "contourcarpet"
           }
          ],
          "heatmap": [
           {
            "colorbar": {
             "outlinewidth": 0,
             "ticks": ""
            },
            "colorscale": [
             [
              0,
              "#0d0887"
             ],
             [
              0.1111111111111111,
              "#46039f"
             ],
             [
              0.2222222222222222,
              "#7201a8"
             ],
             [
              0.3333333333333333,
              "#9c179e"
             ],
             [
              0.4444444444444444,
              "#bd3786"
             ],
             [
              0.5555555555555556,
              "#d8576b"
             ],
             [
              0.6666666666666666,
              "#ed7953"
             ],
             [
              0.7777777777777778,
              "#fb9f3a"
             ],
             [
              0.8888888888888888,
              "#fdca26"
             ],
             [
              1,
              "#f0f921"
             ]
            ],
            "type": "heatmap"
           }
          ],
          "heatmapgl": [
           {
            "colorbar": {
             "outlinewidth": 0,
             "ticks": ""
            },
            "colorscale": [
             [
              0,
              "#0d0887"
             ],
             [
              0.1111111111111111,
              "#46039f"
             ],
             [
              0.2222222222222222,
              "#7201a8"
             ],
             [
              0.3333333333333333,
              "#9c179e"
             ],
             [
              0.4444444444444444,
              "#bd3786"
             ],
             [
              0.5555555555555556,
              "#d8576b"
             ],
             [
              0.6666666666666666,
              "#ed7953"
             ],
             [
              0.7777777777777778,
              "#fb9f3a"
             ],
             [
              0.8888888888888888,
              "#fdca26"
             ],
             [
              1,
              "#f0f921"
             ]
            ],
            "type": "heatmapgl"
           }
          ],
          "histogram": [
           {
            "marker": {
             "colorbar": {
              "outlinewidth": 0,
              "ticks": ""
             }
            },
            "type": "histogram"
           }
          ],
          "histogram2d": [
           {
            "colorbar": {
             "outlinewidth": 0,
             "ticks": ""
            },
            "colorscale": [
             [
              0,
              "#0d0887"
             ],
             [
              0.1111111111111111,
              "#46039f"
             ],
             [
              0.2222222222222222,
              "#7201a8"
             ],
             [
              0.3333333333333333,
              "#9c179e"
             ],
             [
              0.4444444444444444,
              "#bd3786"
             ],
             [
              0.5555555555555556,
              "#d8576b"
             ],
             [
              0.6666666666666666,
              "#ed7953"
             ],
             [
              0.7777777777777778,
              "#fb9f3a"
             ],
             [
              0.8888888888888888,
              "#fdca26"
             ],
             [
              1,
              "#f0f921"
             ]
            ],
            "type": "histogram2d"
           }
          ],
          "histogram2dcontour": [
           {
            "colorbar": {
             "outlinewidth": 0,
             "ticks": ""
            },
            "colorscale": [
             [
              0,
              "#0d0887"
             ],
             [
              0.1111111111111111,
              "#46039f"
             ],
             [
              0.2222222222222222,
              "#7201a8"
             ],
             [
              0.3333333333333333,
              "#9c179e"
             ],
             [
              0.4444444444444444,
              "#bd3786"
             ],
             [
              0.5555555555555556,
              "#d8576b"
             ],
             [
              0.6666666666666666,
              "#ed7953"
             ],
             [
              0.7777777777777778,
              "#fb9f3a"
             ],
             [
              0.8888888888888888,
              "#fdca26"
             ],
             [
              1,
              "#f0f921"
             ]
            ],
            "type": "histogram2dcontour"
           }
          ],
          "mesh3d": [
           {
            "colorbar": {
             "outlinewidth": 0,
             "ticks": ""
            },
            "type": "mesh3d"
           }
          ],
          "parcoords": [
           {
            "line": {
             "colorbar": {
              "outlinewidth": 0,
              "ticks": ""
             }
            },
            "type": "parcoords"
           }
          ],
          "pie": [
           {
            "automargin": true,
            "type": "pie"
           }
          ],
          "scatter": [
           {
            "marker": {
             "colorbar": {
              "outlinewidth": 0,
              "ticks": ""
             }
            },
            "type": "scatter"
           }
          ],
          "scatter3d": [
           {
            "line": {
             "colorbar": {
              "outlinewidth": 0,
              "ticks": ""
             }
            },
            "marker": {
             "colorbar": {
              "outlinewidth": 0,
              "ticks": ""
             }
            },
            "type": "scatter3d"
           }
          ],
          "scattercarpet": [
           {
            "marker": {
             "colorbar": {
              "outlinewidth": 0,
              "ticks": ""
             }
            },
            "type": "scattercarpet"
           }
          ],
          "scattergeo": [
           {
            "marker": {
             "colorbar": {
              "outlinewidth": 0,
              "ticks": ""
             }
            },
            "type": "scattergeo"
           }
          ],
          "scattergl": [
           {
            "marker": {
             "colorbar": {
              "outlinewidth": 0,
              "ticks": ""
             }
            },
            "type": "scattergl"
           }
          ],
          "scattermapbox": [
           {
            "marker": {
             "colorbar": {
              "outlinewidth": 0,
              "ticks": ""
             }
            },
            "type": "scattermapbox"
           }
          ],
          "scatterpolar": [
           {
            "marker": {
             "colorbar": {
              "outlinewidth": 0,
              "ticks": ""
             }
            },
            "type": "scatterpolar"
           }
          ],
          "scatterpolargl": [
           {
            "marker": {
             "colorbar": {
              "outlinewidth": 0,
              "ticks": ""
             }
            },
            "type": "scatterpolargl"
           }
          ],
          "scatterternary": [
           {
            "marker": {
             "colorbar": {
              "outlinewidth": 0,
              "ticks": ""
             }
            },
            "type": "scatterternary"
           }
          ],
          "surface": [
           {
            "colorbar": {
             "outlinewidth": 0,
             "ticks": ""
            },
            "colorscale": [
             [
              0,
              "#0d0887"
             ],
             [
              0.1111111111111111,
              "#46039f"
             ],
             [
              0.2222222222222222,
              "#7201a8"
             ],
             [
              0.3333333333333333,
              "#9c179e"
             ],
             [
              0.4444444444444444,
              "#bd3786"
             ],
             [
              0.5555555555555556,
              "#d8576b"
             ],
             [
              0.6666666666666666,
              "#ed7953"
             ],
             [
              0.7777777777777778,
              "#fb9f3a"
             ],
             [
              0.8888888888888888,
              "#fdca26"
             ],
             [
              1,
              "#f0f921"
             ]
            ],
            "type": "surface"
           }
          ],
          "table": [
           {
            "cells": {
             "fill": {
              "color": "#EBF0F8"
             },
             "line": {
              "color": "white"
             }
            },
            "header": {
             "fill": {
              "color": "#C8D4E3"
             },
             "line": {
              "color": "white"
             }
            },
            "type": "table"
           }
          ]
         },
         "layout": {
          "annotationdefaults": {
           "arrowcolor": "#2a3f5f",
           "arrowhead": 0,
           "arrowwidth": 1
          },
          "coloraxis": {
           "colorbar": {
            "outlinewidth": 0,
            "ticks": ""
           }
          },
          "colorscale": {
           "diverging": [
            [
             0,
             "#8e0152"
            ],
            [
             0.1,
             "#c51b7d"
            ],
            [
             0.2,
             "#de77ae"
            ],
            [
             0.3,
             "#f1b6da"
            ],
            [
             0.4,
             "#fde0ef"
            ],
            [
             0.5,
             "#f7f7f7"
            ],
            [
             0.6,
             "#e6f5d0"
            ],
            [
             0.7,
             "#b8e186"
            ],
            [
             0.8,
             "#7fbc41"
            ],
            [
             0.9,
             "#4d9221"
            ],
            [
             1,
             "#276419"
            ]
           ],
           "sequential": [
            [
             0,
             "#0d0887"
            ],
            [
             0.1111111111111111,
             "#46039f"
            ],
            [
             0.2222222222222222,
             "#7201a8"
            ],
            [
             0.3333333333333333,
             "#9c179e"
            ],
            [
             0.4444444444444444,
             "#bd3786"
            ],
            [
             0.5555555555555556,
             "#d8576b"
            ],
            [
             0.6666666666666666,
             "#ed7953"
            ],
            [
             0.7777777777777778,
             "#fb9f3a"
            ],
            [
             0.8888888888888888,
             "#fdca26"
            ],
            [
             1,
             "#f0f921"
            ]
           ],
           "sequentialminus": [
            [
             0,
             "#0d0887"
            ],
            [
             0.1111111111111111,
             "#46039f"
            ],
            [
             0.2222222222222222,
             "#7201a8"
            ],
            [
             0.3333333333333333,
             "#9c179e"
            ],
            [
             0.4444444444444444,
             "#bd3786"
            ],
            [
             0.5555555555555556,
             "#d8576b"
            ],
            [
             0.6666666666666666,
             "#ed7953"
            ],
            [
             0.7777777777777778,
             "#fb9f3a"
            ],
            [
             0.8888888888888888,
             "#fdca26"
            ],
            [
             1,
             "#f0f921"
            ]
           ]
          },
          "colorway": [
           "#636efa",
           "#EF553B",
           "#00cc96",
           "#ab63fa",
           "#FFA15A",
           "#19d3f3",
           "#FF6692",
           "#B6E880",
           "#FF97FF",
           "#FECB52"
          ],
          "font": {
           "color": "#2a3f5f"
          },
          "geo": {
           "bgcolor": "white",
           "lakecolor": "white",
           "landcolor": "#E5ECF6",
           "showlakes": true,
           "showland": true,
           "subunitcolor": "white"
          },
          "hoverlabel": {
           "align": "left"
          },
          "hovermode": "closest",
          "mapbox": {
           "style": "light"
          },
          "paper_bgcolor": "white",
          "plot_bgcolor": "#E5ECF6",
          "polar": {
           "angularaxis": {
            "gridcolor": "white",
            "linecolor": "white",
            "ticks": ""
           },
           "bgcolor": "#E5ECF6",
           "radialaxis": {
            "gridcolor": "white",
            "linecolor": "white",
            "ticks": ""
           }
          },
          "scene": {
           "xaxis": {
            "backgroundcolor": "#E5ECF6",
            "gridcolor": "white",
            "gridwidth": 2,
            "linecolor": "white",
            "showbackground": true,
            "ticks": "",
            "zerolinecolor": "white"
           },
           "yaxis": {
            "backgroundcolor": "#E5ECF6",
            "gridcolor": "white",
            "gridwidth": 2,
            "linecolor": "white",
            "showbackground": true,
            "ticks": "",
            "zerolinecolor": "white"
           },
           "zaxis": {
            "backgroundcolor": "#E5ECF6",
            "gridcolor": "white",
            "gridwidth": 2,
            "linecolor": "white",
            "showbackground": true,
            "ticks": "",
            "zerolinecolor": "white"
           }
          },
          "shapedefaults": {
           "line": {
            "color": "#2a3f5f"
           }
          },
          "ternary": {
           "aaxis": {
            "gridcolor": "white",
            "linecolor": "white",
            "ticks": ""
           },
           "baxis": {
            "gridcolor": "white",
            "linecolor": "white",
            "ticks": ""
           },
           "bgcolor": "#E5ECF6",
           "caxis": {
            "gridcolor": "white",
            "linecolor": "white",
            "ticks": ""
           }
          },
          "title": {
           "x": 0.05
          },
          "xaxis": {
           "automargin": true,
           "gridcolor": "white",
           "linecolor": "white",
           "ticks": "",
           "title": {
            "standoff": 15
           },
           "zerolinecolor": "white",
           "zerolinewidth": 2
          },
          "yaxis": {
           "automargin": true,
           "gridcolor": "white",
           "linecolor": "white",
           "ticks": "",
           "title": {
            "standoff": 15
           },
           "zerolinecolor": "white",
           "zerolinewidth": 2
          }
         }
        }
       }
      }
     },
     "metadata": {}
    }
   ],
   "source": [
    "# Parallel Coordinates Plot\n",
    "px.parallel_coordinates(\n",
    "    sfo_data_top_ten,\n",
    "    dimensions=[\"sale_price_sqr_foot\", \"housing_units\", \"gross_rent\"],\n",
    "    color=\"sale_price_sqr_foot\",\n",
    "    color_continuous_scale=px.colors.sequential.Inferno,\n",
    "    labels={\n",
    "        \"sale_price_sqr_foot\": \"Sale Price Per Sqr Ft\",\n",
    "        \"housing_units\": \"Housing Units\",\n",
    "        \"gross_rent\": \"Gross Rent\"\n",
    "    },\n",
    ")\n"
   ]
  },
  {
   "cell_type": "code",
   "execution_count": 15,
   "metadata": {},
   "outputs": [
    {
     "output_type": "display_data",
     "data": {
      "application/vnd.plotly.v1+json": {
       "config": {
        "plotlyServerURL": "https://plot.ly"
       },
       "data": [
        {
         "dimensions": [
          {
           "label": "Neighborhood",
           "values": [
            "Union Square District",
            "Merced Heights",
            "Miraloma Park",
            "Pacific Heights",
            "Westwood Park",
            "Telegraph Hill",
            "Presidio Heights",
            "Cow Hollow",
            "Potrero Hill",
            "South Beach"
           ]
          },
          {
           "label": "Sale Price Per Sqr Ft",
           "values": [
            903.9932576720645,
            788.8448175872469,
            779.810842264425,
            689.5558168113664,
            687.0875745178323,
            676.5065775293257,
            675.3502120510033,
            665.964041578323,
            662.0136128276529,
            650.1244791945729
           ]
          },
          {
           "label": "Housing Units",
           "values": [
            377427.5,
            380348,
            375967.25,
            378401,
            382295,
            378401,
            378401,
            378401,
            378401,
            375805
           ]
          },
          {
           "label": "Gross Rent",
           "values": [
            2555.1666666666665,
            3414,
            2155.25,
            2817.285714285714,
            3959,
            2817.285714285714,
            2817.285714285714,
            2817.285714285714,
            2817.285714285714,
            2099
           ]
          }
         ],
         "domain": {
          "x": [
           0,
           1
          ],
          "y": [
           0,
           1
          ]
         },
         "line": {
          "color": [
           903.9932576720645,
           788.8448175872469,
           779.810842264425,
           689.5558168113664,
           687.0875745178323,
           676.5065775293257,
           675.3502120510033,
           665.964041578323,
           662.0136128276529,
           650.1244791945729
          ],
          "coloraxis": "coloraxis"
         },
         "name": "",
         "type": "parcats"
        }
       ],
       "layout": {
        "coloraxis": {
         "colorbar": {
          "title": {
           "text": "Sale Price Per Sqr Ft"
          }
         },
         "colorscale": [
          [
           0,
           "#000004"
          ],
          [
           0.1111111111111111,
           "#1b0c41"
          ],
          [
           0.2222222222222222,
           "#4a0c6b"
          ],
          [
           0.3333333333333333,
           "#781c6d"
          ],
          [
           0.4444444444444444,
           "#a52c60"
          ],
          [
           0.5555555555555556,
           "#cf4446"
          ],
          [
           0.6666666666666666,
           "#ed6925"
          ],
          [
           0.7777777777777778,
           "#fb9b06"
          ],
          [
           0.8888888888888888,
           "#f7d13d"
          ],
          [
           1,
           "#fcffa4"
          ]
         ]
        },
        "legend": {
         "tracegroupgap": 0
        },
        "margin": {
         "t": 60
        },
        "template": {
         "data": {
          "bar": [
           {
            "error_x": {
             "color": "#2a3f5f"
            },
            "error_y": {
             "color": "#2a3f5f"
            },
            "marker": {
             "line": {
              "color": "#E5ECF6",
              "width": 0.5
             }
            },
            "type": "bar"
           }
          ],
          "barpolar": [
           {
            "marker": {
             "line": {
              "color": "#E5ECF6",
              "width": 0.5
             }
            },
            "type": "barpolar"
           }
          ],
          "carpet": [
           {
            "aaxis": {
             "endlinecolor": "#2a3f5f",
             "gridcolor": "white",
             "linecolor": "white",
             "minorgridcolor": "white",
             "startlinecolor": "#2a3f5f"
            },
            "baxis": {
             "endlinecolor": "#2a3f5f",
             "gridcolor": "white",
             "linecolor": "white",
             "minorgridcolor": "white",
             "startlinecolor": "#2a3f5f"
            },
            "type": "carpet"
           }
          ],
          "choropleth": [
           {
            "colorbar": {
             "outlinewidth": 0,
             "ticks": ""
            },
            "type": "choropleth"
           }
          ],
          "contour": [
           {
            "colorbar": {
             "outlinewidth": 0,
             "ticks": ""
            },
            "colorscale": [
             [
              0,
              "#0d0887"
             ],
             [
              0.1111111111111111,
              "#46039f"
             ],
             [
              0.2222222222222222,
              "#7201a8"
             ],
             [
              0.3333333333333333,
              "#9c179e"
             ],
             [
              0.4444444444444444,
              "#bd3786"
             ],
             [
              0.5555555555555556,
              "#d8576b"
             ],
             [
              0.6666666666666666,
              "#ed7953"
             ],
             [
              0.7777777777777778,
              "#fb9f3a"
             ],
             [
              0.8888888888888888,
              "#fdca26"
             ],
             [
              1,
              "#f0f921"
             ]
            ],
            "type": "contour"
           }
          ],
          "contourcarpet": [
           {
            "colorbar": {
             "outlinewidth": 0,
             "ticks": ""
            },
            "type": "contourcarpet"
           }
          ],
          "heatmap": [
           {
            "colorbar": {
             "outlinewidth": 0,
             "ticks": ""
            },
            "colorscale": [
             [
              0,
              "#0d0887"
             ],
             [
              0.1111111111111111,
              "#46039f"
             ],
             [
              0.2222222222222222,
              "#7201a8"
             ],
             [
              0.3333333333333333,
              "#9c179e"
             ],
             [
              0.4444444444444444,
              "#bd3786"
             ],
             [
              0.5555555555555556,
              "#d8576b"
             ],
             [
              0.6666666666666666,
              "#ed7953"
             ],
             [
              0.7777777777777778,
              "#fb9f3a"
             ],
             [
              0.8888888888888888,
              "#fdca26"
             ],
             [
              1,
              "#f0f921"
             ]
            ],
            "type": "heatmap"
           }
          ],
          "heatmapgl": [
           {
            "colorbar": {
             "outlinewidth": 0,
             "ticks": ""
            },
            "colorscale": [
             [
              0,
              "#0d0887"
             ],
             [
              0.1111111111111111,
              "#46039f"
             ],
             [
              0.2222222222222222,
              "#7201a8"
             ],
             [
              0.3333333333333333,
              "#9c179e"
             ],
             [
              0.4444444444444444,
              "#bd3786"
             ],
             [
              0.5555555555555556,
              "#d8576b"
             ],
             [
              0.6666666666666666,
              "#ed7953"
             ],
             [
              0.7777777777777778,
              "#fb9f3a"
             ],
             [
              0.8888888888888888,
              "#fdca26"
             ],
             [
              1,
              "#f0f921"
             ]
            ],
            "type": "heatmapgl"
           }
          ],
          "histogram": [
           {
            "marker": {
             "colorbar": {
              "outlinewidth": 0,
              "ticks": ""
             }
            },
            "type": "histogram"
           }
          ],
          "histogram2d": [
           {
            "colorbar": {
             "outlinewidth": 0,
             "ticks": ""
            },
            "colorscale": [
             [
              0,
              "#0d0887"
             ],
             [
              0.1111111111111111,
              "#46039f"
             ],
             [
              0.2222222222222222,
              "#7201a8"
             ],
             [
              0.3333333333333333,
              "#9c179e"
             ],
             [
              0.4444444444444444,
              "#bd3786"
             ],
             [
              0.5555555555555556,
              "#d8576b"
             ],
             [
              0.6666666666666666,
              "#ed7953"
             ],
             [
              0.7777777777777778,
              "#fb9f3a"
             ],
             [
              0.8888888888888888,
              "#fdca26"
             ],
             [
              1,
              "#f0f921"
             ]
            ],
            "type": "histogram2d"
           }
          ],
          "histogram2dcontour": [
           {
            "colorbar": {
             "outlinewidth": 0,
             "ticks": ""
            },
            "colorscale": [
             [
              0,
              "#0d0887"
             ],
             [
              0.1111111111111111,
              "#46039f"
             ],
             [
              0.2222222222222222,
              "#7201a8"
             ],
             [
              0.3333333333333333,
              "#9c179e"
             ],
             [
              0.4444444444444444,
              "#bd3786"
             ],
             [
              0.5555555555555556,
              "#d8576b"
             ],
             [
              0.6666666666666666,
              "#ed7953"
             ],
             [
              0.7777777777777778,
              "#fb9f3a"
             ],
             [
              0.8888888888888888,
              "#fdca26"
             ],
             [
              1,
              "#f0f921"
             ]
            ],
            "type": "histogram2dcontour"
           }
          ],
          "mesh3d": [
           {
            "colorbar": {
             "outlinewidth": 0,
             "ticks": ""
            },
            "type": "mesh3d"
           }
          ],
          "parcoords": [
           {
            "line": {
             "colorbar": {
              "outlinewidth": 0,
              "ticks": ""
             }
            },
            "type": "parcoords"
           }
          ],
          "pie": [
           {
            "automargin": true,
            "type": "pie"
           }
          ],
          "scatter": [
           {
            "marker": {
             "colorbar": {
              "outlinewidth": 0,
              "ticks": ""
             }
            },
            "type": "scatter"
           }
          ],
          "scatter3d": [
           {
            "line": {
             "colorbar": {
              "outlinewidth": 0,
              "ticks": ""
             }
            },
            "marker": {
             "colorbar": {
              "outlinewidth": 0,
              "ticks": ""
             }
            },
            "type": "scatter3d"
           }
          ],
          "scattercarpet": [
           {
            "marker": {
             "colorbar": {
              "outlinewidth": 0,
              "ticks": ""
             }
            },
            "type": "scattercarpet"
           }
          ],
          "scattergeo": [
           {
            "marker": {
             "colorbar": {
              "outlinewidth": 0,
              "ticks": ""
             }
            },
            "type": "scattergeo"
           }
          ],
          "scattergl": [
           {
            "marker": {
             "colorbar": {
              "outlinewidth": 0,
              "ticks": ""
             }
            },
            "type": "scattergl"
           }
          ],
          "scattermapbox": [
           {
            "marker": {
             "colorbar": {
              "outlinewidth": 0,
              "ticks": ""
             }
            },
            "type": "scattermapbox"
           }
          ],
          "scatterpolar": [
           {
            "marker": {
             "colorbar": {
              "outlinewidth": 0,
              "ticks": ""
             }
            },
            "type": "scatterpolar"
           }
          ],
          "scatterpolargl": [
           {
            "marker": {
             "colorbar": {
              "outlinewidth": 0,
              "ticks": ""
             }
            },
            "type": "scatterpolargl"
           }
          ],
          "scatterternary": [
           {
            "marker": {
             "colorbar": {
              "outlinewidth": 0,
              "ticks": ""
             }
            },
            "type": "scatterternary"
           }
          ],
          "surface": [
           {
            "colorbar": {
             "outlinewidth": 0,
             "ticks": ""
            },
            "colorscale": [
             [
              0,
              "#0d0887"
             ],
             [
              0.1111111111111111,
              "#46039f"
             ],
             [
              0.2222222222222222,
              "#7201a8"
             ],
             [
              0.3333333333333333,
              "#9c179e"
             ],
             [
              0.4444444444444444,
              "#bd3786"
             ],
             [
              0.5555555555555556,
              "#d8576b"
             ],
             [
              0.6666666666666666,
              "#ed7953"
             ],
             [
              0.7777777777777778,
              "#fb9f3a"
             ],
             [
              0.8888888888888888,
              "#fdca26"
             ],
             [
              1,
              "#f0f921"
             ]
            ],
            "type": "surface"
           }
          ],
          "table": [
           {
            "cells": {
             "fill": {
              "color": "#EBF0F8"
             },
             "line": {
              "color": "white"
             }
            },
            "header": {
             "fill": {
              "color": "#C8D4E3"
             },
             "line": {
              "color": "white"
             }
            },
            "type": "table"
           }
          ]
         },
         "layout": {
          "annotationdefaults": {
           "arrowcolor": "#2a3f5f",
           "arrowhead": 0,
           "arrowwidth": 1
          },
          "coloraxis": {
           "colorbar": {
            "outlinewidth": 0,
            "ticks": ""
           }
          },
          "colorscale": {
           "diverging": [
            [
             0,
             "#8e0152"
            ],
            [
             0.1,
             "#c51b7d"
            ],
            [
             0.2,
             "#de77ae"
            ],
            [
             0.3,
             "#f1b6da"
            ],
            [
             0.4,
             "#fde0ef"
            ],
            [
             0.5,
             "#f7f7f7"
            ],
            [
             0.6,
             "#e6f5d0"
            ],
            [
             0.7,
             "#b8e186"
            ],
            [
             0.8,
             "#7fbc41"
            ],
            [
             0.9,
             "#4d9221"
            ],
            [
             1,
             "#276419"
            ]
           ],
           "sequential": [
            [
             0,
             "#0d0887"
            ],
            [
             0.1111111111111111,
             "#46039f"
            ],
            [
             0.2222222222222222,
             "#7201a8"
            ],
            [
             0.3333333333333333,
             "#9c179e"
            ],
            [
             0.4444444444444444,
             "#bd3786"
            ],
            [
             0.5555555555555556,
             "#d8576b"
            ],
            [
             0.6666666666666666,
             "#ed7953"
            ],
            [
             0.7777777777777778,
             "#fb9f3a"
            ],
            [
             0.8888888888888888,
             "#fdca26"
            ],
            [
             1,
             "#f0f921"
            ]
           ],
           "sequentialminus": [
            [
             0,
             "#0d0887"
            ],
            [
             0.1111111111111111,
             "#46039f"
            ],
            [
             0.2222222222222222,
             "#7201a8"
            ],
            [
             0.3333333333333333,
             "#9c179e"
            ],
            [
             0.4444444444444444,
             "#bd3786"
            ],
            [
             0.5555555555555556,
             "#d8576b"
            ],
            [
             0.6666666666666666,
             "#ed7953"
            ],
            [
             0.7777777777777778,
             "#fb9f3a"
            ],
            [
             0.8888888888888888,
             "#fdca26"
            ],
            [
             1,
             "#f0f921"
            ]
           ]
          },
          "colorway": [
           "#636efa",
           "#EF553B",
           "#00cc96",
           "#ab63fa",
           "#FFA15A",
           "#19d3f3",
           "#FF6692",
           "#B6E880",
           "#FF97FF",
           "#FECB52"
          ],
          "font": {
           "color": "#2a3f5f"
          },
          "geo": {
           "bgcolor": "white",
           "lakecolor": "white",
           "landcolor": "#E5ECF6",
           "showlakes": true,
           "showland": true,
           "subunitcolor": "white"
          },
          "hoverlabel": {
           "align": "left"
          },
          "hovermode": "closest",
          "mapbox": {
           "style": "light"
          },
          "paper_bgcolor": "white",
          "plot_bgcolor": "#E5ECF6",
          "polar": {
           "angularaxis": {
            "gridcolor": "white",
            "linecolor": "white",
            "ticks": ""
           },
           "bgcolor": "#E5ECF6",
           "radialaxis": {
            "gridcolor": "white",
            "linecolor": "white",
            "ticks": ""
           }
          },
          "scene": {
           "xaxis": {
            "backgroundcolor": "#E5ECF6",
            "gridcolor": "white",
            "gridwidth": 2,
            "linecolor": "white",
            "showbackground": true,
            "ticks": "",
            "zerolinecolor": "white"
           },
           "yaxis": {
            "backgroundcolor": "#E5ECF6",
            "gridcolor": "white",
            "gridwidth": 2,
            "linecolor": "white",
            "showbackground": true,
            "ticks": "",
            "zerolinecolor": "white"
           },
           "zaxis": {
            "backgroundcolor": "#E5ECF6",
            "gridcolor": "white",
            "gridwidth": 2,
            "linecolor": "white",
            "showbackground": true,
            "ticks": "",
            "zerolinecolor": "white"
           }
          },
          "shapedefaults": {
           "line": {
            "color": "#2a3f5f"
           }
          },
          "ternary": {
           "aaxis": {
            "gridcolor": "white",
            "linecolor": "white",
            "ticks": ""
           },
           "baxis": {
            "gridcolor": "white",
            "linecolor": "white",
            "ticks": ""
           },
           "bgcolor": "#E5ECF6",
           "caxis": {
            "gridcolor": "white",
            "linecolor": "white",
            "ticks": ""
           }
          },
          "title": {
           "x": 0.05
          },
          "xaxis": {
           "automargin": true,
           "gridcolor": "white",
           "linecolor": "white",
           "ticks": "",
           "title": {
            "standoff": 15
           },
           "zerolinecolor": "white",
           "zerolinewidth": 2
          },
          "yaxis": {
           "automargin": true,
           "gridcolor": "white",
           "linecolor": "white",
           "ticks": "",
           "title": {
            "standoff": 15
           },
           "zerolinecolor": "white",
           "zerolinewidth": 2
          }
         }
        }
       }
      }
     },
     "metadata": {}
    }
   ],
   "source": [
    "# Parallel Categories Plot\n",
    "px.parallel_categories(\n",
    "    sfo_data_top_ten,\n",
    "    dimensions=[\"neighborhood\", \"sale_price_sqr_foot\", \"housing_units\", \"gross_rent\"],\n",
    "    color=\"sale_price_sqr_foot\",\n",
    "    color_continuous_scale=px.colors.sequential.Inferno,\n",
    "    labels={\n",
    "        \"neighborhood\": \"Neighborhood\",\n",
    "        \"sale_price_sqr_foot\": \"Sale Price Per Sqr Ft\",\n",
    "        \"housing_units\": \"Housing Units\",\n",
    "        \"gross_rent\": \"Gross Rent\"\n",
    "    },\n",
    ")\n"
   ]
  },
  {
   "cell_type": "markdown",
   "metadata": {},
   "source": [
    "- - - "
   ]
  },
  {
   "cell_type": "markdown",
   "metadata": {},
   "source": [
    "## Neighborhood Map\n",
    "\n",
    "In this section, you will read in neighboor location data and build an interactive map with the average prices per neighborhood. Use a scatter_mapbox from plotly express to create the visualization. Remember, you will need your mapbox api key for this."
   ]
  },
  {
   "cell_type": "markdown",
   "metadata": {},
   "source": [
    "### Load Location Data"
   ]
  },
  {
   "cell_type": "code",
   "execution_count": 16,
   "metadata": {},
   "outputs": [
    {
     "output_type": "execute_result",
     "data": {
      "text/plain": [
       "      Neighborhood        Lat         Lon\n",
       "0     Alamo Square  37.791012 -122.402100\n",
       "1       Anza Vista  37.779598 -122.443451\n",
       "2          Bayview  37.734670 -122.401060\n",
       "3  Bayview Heights  37.728740 -122.410980\n",
       "4   Bernal Heights  37.728630 -122.443050"
      ],
      "text/html": "<div>\n<style scoped>\n    .dataframe tbody tr th:only-of-type {\n        vertical-align: middle;\n    }\n\n    .dataframe tbody tr th {\n        vertical-align: top;\n    }\n\n    .dataframe thead th {\n        text-align: right;\n    }\n</style>\n<table border=\"1\" class=\"dataframe\">\n  <thead>\n    <tr style=\"text-align: right;\">\n      <th></th>\n      <th>Neighborhood</th>\n      <th>Lat</th>\n      <th>Lon</th>\n    </tr>\n  </thead>\n  <tbody>\n    <tr>\n      <th>0</th>\n      <td>Alamo Square</td>\n      <td>37.791012</td>\n      <td>-122.402100</td>\n    </tr>\n    <tr>\n      <th>1</th>\n      <td>Anza Vista</td>\n      <td>37.779598</td>\n      <td>-122.443451</td>\n    </tr>\n    <tr>\n      <th>2</th>\n      <td>Bayview</td>\n      <td>37.734670</td>\n      <td>-122.401060</td>\n    </tr>\n    <tr>\n      <th>3</th>\n      <td>Bayview Heights</td>\n      <td>37.728740</td>\n      <td>-122.410980</td>\n    </tr>\n    <tr>\n      <th>4</th>\n      <td>Bernal Heights</td>\n      <td>37.728630</td>\n      <td>-122.443050</td>\n    </tr>\n  </tbody>\n</table>\n</div>"
     },
     "metadata": {},
     "execution_count": 16
    }
   ],
   "source": [
    "# Load neighborhoods coordinates data\n",
    "file_path = Path(\"Data/neighborhoods_coordinates.csv\")\n",
    "df_neighborhood_locations = pd.read_csv(file_path)\n",
    "df_neighborhood_locations.head()"
   ]
  },
  {
   "cell_type": "markdown",
   "metadata": {},
   "source": [
    "### Data Preparation\n",
    "\n",
    "You will need to join the location data with the mean prices per neighborhood\n",
    "\n",
    "1. Calculate the mean values for each neighborhood\n",
    "2. Join the average values with the neighborhood locations"
   ]
  },
  {
   "cell_type": "code",
   "execution_count": 17,
   "metadata": {},
   "outputs": [
    {
     "output_type": "execute_result",
     "data": {
      "text/plain": [
       "      neighborhood  sale_price_sqr_foot  housing_units   gross_rent\n",
       "0     Alamo Square           366.020712       378401.0  2817.285714\n",
       "1       Anza Vista           373.382198       379050.0  3031.833333\n",
       "2          Bayview           204.588623       376454.0  2318.400000\n",
       "3  Bayview Heights           590.792839       382295.0  3739.000000\n",
       "4  Bernal Heights            576.746488       379374.5  3080.333333"
      ],
      "text/html": "<div>\n<style scoped>\n    .dataframe tbody tr th:only-of-type {\n        vertical-align: middle;\n    }\n\n    .dataframe tbody tr th {\n        vertical-align: top;\n    }\n\n    .dataframe thead th {\n        text-align: right;\n    }\n</style>\n<table border=\"1\" class=\"dataframe\">\n  <thead>\n    <tr style=\"text-align: right;\">\n      <th></th>\n      <th>neighborhood</th>\n      <th>sale_price_sqr_foot</th>\n      <th>housing_units</th>\n      <th>gross_rent</th>\n    </tr>\n  </thead>\n  <tbody>\n    <tr>\n      <th>0</th>\n      <td>Alamo Square</td>\n      <td>366.020712</td>\n      <td>378401.0</td>\n      <td>2817.285714</td>\n    </tr>\n    <tr>\n      <th>1</th>\n      <td>Anza Vista</td>\n      <td>373.382198</td>\n      <td>379050.0</td>\n      <td>3031.833333</td>\n    </tr>\n    <tr>\n      <th>2</th>\n      <td>Bayview</td>\n      <td>204.588623</td>\n      <td>376454.0</td>\n      <td>2318.400000</td>\n    </tr>\n    <tr>\n      <th>3</th>\n      <td>Bayview Heights</td>\n      <td>590.792839</td>\n      <td>382295.0</td>\n      <td>3739.000000</td>\n    </tr>\n    <tr>\n      <th>4</th>\n      <td>Bernal Heights</td>\n      <td>576.746488</td>\n      <td>379374.5</td>\n      <td>3080.333333</td>\n    </tr>\n  </tbody>\n</table>\n</div>"
     },
     "metadata": {},
     "execution_count": 17
    }
   ],
   "source": [
    "# Calculate the mean values for each neighborhood\n",
    "sfo_data_neighborhood = sfo_data_neighborhood.sort_values(by='neighborhood', ascending=True)\n",
    "sfo_data_neighborhood = sfo_data_neighborhood.reset_index()\n",
    "sfo_data_neighborhood.head()\n"
   ]
  },
  {
   "cell_type": "code",
   "execution_count": 18,
   "metadata": {},
   "outputs": [
    {
     "output_type": "execute_result",
     "data": {
      "text/plain": [
       "   sale_price_sqr_foot  housing_units   gross_rent     Neighborhood  \\\n",
       "0           366.020712       378401.0  2817.285714     Alamo Square   \n",
       "1           373.382198       379050.0  3031.833333       Anza Vista   \n",
       "2           204.588623       376454.0  2318.400000          Bayview   \n",
       "3           590.792839       382295.0  3739.000000  Bayview Heights   \n",
       "4           576.746488       379374.5  3080.333333   Bernal Heights   \n",
       "\n",
       "         Lat         Lon  \n",
       "0  37.791012 -122.402100  \n",
       "1  37.779598 -122.443451  \n",
       "2  37.734670 -122.401060  \n",
       "3  37.728740 -122.410980  \n",
       "4  37.728630 -122.443050  "
      ],
      "text/html": "<div>\n<style scoped>\n    .dataframe tbody tr th:only-of-type {\n        vertical-align: middle;\n    }\n\n    .dataframe tbody tr th {\n        vertical-align: top;\n    }\n\n    .dataframe thead th {\n        text-align: right;\n    }\n</style>\n<table border=\"1\" class=\"dataframe\">\n  <thead>\n    <tr style=\"text-align: right;\">\n      <th></th>\n      <th>sale_price_sqr_foot</th>\n      <th>housing_units</th>\n      <th>gross_rent</th>\n      <th>Neighborhood</th>\n      <th>Lat</th>\n      <th>Lon</th>\n    </tr>\n  </thead>\n  <tbody>\n    <tr>\n      <th>0</th>\n      <td>366.020712</td>\n      <td>378401.0</td>\n      <td>2817.285714</td>\n      <td>Alamo Square</td>\n      <td>37.791012</td>\n      <td>-122.402100</td>\n    </tr>\n    <tr>\n      <th>1</th>\n      <td>373.382198</td>\n      <td>379050.0</td>\n      <td>3031.833333</td>\n      <td>Anza Vista</td>\n      <td>37.779598</td>\n      <td>-122.443451</td>\n    </tr>\n    <tr>\n      <th>2</th>\n      <td>204.588623</td>\n      <td>376454.0</td>\n      <td>2318.400000</td>\n      <td>Bayview</td>\n      <td>37.734670</td>\n      <td>-122.401060</td>\n    </tr>\n    <tr>\n      <th>3</th>\n      <td>590.792839</td>\n      <td>382295.0</td>\n      <td>3739.000000</td>\n      <td>Bayview Heights</td>\n      <td>37.728740</td>\n      <td>-122.410980</td>\n    </tr>\n    <tr>\n      <th>4</th>\n      <td>576.746488</td>\n      <td>379374.5</td>\n      <td>3080.333333</td>\n      <td>Bernal Heights</td>\n      <td>37.728630</td>\n      <td>-122.443050</td>\n    </tr>\n  </tbody>\n</table>\n</div>"
     },
     "metadata": {},
     "execution_count": 18
    }
   ],
   "source": [
    "# Join the average values with the neighborhood locations\n",
    "sfo_data_neighborhood_coordinates = pd.concat([sfo_data_neighborhood, df_neighborhood_locations], axis='columns', join='inner')\n",
    "sfo_data_neighborhood_coordinates = sfo_data_neighborhood_coordinates.drop('neighborhood', axis=1)\n",
    "sfo_data_neighborhood_coordinates.head()\n"
   ]
  },
  {
   "cell_type": "markdown",
   "metadata": {},
   "source": [
    "### Mapbox Visualization\n",
    "\n",
    "Plot the aveage values per neighborhood with a plotly express scatter_mapbox visualization."
   ]
  },
  {
   "cell_type": "code",
   "execution_count": 19,
   "metadata": {},
   "outputs": [
    {
     "output_type": "display_data",
     "data": {
      "application/vnd.plotly.v1+json": {
       "config": {
        "plotlyServerURL": "https://plot.ly"
       },
       "data": [
        {
         "hovertemplate": "sale_price_sqr_foot=%{marker.size}<br>Lat=%{lat}<br>Lon=%{lon}<br>gross_rent=%{marker.color}<extra></extra>",
         "lat": [
          37.791012,
          37.779598,
          37.73467,
          37.72874,
          37.728629999999995,
          37.768159999999995,
          37.77789,
          37.74961,
          37.75331,
          37.78553,
          37.79298,
          37.7228,
          37.728629999999995,
          37.79101,
          37.76964,
          37.75554,
          37.72874,
          37.79101,
          37.79101,
          37.757059999999996,
          37.728629999999995,
          37.757912,
          37.76525,
          37.76525,
          37.72551,
          37.721160999999995,
          37.72116,
          37.75416,
          37.74961,
          37.769112,
          37.74961,
          37.78553,
          37.801520000000004,
          37.7789,
          37.79298,
          37.79972,
          37.71993,
          37.75331,
          37.73415,
          37.783229999999996,
          37.75184,
          37.728629999999995,
          37.79298,
          37.75331,
          37.80055,
          37.80055,
          37.71993,
          37.7228,
          37.7517,
          37.76911,
          37.74961,
          37.79298,
          37.72838,
          37.74961,
          37.76355,
          37.73467,
          37.73196,
          37.78553,
          37.79298,
          37.73467,
          37.783229999999996,
          37.79101,
          37.73415,
          37.80055,
          37.753311,
          37.79101,
          37.779509999999995,
          37.72874,
          37.74026,
          37.79298,
          37.7347,
          37.73415,
          37.79298
         ],
         "legendgroup": "",
         "lon": [
          -122.4021,
          -122.443451,
          -122.40106000000002,
          -122.41098000000001,
          -122.44305,
          -122.43933,
          -122.44516999999999,
          -122.48998999999999,
          -122.44703,
          -122.456,
          -122.43579,
          -122.43869,
          -122.44305,
          -122.4021,
          -122.42611000000001,
          -122.43778999999999,
          -122.41098000000001,
          -122.4021,
          -122.4021,
          -122.45508999999998,
          -122.44305,
          -122.46401999999999,
          -122.43596000000001,
          -122.43596000000001,
          -122.37178,
          -122.487068,
          -122.48706999999999,
          -122.41946999999999,
          -122.48998999999999,
          -122.483566,
          -122.48997,
          -122.456,
          -122.45456999999999,
          -122.45496000000001,
          -122.43579,
          -122.46688999999999,
          -122.46595,
          -122.44703,
          -122.45700000000001,
          -122.40065,
          -122.42522,
          -122.44305,
          -122.43579,
          -122.44703,
          -122.40433,
          -122.40433,
          -122.46595,
          -122.43869,
          -122.446,
          -122.48357,
          -122.48998999999999,
          -122.43579,
          -122.47851000000001,
          -122.48998999999999,
          -122.45765,
          -122.40106000000002,
          -122.38323999999999,
          -122.456,
          -122.43579,
          -122.40106000000002,
          -122.40065,
          -122.4021,
          -122.45700000000001,
          -122.40433,
          -122.447029,
          -122.4021,
          -122.42022,
          -122.41098000000001,
          -122.46388,
          -122.43579,
          -122.456854,
          -122.45700000000001,
          -122.39636000000002
         ],
         "marker": {
          "color": [
           2817.285714285714,
           3031.8333333333335,
           2318.4,
           3739,
           3080.3333333333335,
           2698.8333333333335,
           2817.285714285714,
           2817.285714285714,
           2250.5,
           2472,
           2817.285714285714,
           2698.8333333333335,
           2016,
           2817.285714285714,
           2780.25,
           2817.285714285714,
           3031.8333333333335,
           2817.285714285714,
           2472,
           1781.5,
           2899.5,
           2601.4,
           2817.285714285714,
           2817.285714285714,
           2489,
           2509,
           2960,
           2817.285714285714,
           3224,
           2817.285714285714,
           2817.285714285714,
           2817.285714285714,
           2555.1666666666665,
           2555.1666666666665,
           2817.285714285714,
           2817.285714285714,
           3414,
           2647.5,
           2155.25,
           2663.6666666666665,
           2555.1666666666665,
           3173.4,
           2817.285714285714,
           2817.285714285714,
           2990.8,
           2818.4,
           2434,
           2995.75,
           2817.285714285714,
           2817.285714285714,
           2817.285714285714,
           2817.285714285714,
           2817.285714285714,
           2555.1666666666665,
           2817.285714285714,
           2318.4,
           2817.285714285714,
           2817.285714285714,
           2817.285714285714,
           3528,
           2099,
           2817.285714285714,
           2899.5,
           2817.285714285714,
           2817.285714285714,
           2555.1666666666665,
           2817.285714285714,
           3657,
           2515.5,
           2555.1666666666665,
           2250.5,
           3959,
           2555.1666666666665
          ],
          "coloraxis": "coloraxis",
          "size": [
           366.02071153227644,
           373.38219782647707,
           204.58862288246596,
           590.7928388746802,
           576.7464881132382,
           452.6805909308442,
           394.4223987800589,
           423.6879277015824,
           487.2448860262575,
           587.5390673661739,
           665.964041578323,
           303.00418440849427,
           434.99173944522124,
           391.43437776742576,
           502.59915555623616,
           642.2486706357391,
           388.76592700230754,
           391.36253308010487,
           455.83621223779153,
           321.84083657398736,
           623.826177537435,
           639.3935574881156,
           449.5447622856192,
           355.9328279480578,
           170.62491987132685,
           367.8951440852775,
           384.7979281346048,
           397.67371473613446,
           519.3856038526768,
           378.59431396136455,
           413.66751546215943,
           529.3841850673389,
           409.95435219297514,
           478.2285530213679,
           539.2379688783261,
           583.7492694814549,
           788.8448175872469,
           550.5103482917151,
           779.810842264425,
           566.1922135483312,
           418.9156225067234,
           523.4662013248023,
           458.2040944846015,
           542.4429128151736,
           411.646875881678,
           498.26975500787677,
           330.0973846552545,
           242.37095202049667,
           485.0270126111035,
           473.90077331796317,
           394.21903228550775,
           689.5558168113664,
           373.732856371763,
           336.172661037069,
           632.740453508577,
           327.11392534647274,
           662.0136128276529,
           675.3502120510033,
           608.9832172374425,
           170.2925485152069,
           650.1244791945729,
           570.2714266991686,
           528.3183317138463,
           676.5065775293257,
           469.39862649935156,
           903.9932576720645,
           404.1501801622257,
           301.46617997450267,
           498.4884848295011,
           307.56220097996066,
           533.7039354359513,
           687.0875745178323,
           576.709848378276
          ],
          "sizemode": "area",
          "sizeref": 2.259983144180161
         },
         "mode": "markers",
         "name": "",
         "showlegend": false,
         "subplot": "mapbox",
         "type": "scattermapbox"
        }
       ],
       "layout": {
        "coloraxis": {
         "colorbar": {
          "title": {
           "text": "gross_rent"
          }
         },
         "colorscale": [
          [
           0,
           "#000000"
          ],
          [
           0.0625,
           "#001f4d"
          ],
          [
           0.125,
           "#003786"
          ],
          [
           0.1875,
           "#0e58a8"
          ],
          [
           0.25,
           "#217eb8"
          ],
          [
           0.3125,
           "#30a4ca"
          ],
          [
           0.375,
           "#54c8df"
          ],
          [
           0.4375,
           "#9be4ef"
          ],
          [
           0.5,
           "#e1e9d1"
          ],
          [
           0.5625,
           "#f3d573"
          ],
          [
           0.625,
           "#e7b000"
          ],
          [
           0.6875,
           "#da8200"
          ],
          [
           0.75,
           "#c65400"
          ],
          [
           0.8125,
           "#ac2301"
          ],
          [
           0.875,
           "#820000"
          ],
          [
           0.9375,
           "#4c0000"
          ],
          [
           1,
           "#000000"
          ]
         ]
        },
        "height": 500,
        "legend": {
         "itemsizing": "constant",
         "tracegroupgap": 0
        },
        "mapbox": {
         "accesstoken": "pk.eyJ1Ijoiam93ZW5zNTIwIiwiYSI6ImNrZzV5dnhqbDB6YjMycmxkcmU2NW5wYjUifQ.N--MP2PR9Yf2x8vnardMfA",
         "center": {
          "lat": 37.76019350684932,
          "lon": -122.43912380821916
         },
         "domain": {
          "x": [
           0,
           1
          ],
          "y": [
           0,
           1
          ]
         },
         "style": "basic",
         "zoom": 11
        },
        "template": {
         "data": {
          "bar": [
           {
            "error_x": {
             "color": "#2a3f5f"
            },
            "error_y": {
             "color": "#2a3f5f"
            },
            "marker": {
             "line": {
              "color": "#E5ECF6",
              "width": 0.5
             }
            },
            "type": "bar"
           }
          ],
          "barpolar": [
           {
            "marker": {
             "line": {
              "color": "#E5ECF6",
              "width": 0.5
             }
            },
            "type": "barpolar"
           }
          ],
          "carpet": [
           {
            "aaxis": {
             "endlinecolor": "#2a3f5f",
             "gridcolor": "white",
             "linecolor": "white",
             "minorgridcolor": "white",
             "startlinecolor": "#2a3f5f"
            },
            "baxis": {
             "endlinecolor": "#2a3f5f",
             "gridcolor": "white",
             "linecolor": "white",
             "minorgridcolor": "white",
             "startlinecolor": "#2a3f5f"
            },
            "type": "carpet"
           }
          ],
          "choropleth": [
           {
            "colorbar": {
             "outlinewidth": 0,
             "ticks": ""
            },
            "type": "choropleth"
           }
          ],
          "contour": [
           {
            "colorbar": {
             "outlinewidth": 0,
             "ticks": ""
            },
            "colorscale": [
             [
              0,
              "#0d0887"
             ],
             [
              0.1111111111111111,
              "#46039f"
             ],
             [
              0.2222222222222222,
              "#7201a8"
             ],
             [
              0.3333333333333333,
              "#9c179e"
             ],
             [
              0.4444444444444444,
              "#bd3786"
             ],
             [
              0.5555555555555556,
              "#d8576b"
             ],
             [
              0.6666666666666666,
              "#ed7953"
             ],
             [
              0.7777777777777778,
              "#fb9f3a"
             ],
             [
              0.8888888888888888,
              "#fdca26"
             ],
             [
              1,
              "#f0f921"
             ]
            ],
            "type": "contour"
           }
          ],
          "contourcarpet": [
           {
            "colorbar": {
             "outlinewidth": 0,
             "ticks": ""
            },
            "type": "contourcarpet"
           }
          ],
          "heatmap": [
           {
            "colorbar": {
             "outlinewidth": 0,
             "ticks": ""
            },
            "colorscale": [
             [
              0,
              "#0d0887"
             ],
             [
              0.1111111111111111,
              "#46039f"
             ],
             [
              0.2222222222222222,
              "#7201a8"
             ],
             [
              0.3333333333333333,
              "#9c179e"
             ],
             [
              0.4444444444444444,
              "#bd3786"
             ],
             [
              0.5555555555555556,
              "#d8576b"
             ],
             [
              0.6666666666666666,
              "#ed7953"
             ],
             [
              0.7777777777777778,
              "#fb9f3a"
             ],
             [
              0.8888888888888888,
              "#fdca26"
             ],
             [
              1,
              "#f0f921"
             ]
            ],
            "type": "heatmap"
           }
          ],
          "heatmapgl": [
           {
            "colorbar": {
             "outlinewidth": 0,
             "ticks": ""
            },
            "colorscale": [
             [
              0,
              "#0d0887"
             ],
             [
              0.1111111111111111,
              "#46039f"
             ],
             [
              0.2222222222222222,
              "#7201a8"
             ],
             [
              0.3333333333333333,
              "#9c179e"
             ],
             [
              0.4444444444444444,
              "#bd3786"
             ],
             [
              0.5555555555555556,
              "#d8576b"
             ],
             [
              0.6666666666666666,
              "#ed7953"
             ],
             [
              0.7777777777777778,
              "#fb9f3a"
             ],
             [
              0.8888888888888888,
              "#fdca26"
             ],
             [
              1,
              "#f0f921"
             ]
            ],
            "type": "heatmapgl"
           }
          ],
          "histogram": [
           {
            "marker": {
             "colorbar": {
              "outlinewidth": 0,
              "ticks": ""
             }
            },
            "type": "histogram"
           }
          ],
          "histogram2d": [
           {
            "colorbar": {
             "outlinewidth": 0,
             "ticks": ""
            },
            "colorscale": [
             [
              0,
              "#0d0887"
             ],
             [
              0.1111111111111111,
              "#46039f"
             ],
             [
              0.2222222222222222,
              "#7201a8"
             ],
             [
              0.3333333333333333,
              "#9c179e"
             ],
             [
              0.4444444444444444,
              "#bd3786"
             ],
             [
              0.5555555555555556,
              "#d8576b"
             ],
             [
              0.6666666666666666,
              "#ed7953"
             ],
             [
              0.7777777777777778,
              "#fb9f3a"
             ],
             [
              0.8888888888888888,
              "#fdca26"
             ],
             [
              1,
              "#f0f921"
             ]
            ],
            "type": "histogram2d"
           }
          ],
          "histogram2dcontour": [
           {
            "colorbar": {
             "outlinewidth": 0,
             "ticks": ""
            },
            "colorscale": [
             [
              0,
              "#0d0887"
             ],
             [
              0.1111111111111111,
              "#46039f"
             ],
             [
              0.2222222222222222,
              "#7201a8"
             ],
             [
              0.3333333333333333,
              "#9c179e"
             ],
             [
              0.4444444444444444,
              "#bd3786"
             ],
             [
              0.5555555555555556,
              "#d8576b"
             ],
             [
              0.6666666666666666,
              "#ed7953"
             ],
             [
              0.7777777777777778,
              "#fb9f3a"
             ],
             [
              0.8888888888888888,
              "#fdca26"
             ],
             [
              1,
              "#f0f921"
             ]
            ],
            "type": "histogram2dcontour"
           }
          ],
          "mesh3d": [
           {
            "colorbar": {
             "outlinewidth": 0,
             "ticks": ""
            },
            "type": "mesh3d"
           }
          ],
          "parcoords": [
           {
            "line": {
             "colorbar": {
              "outlinewidth": 0,
              "ticks": ""
             }
            },
            "type": "parcoords"
           }
          ],
          "pie": [
           {
            "automargin": true,
            "type": "pie"
           }
          ],
          "scatter": [
           {
            "marker": {
             "colorbar": {
              "outlinewidth": 0,
              "ticks": ""
             }
            },
            "type": "scatter"
           }
          ],
          "scatter3d": [
           {
            "line": {
             "colorbar": {
              "outlinewidth": 0,
              "ticks": ""
             }
            },
            "marker": {
             "colorbar": {
              "outlinewidth": 0,
              "ticks": ""
             }
            },
            "type": "scatter3d"
           }
          ],
          "scattercarpet": [
           {
            "marker": {
             "colorbar": {
              "outlinewidth": 0,
              "ticks": ""
             }
            },
            "type": "scattercarpet"
           }
          ],
          "scattergeo": [
           {
            "marker": {
             "colorbar": {
              "outlinewidth": 0,
              "ticks": ""
             }
            },
            "type": "scattergeo"
           }
          ],
          "scattergl": [
           {
            "marker": {
             "colorbar": {
              "outlinewidth": 0,
              "ticks": ""
             }
            },
            "type": "scattergl"
           }
          ],
          "scattermapbox": [
           {
            "marker": {
             "colorbar": {
              "outlinewidth": 0,
              "ticks": ""
             }
            },
            "type": "scattermapbox"
           }
          ],
          "scatterpolar": [
           {
            "marker": {
             "colorbar": {
              "outlinewidth": 0,
              "ticks": ""
             }
            },
            "type": "scatterpolar"
           }
          ],
          "scatterpolargl": [
           {
            "marker": {
             "colorbar": {
              "outlinewidth": 0,
              "ticks": ""
             }
            },
            "type": "scatterpolargl"
           }
          ],
          "scatterternary": [
           {
            "marker": {
             "colorbar": {
              "outlinewidth": 0,
              "ticks": ""
             }
            },
            "type": "scatterternary"
           }
          ],
          "surface": [
           {
            "colorbar": {
             "outlinewidth": 0,
             "ticks": ""
            },
            "colorscale": [
             [
              0,
              "#0d0887"
             ],
             [
              0.1111111111111111,
              "#46039f"
             ],
             [
              0.2222222222222222,
              "#7201a8"
             ],
             [
              0.3333333333333333,
              "#9c179e"
             ],
             [
              0.4444444444444444,
              "#bd3786"
             ],
             [
              0.5555555555555556,
              "#d8576b"
             ],
             [
              0.6666666666666666,
              "#ed7953"
             ],
             [
              0.7777777777777778,
              "#fb9f3a"
             ],
             [
              0.8888888888888888,
              "#fdca26"
             ],
             [
              1,
              "#f0f921"
             ]
            ],
            "type": "surface"
           }
          ],
          "table": [
           {
            "cells": {
             "fill": {
              "color": "#EBF0F8"
             },
             "line": {
              "color": "white"
             }
            },
            "header": {
             "fill": {
              "color": "#C8D4E3"
             },
             "line": {
              "color": "white"
             }
            },
            "type": "table"
           }
          ]
         },
         "layout": {
          "annotationdefaults": {
           "arrowcolor": "#2a3f5f",
           "arrowhead": 0,
           "arrowwidth": 1
          },
          "coloraxis": {
           "colorbar": {
            "outlinewidth": 0,
            "ticks": ""
           }
          },
          "colorscale": {
           "diverging": [
            [
             0,
             "#8e0152"
            ],
            [
             0.1,
             "#c51b7d"
            ],
            [
             0.2,
             "#de77ae"
            ],
            [
             0.3,
             "#f1b6da"
            ],
            [
             0.4,
             "#fde0ef"
            ],
            [
             0.5,
             "#f7f7f7"
            ],
            [
             0.6,
             "#e6f5d0"
            ],
            [
             0.7,
             "#b8e186"
            ],
            [
             0.8,
             "#7fbc41"
            ],
            [
             0.9,
             "#4d9221"
            ],
            [
             1,
             "#276419"
            ]
           ],
           "sequential": [
            [
             0,
             "#0d0887"
            ],
            [
             0.1111111111111111,
             "#46039f"
            ],
            [
             0.2222222222222222,
             "#7201a8"
            ],
            [
             0.3333333333333333,
             "#9c179e"
            ],
            [
             0.4444444444444444,
             "#bd3786"
            ],
            [
             0.5555555555555556,
             "#d8576b"
            ],
            [
             0.6666666666666666,
             "#ed7953"
            ],
            [
             0.7777777777777778,
             "#fb9f3a"
            ],
            [
             0.8888888888888888,
             "#fdca26"
            ],
            [
             1,
             "#f0f921"
            ]
           ],
           "sequentialminus": [
            [
             0,
             "#0d0887"
            ],
            [
             0.1111111111111111,
             "#46039f"
            ],
            [
             0.2222222222222222,
             "#7201a8"
            ],
            [
             0.3333333333333333,
             "#9c179e"
            ],
            [
             0.4444444444444444,
             "#bd3786"
            ],
            [
             0.5555555555555556,
             "#d8576b"
            ],
            [
             0.6666666666666666,
             "#ed7953"
            ],
            [
             0.7777777777777778,
             "#fb9f3a"
            ],
            [
             0.8888888888888888,
             "#fdca26"
            ],
            [
             1,
             "#f0f921"
            ]
           ]
          },
          "colorway": [
           "#636efa",
           "#EF553B",
           "#00cc96",
           "#ab63fa",
           "#FFA15A",
           "#19d3f3",
           "#FF6692",
           "#B6E880",
           "#FF97FF",
           "#FECB52"
          ],
          "font": {
           "color": "#2a3f5f"
          },
          "geo": {
           "bgcolor": "white",
           "lakecolor": "white",
           "landcolor": "#E5ECF6",
           "showlakes": true,
           "showland": true,
           "subunitcolor": "white"
          },
          "hoverlabel": {
           "align": "left"
          },
          "hovermode": "closest",
          "mapbox": {
           "style": "light"
          },
          "paper_bgcolor": "white",
          "plot_bgcolor": "#E5ECF6",
          "polar": {
           "angularaxis": {
            "gridcolor": "white",
            "linecolor": "white",
            "ticks": ""
           },
           "bgcolor": "#E5ECF6",
           "radialaxis": {
            "gridcolor": "white",
            "linecolor": "white",
            "ticks": ""
           }
          },
          "scene": {
           "xaxis": {
            "backgroundcolor": "#E5ECF6",
            "gridcolor": "white",
            "gridwidth": 2,
            "linecolor": "white",
            "showbackground": true,
            "ticks": "",
            "zerolinecolor": "white"
           },
           "yaxis": {
            "backgroundcolor": "#E5ECF6",
            "gridcolor": "white",
            "gridwidth": 2,
            "linecolor": "white",
            "showbackground": true,
            "ticks": "",
            "zerolinecolor": "white"
           },
           "zaxis": {
            "backgroundcolor": "#E5ECF6",
            "gridcolor": "white",
            "gridwidth": 2,
            "linecolor": "white",
            "showbackground": true,
            "ticks": "",
            "zerolinecolor": "white"
           }
          },
          "shapedefaults": {
           "line": {
            "color": "#2a3f5f"
           }
          },
          "ternary": {
           "aaxis": {
            "gridcolor": "white",
            "linecolor": "white",
            "ticks": ""
           },
           "baxis": {
            "gridcolor": "white",
            "linecolor": "white",
            "ticks": ""
           },
           "bgcolor": "#E5ECF6",
           "caxis": {
            "gridcolor": "white",
            "linecolor": "white",
            "ticks": ""
           }
          },
          "title": {
           "x": 0.05
          },
          "xaxis": {
           "automargin": true,
           "gridcolor": "white",
           "linecolor": "white",
           "ticks": "",
           "title": {
            "standoff": 15
           },
           "zerolinecolor": "white",
           "zerolinewidth": 2
          },
          "yaxis": {
           "automargin": true,
           "gridcolor": "white",
           "linecolor": "white",
           "ticks": "",
           "title": {
            "standoff": 15
           },
           "zerolinecolor": "white",
           "zerolinewidth": 2
          }
         }
        },
        "title": {
         "text": "Average Sale Price Per Square Foot and Gross Rent in San Francisco"
        }
       }
      }
     },
     "metadata": {}
    }
   ],
   "source": [
    "# Create a scatter mapbox to analyze neighborhood info\n",
    "neighborhood_map = px.scatter_mapbox(\n",
    "    sfo_data_neighborhood_coordinates,\n",
    "    lat=\"Lat\",\n",
    "    lon=\"Lon\",\n",
    "    size=\"sale_price_sqr_foot\",\n",
    "    color=\"gross_rent\",\n",
    "    color_continuous_scale=px.colors.cyclical.IceFire,\n",
    "    zoom=11,\n",
    "    mapbox_style=\"basic\",\n",
    "    title=\"Average Sale Price Per Square Foot and Gross Rent in San Francisco\",\n",
    "    height=500\n",
    ")\n",
    "\n",
    "# Display the map\n",
    "neighborhood_map.show()\n"
   ]
  },
  {
   "cell_type": "code",
   "execution_count": null,
   "metadata": {},
   "outputs": [],
   "source": []
  }
 ],
 "metadata": {
  "file_extension": ".py",
  "kernelspec": {
   "name": "Python 3.7.9 64-bit",
   "display_name": "Python 3.7.9 64-bit",
   "metadata": {
    "interpreter": {
     "hash": "ff898a576814a6948258c6a280b2b4b3234985999fc4b3b5c5881f334a02846f"
    }
   }
  },
  "language_info": {
   "codemirror_mode": {
    "name": "ipython",
    "version": 3
   },
   "file_extension": ".py",
   "mimetype": "text/x-python",
   "name": "python",
   "nbconvert_exporter": "python",
   "pygments_lexer": "ipython3",
   "version": "3.7.9-final"
  },
  "mimetype": "text/x-python",
  "name": "python",
  "npconvert_exporter": "python",
  "pygments_lexer": "ipython3",
  "version": 3
 },
 "nbformat": 4,
 "nbformat_minor": 4
}